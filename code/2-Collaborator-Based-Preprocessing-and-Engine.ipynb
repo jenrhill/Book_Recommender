{
 "cells": [
  {
   "cell_type": "markdown",
   "metadata": {},
   "source": [
    "<img align=\"left\" src=\"../assets/books.png\">\n",
    "\n",
    "# Book Recommender Engines\n",
    "\n",
    "## Part 2: Collaborator-Based Preprocessing and Engine<br>\n",
    "***"
   ]
  },
  {
   "cell_type": "markdown",
   "metadata": {},
   "source": [
    "#### Contents:\n",
    "- [Imports](#Imports)\n",
    "- [Reading in the Data](#Reading-in-the-Data)\n",
    "- [Preprocessing](#Preprocessing)\n",
    "  * [Pivot Table](#Pivot-Table)\n",
    "  * [Sparse Matrix](#Sparse-Matrix)\n",
    "- [Recommender](#Recommender)\n",
    "- [Evaluation of the Recommender Engine](#Evaluation-of-the-Recommender-Engine)"
   ]
  },
  {
   "cell_type": "markdown",
   "metadata": {},
   "source": [
    "### Imports"
   ]
  },
  {
   "cell_type": "code",
   "execution_count": 1,
   "metadata": {},
   "outputs": [],
   "source": [
    "#importing the packages\n",
    "import pandas as pd\n",
    "import sys\n",
    "from scipy import sparse \n",
    "from sklearn.metrics.pairwise import pairwise_distances, cosine_similarity\n",
    "\n",
    "#importing warnings to turn off future warnings\n",
    "import warnings\n",
    "warnings.simplefilter(action='ignore')"
   ]
  },
  {
   "cell_type": "markdown",
   "metadata": {},
   "source": [
    "### Preprocessing\n",
    "\n",
    "For preprocessing, I dropped the columns I didn't need, then convert the data into a pivot table. From there, I created a sparse matrix to help with keeping the file size from slowing down processing."
   ]
  },
  {
   "cell_type": "code",
   "execution_count": 2,
   "metadata": {},
   "outputs": [
    {
     "data": {
      "text/html": [
       "<div>\n",
       "<style scoped>\n",
       "    .dataframe tbody tr th:only-of-type {\n",
       "        vertical-align: middle;\n",
       "    }\n",
       "\n",
       "    .dataframe tbody tr th {\n",
       "        vertical-align: top;\n",
       "    }\n",
       "\n",
       "    .dataframe thead th {\n",
       "        text-align: right;\n",
       "    }\n",
       "</style>\n",
       "<table border=\"1\" class=\"dataframe\">\n",
       "  <thead>\n",
       "    <tr style=\"text-align: right;\">\n",
       "      <th></th>\n",
       "      <th>Unnamed: 0</th>\n",
       "      <th>User-ID</th>\n",
       "      <th>ISBN</th>\n",
       "      <th>Book-Rating</th>\n",
       "      <th>Book-Title</th>\n",
       "      <th>Book-Author</th>\n",
       "      <th>Year-Of-Publication</th>\n",
       "      <th>Publisher</th>\n",
       "    </tr>\n",
       "  </thead>\n",
       "  <tbody>\n",
       "    <tr>\n",
       "      <th>0</th>\n",
       "      <td>24</td>\n",
       "      <td>88006</td>\n",
       "      <td>1551669498</td>\n",
       "      <td>1</td>\n",
       "      <td>Girls Night</td>\n",
       "      <td>Stef Ann Holm</td>\n",
       "      <td>2002</td>\n",
       "      <td>Mira</td>\n",
       "    </tr>\n",
       "    <tr>\n",
       "      <th>1</th>\n",
       "      <td>25</td>\n",
       "      <td>76151</td>\n",
       "      <td>1551669498</td>\n",
       "      <td>2</td>\n",
       "      <td>Girls Night</td>\n",
       "      <td>Stef Ann Holm</td>\n",
       "      <td>2002</td>\n",
       "      <td>Mira</td>\n",
       "    </tr>\n",
       "    <tr>\n",
       "      <th>2</th>\n",
       "      <td>26</td>\n",
       "      <td>229011</td>\n",
       "      <td>1551669498</td>\n",
       "      <td>3</td>\n",
       "      <td>Girls Night</td>\n",
       "      <td>Stef Ann Holm</td>\n",
       "      <td>2002</td>\n",
       "      <td>Mira</td>\n",
       "    </tr>\n",
       "    <tr>\n",
       "      <th>3</th>\n",
       "      <td>27</td>\n",
       "      <td>28700</td>\n",
       "      <td>1551669498</td>\n",
       "      <td>6</td>\n",
       "      <td>Girls Night</td>\n",
       "      <td>Stef Ann Holm</td>\n",
       "      <td>2002</td>\n",
       "      <td>Mira</td>\n",
       "    </tr>\n",
       "    <tr>\n",
       "      <th>4</th>\n",
       "      <td>28</td>\n",
       "      <td>47866</td>\n",
       "      <td>1551669498</td>\n",
       "      <td>7</td>\n",
       "      <td>Girls Night</td>\n",
       "      <td>Stef Ann Holm</td>\n",
       "      <td>2002</td>\n",
       "      <td>Mira</td>\n",
       "    </tr>\n",
       "  </tbody>\n",
       "</table>\n",
       "</div>"
      ],
      "text/plain": [
       "   Unnamed: 0  User-ID        ISBN  Book-Rating   Book-Title    Book-Author  \\\n",
       "0          24    88006  1551669498            1  Girls Night  Stef Ann Holm   \n",
       "1          25    76151  1551669498            2  Girls Night  Stef Ann Holm   \n",
       "2          26   229011  1551669498            3  Girls Night  Stef Ann Holm   \n",
       "3          27    28700  1551669498            6  Girls Night  Stef Ann Holm   \n",
       "4          28    47866  1551669498            7  Girls Night  Stef Ann Holm   \n",
       "\n",
       "  Year-Of-Publication Publisher  \n",
       "0                2002      Mira  \n",
       "1                2002      Mira  \n",
       "2                2002      Mira  \n",
       "3                2002      Mira  \n",
       "4                2002      Mira  "
      ]
     },
     "execution_count": 2,
     "metadata": {},
     "output_type": "execute_result"
    }
   ],
   "source": [
    "#reading in the data\n",
    "explicit_ratings = pd.read_csv('../datasets/book_crossing/explicit_ratings.csv')\n",
    "explicit_ratings.head()"
   ]
  },
  {
   "cell_type": "markdown",
   "metadata": {},
   "source": [
    "For a user based recommender, I only need the user, rating, and title, so I'm going to drop the others."
   ]
  },
  {
   "cell_type": "code",
   "execution_count": 19,
   "metadata": {},
   "outputs": [],
   "source": [
    "#Dropping unneeded columns\n",
    "explicit_ratings.drop(['Unnamed: 0','ISBN', 'Book-Author', 'Year-Of-Publication', 'Publisher'], 1,  inplace=True)"
   ]
  },
  {
   "cell_type": "markdown",
   "metadata": {},
   "source": [
    "This is too much data for a pivot table though, so let's pull those who have more than 200 ratings and see if that's small enough a set to create a pivot table."
   ]
  },
  {
   "cell_type": "code",
   "execution_count": 20,
   "metadata": {},
   "outputs": [],
   "source": [
    "#Creating a sample of users\n",
    "user_counts = explicit_ratings['User-ID'].value_counts()\n",
    "sample_ratings = explicit_ratings[explicit_ratings['User-ID'].isin(user_counts[user_counts >= 200].index)]"
   ]
  },
  {
   "cell_type": "code",
   "execution_count": 21,
   "metadata": {},
   "outputs": [
    {
     "data": {
      "text/plain": [
       "(42747, 3)"
      ]
     },
     "execution_count": 21,
     "metadata": {},
     "output_type": "execute_result"
    }
   ],
   "source": [
    "#checking out the shape of the sample size\n",
    "sample_ratings.shape"
   ]
  },
  {
   "cell_type": "markdown",
   "metadata": {},
   "source": [
    "### Pivot Table"
   ]
  },
  {
   "cell_type": "code",
   "execution_count": 22,
   "metadata": {},
   "outputs": [],
   "source": [
    "#seeing if my sample size is small enough to create a pivot table\n",
    "pivot = sample_ratings.pivot_table(index='Book-Title', columns='User-ID', values='Book-Rating')"
   ]
  },
  {
   "cell_type": "code",
   "execution_count": 23,
   "metadata": {},
   "outputs": [
    {
     "data": {
      "text/plain": [
       "(34466, 80)"
      ]
     },
     "execution_count": 23,
     "metadata": {},
     "output_type": "execute_result"
    }
   ],
   "source": [
    "#it worked, and I want to check out the updated size\n",
    "pivot.shape"
   ]
  },
  {
   "cell_type": "markdown",
   "metadata": {},
   "source": [
    "### Sparse Matrix\n",
    "\n",
    "The file size is large and it can slow down memory with calculating distance in pairwise, so I am converting it from a pandas dataframe to a sparse dataframe. "
   ]
  },
  {
   "cell_type": "code",
   "execution_count": 24,
   "metadata": {},
   "outputs": [
    {
     "data": {
      "text/plain": [
       "25245407"
      ]
     },
     "execution_count": 24,
     "metadata": {},
     "output_type": "execute_result"
    }
   ],
   "source": [
    "#getting the size of the pivot file\n",
    "sys.getsizeof(pivot)"
   ]
  },
  {
   "cell_type": "code",
   "execution_count": 25,
   "metadata": {},
   "outputs": [],
   "source": [
    "#preprocessing step of converting nans to zeros.\n",
    "pivot_sparse = sparse.csr_matrix(pivot.fillna(0))"
   ]
  },
  {
   "cell_type": "code",
   "execution_count": 26,
   "metadata": {},
   "outputs": [
    {
     "data": {
      "text/plain": [
       "56"
      ]
     },
     "execution_count": 26,
     "metadata": {},
     "output_type": "execute_result"
    }
   ],
   "source": [
    "#getting the updated file size\n",
    "sys.getsizeof(pivot_sparse)"
   ]
  },
  {
   "cell_type": "markdown",
   "metadata": {},
   "source": [
    "### Recommender\n",
    "\n",
    "To calculate cosine similarity I tried sklearns metrics pairwise distances and cosine similarity and got very similar results. However, cosine similarity ran faster on my computer so I stuck with that. "
   ]
  },
  {
   "cell_type": "code",
   "execution_count": 27,
   "metadata": {},
   "outputs": [],
   "source": [
    "#setting up the recommender \n",
    "recommender = cosine_similarity(pivot_sparse)"
   ]
  },
  {
   "cell_type": "code",
   "execution_count": 28,
   "metadata": {},
   "outputs": [
    {
     "data": {
      "text/plain": [
       "(34466, 34466)"
      ]
     },
     "execution_count": 28,
     "metadata": {},
     "output_type": "execute_result"
    }
   ],
   "source": [
    "#verifying the shape of the engine to make sure the numbers are the same\n",
    "recommender.shape"
   ]
  },
  {
   "cell_type": "code",
   "execution_count": 29,
   "metadata": {},
   "outputs": [
    {
     "data": {
      "text/html": [
       "<div>\n",
       "<style scoped>\n",
       "    .dataframe tbody tr th:only-of-type {\n",
       "        vertical-align: middle;\n",
       "    }\n",
       "\n",
       "    .dataframe tbody tr th {\n",
       "        vertical-align: top;\n",
       "    }\n",
       "\n",
       "    .dataframe thead th {\n",
       "        text-align: right;\n",
       "    }\n",
       "</style>\n",
       "<table border=\"1\" class=\"dataframe\">\n",
       "  <thead>\n",
       "    <tr style=\"text-align: right;\">\n",
       "      <th>Book-Title</th>\n",
       "      <th>Dark Justice</th>\n",
       "      <th>Final Fantasy Anthology: Official Strategy Guide (Brady Games)</th>\n",
       "      <th>Good Wives: Image and Reality in the Lives of Women in Northern New England</th>\n",
       "      <th>Highland Desire (Zebra Splendor Historical Romances)</th>\n",
       "      <th>Murder of a Sleeping Beauty (Scumble River Mysteries (Paperback))</th>\n",
       "      <th>Nonbook Materials: The Organization of Integrated Collections</th>\n",
       "      <th>This Place Has No Atmosphere (Laurel-Leaf Books)</th>\n",
       "      <th>!Arriba! Comunicacion y cultura</th>\n",
       "      <th>!Trato hecho!: Spanish for Real Life</th>\n",
       "      <th>$14 In The Bank (Cathy Collection)</th>\n",
       "      <th>...</th>\n",
       "      <th>street bible</th>\n",
       "      <th>termcap &amp; terminfo (O'Reilly Nutshell)</th>\n",
       "      <th>the Dark Light Years</th>\n",
       "      <th>them (Modern Library)</th>\n",
       "      <th>together by christmas</th>\n",
       "      <th>wet sand</th>\n",
       "      <th>whataboutrick.com: a poetic tribute to Richard A. Ricci</th>\n",
       "      <th>Â¡Corre</th>\n",
       "      <th>Â¿Eres tu mi mamÃ¡?/Are You My Mother?</th>\n",
       "      <th>Ã?Â?ber das Fernsehen.</th>\n",
       "    </tr>\n",
       "    <tr>\n",
       "      <th>Book-Title</th>\n",
       "      <th></th>\n",
       "      <th></th>\n",
       "      <th></th>\n",
       "      <th></th>\n",
       "      <th></th>\n",
       "      <th></th>\n",
       "      <th></th>\n",
       "      <th></th>\n",
       "      <th></th>\n",
       "      <th></th>\n",
       "      <th></th>\n",
       "      <th></th>\n",
       "      <th></th>\n",
       "      <th></th>\n",
       "      <th></th>\n",
       "      <th></th>\n",
       "      <th></th>\n",
       "      <th></th>\n",
       "      <th></th>\n",
       "      <th></th>\n",
       "      <th></th>\n",
       "    </tr>\n",
       "  </thead>\n",
       "  <tbody>\n",
       "    <tr>\n",
       "      <th>Dark Justice</th>\n",
       "      <td>1.0</td>\n",
       "      <td>0.0</td>\n",
       "      <td>0.0</td>\n",
       "      <td>0.0</td>\n",
       "      <td>0.747409</td>\n",
       "      <td>0.0</td>\n",
       "      <td>0.0</td>\n",
       "      <td>0.0</td>\n",
       "      <td>0.0</td>\n",
       "      <td>0.0</td>\n",
       "      <td>...</td>\n",
       "      <td>0.0</td>\n",
       "      <td>0.0</td>\n",
       "      <td>0.0</td>\n",
       "      <td>0.0</td>\n",
       "      <td>0.613572</td>\n",
       "      <td>0.0</td>\n",
       "      <td>0.0</td>\n",
       "      <td>0.0</td>\n",
       "      <td>0.0</td>\n",
       "      <td>0.0</td>\n",
       "    </tr>\n",
       "    <tr>\n",
       "      <th>Final Fantasy Anthology: Official Strategy Guide (Brady Games)</th>\n",
       "      <td>0.0</td>\n",
       "      <td>1.0</td>\n",
       "      <td>0.0</td>\n",
       "      <td>0.0</td>\n",
       "      <td>0.000000</td>\n",
       "      <td>0.0</td>\n",
       "      <td>0.0</td>\n",
       "      <td>0.0</td>\n",
       "      <td>0.0</td>\n",
       "      <td>0.0</td>\n",
       "      <td>...</td>\n",
       "      <td>0.0</td>\n",
       "      <td>0.0</td>\n",
       "      <td>0.0</td>\n",
       "      <td>0.0</td>\n",
       "      <td>0.000000</td>\n",
       "      <td>0.0</td>\n",
       "      <td>0.0</td>\n",
       "      <td>0.0</td>\n",
       "      <td>0.0</td>\n",
       "      <td>0.0</td>\n",
       "    </tr>\n",
       "    <tr>\n",
       "      <th>Good Wives: Image and Reality in the Lives of Women in Northern New England</th>\n",
       "      <td>0.0</td>\n",
       "      <td>0.0</td>\n",
       "      <td>1.0</td>\n",
       "      <td>0.0</td>\n",
       "      <td>0.000000</td>\n",
       "      <td>0.0</td>\n",
       "      <td>0.0</td>\n",
       "      <td>0.0</td>\n",
       "      <td>0.0</td>\n",
       "      <td>0.0</td>\n",
       "      <td>...</td>\n",
       "      <td>0.0</td>\n",
       "      <td>0.0</td>\n",
       "      <td>0.0</td>\n",
       "      <td>0.0</td>\n",
       "      <td>0.000000</td>\n",
       "      <td>0.0</td>\n",
       "      <td>0.0</td>\n",
       "      <td>0.0</td>\n",
       "      <td>0.0</td>\n",
       "      <td>0.0</td>\n",
       "    </tr>\n",
       "  </tbody>\n",
       "</table>\n",
       "<p>3 rows × 34466 columns</p>\n",
       "</div>"
      ],
      "text/plain": [
       "Book-Title                                                                     Dark Justice  \\\n",
       "Book-Title                                                                                    \n",
       " Dark Justice                                                                 1.0             \n",
       " Final Fantasy Anthology: Official Strategy Guide (Brady Games)               0.0             \n",
       " Good Wives: Image and Reality in the Lives of Women in Northern New England  0.0             \n",
       "\n",
       "Book-Title                                                                     Final Fantasy Anthology: Official Strategy Guide (Brady Games)  \\\n",
       "Book-Title                                                                                                                                      \n",
       " Dark Justice                                                                 0.0                                                               \n",
       " Final Fantasy Anthology: Official Strategy Guide (Brady Games)               1.0                                                               \n",
       " Good Wives: Image and Reality in the Lives of Women in Northern New England  0.0                                                               \n",
       "\n",
       "Book-Title                                                                     Good Wives: Image and Reality in the Lives of Women in Northern New England  \\\n",
       "Book-Title                                                                                                                                                   \n",
       " Dark Justice                                                                 0.0                                                                            \n",
       " Final Fantasy Anthology: Official Strategy Guide (Brady Games)               0.0                                                                            \n",
       " Good Wives: Image and Reality in the Lives of Women in Northern New England  1.0                                                                            \n",
       "\n",
       "Book-Title                                                                     Highland Desire (Zebra Splendor Historical Romances)  \\\n",
       "Book-Title                                                                                                                            \n",
       " Dark Justice                                                                 0.0                                                     \n",
       " Final Fantasy Anthology: Official Strategy Guide (Brady Games)               0.0                                                     \n",
       " Good Wives: Image and Reality in the Lives of Women in Northern New England  0.0                                                     \n",
       "\n",
       "Book-Title                                                                     Murder of a Sleeping Beauty (Scumble River Mysteries (Paperback))  \\\n",
       "Book-Title                                                                                                                                         \n",
       " Dark Justice                                                                 0.747409                                                             \n",
       " Final Fantasy Anthology: Official Strategy Guide (Brady Games)               0.000000                                                             \n",
       " Good Wives: Image and Reality in the Lives of Women in Northern New England  0.000000                                                             \n",
       "\n",
       "Book-Title                                                                     Nonbook Materials: The Organization of Integrated Collections  \\\n",
       "Book-Title                                                                                                                                     \n",
       " Dark Justice                                                                 0.0                                                              \n",
       " Final Fantasy Anthology: Official Strategy Guide (Brady Games)               0.0                                                              \n",
       " Good Wives: Image and Reality in the Lives of Women in Northern New England  0.0                                                              \n",
       "\n",
       "Book-Title                                                                     This Place Has No Atmosphere (Laurel-Leaf Books)  \\\n",
       "Book-Title                                                                                                                        \n",
       " Dark Justice                                                                 0.0                                                 \n",
       " Final Fantasy Anthology: Official Strategy Guide (Brady Games)               0.0                                                 \n",
       " Good Wives: Image and Reality in the Lives of Women in Northern New England  0.0                                                 \n",
       "\n",
       "Book-Title                                                                    !Arriba! Comunicacion y cultura  \\\n",
       "Book-Title                                                                                                      \n",
       " Dark Justice                                                                 0.0                               \n",
       " Final Fantasy Anthology: Official Strategy Guide (Brady Games)               0.0                               \n",
       " Good Wives: Image and Reality in the Lives of Women in Northern New England  0.0                               \n",
       "\n",
       "Book-Title                                                                    !Trato hecho!: Spanish for Real Life  \\\n",
       "Book-Title                                                                                                           \n",
       " Dark Justice                                                                 0.0                                    \n",
       " Final Fantasy Anthology: Official Strategy Guide (Brady Games)               0.0                                    \n",
       " Good Wives: Image and Reality in the Lives of Women in Northern New England  0.0                                    \n",
       "\n",
       "Book-Title                                                                    $14 In The Bank (Cathy Collection)  \\\n",
       "Book-Title                                                                                                         \n",
       " Dark Justice                                                                 0.0                                  \n",
       " Final Fantasy Anthology: Official Strategy Guide (Brady Games)               0.0                                  \n",
       " Good Wives: Image and Reality in the Lives of Women in Northern New England  0.0                                  \n",
       "\n",
       "Book-Title                                                                    ...  \\\n",
       "Book-Title                                                                    ...   \n",
       " Dark Justice                                                                 ...   \n",
       " Final Fantasy Anthology: Official Strategy Guide (Brady Games)               ...   \n",
       " Good Wives: Image and Reality in the Lives of Women in Northern New England  ...   \n",
       "\n",
       "Book-Title                                                                    street bible  \\\n",
       "Book-Title                                                                                   \n",
       " Dark Justice                                                                 0.0            \n",
       " Final Fantasy Anthology: Official Strategy Guide (Brady Games)               0.0            \n",
       " Good Wives: Image and Reality in the Lives of Women in Northern New England  0.0            \n",
       "\n",
       "Book-Title                                                                    termcap & terminfo (O'Reilly Nutshell)  \\\n",
       "Book-Title                                                                                                             \n",
       " Dark Justice                                                                 0.0                                      \n",
       " Final Fantasy Anthology: Official Strategy Guide (Brady Games)               0.0                                      \n",
       " Good Wives: Image and Reality in the Lives of Women in Northern New England  0.0                                      \n",
       "\n",
       "Book-Title                                                                    the Dark Light Years  \\\n",
       "Book-Title                                                                                           \n",
       " Dark Justice                                                                 0.0                    \n",
       " Final Fantasy Anthology: Official Strategy Guide (Brady Games)               0.0                    \n",
       " Good Wives: Image and Reality in the Lives of Women in Northern New England  0.0                    \n",
       "\n",
       "Book-Title                                                                    them (Modern Library)  \\\n",
       "Book-Title                                                                                            \n",
       " Dark Justice                                                                 0.0                     \n",
       " Final Fantasy Anthology: Official Strategy Guide (Brady Games)               0.0                     \n",
       " Good Wives: Image and Reality in the Lives of Women in Northern New England  0.0                     \n",
       "\n",
       "Book-Title                                                                    together by christmas  \\\n",
       "Book-Title                                                                                            \n",
       " Dark Justice                                                                 0.613572                \n",
       " Final Fantasy Anthology: Official Strategy Guide (Brady Games)               0.000000                \n",
       " Good Wives: Image and Reality in the Lives of Women in Northern New England  0.000000                \n",
       "\n",
       "Book-Title                                                                    wet sand  \\\n",
       "Book-Title                                                                               \n",
       " Dark Justice                                                                 0.0        \n",
       " Final Fantasy Anthology: Official Strategy Guide (Brady Games)               0.0        \n",
       " Good Wives: Image and Reality in the Lives of Women in Northern New England  0.0        \n",
       "\n",
       "Book-Title                                                                    whataboutrick.com: a poetic tribute to Richard A. Ricci  \\\n",
       "Book-Title                                                                                                                              \n",
       " Dark Justice                                                                 0.0                                                       \n",
       " Final Fantasy Anthology: Official Strategy Guide (Brady Games)               0.0                                                       \n",
       " Good Wives: Image and Reality in the Lives of Women in Northern New England  0.0                                                       \n",
       "\n",
       "Book-Title                                                                    Â¡Corre  \\\n",
       "Book-Title                                                                              \n",
       " Dark Justice                                                                 0.0       \n",
       " Final Fantasy Anthology: Official Strategy Guide (Brady Games)               0.0       \n",
       " Good Wives: Image and Reality in the Lives of Women in Northern New England  0.0       \n",
       "\n",
       "Book-Title                                                                    Â¿Eres tu mi mamÃ¡?/Are You My Mother?  \\\n",
       "Book-Title                                                                                                             \n",
       " Dark Justice                                                                 0.0                                      \n",
       " Final Fantasy Anthology: Official Strategy Guide (Brady Games)               0.0                                      \n",
       " Good Wives: Image and Reality in the Lives of Women in Northern New England  0.0                                      \n",
       "\n",
       "Book-Title                                                                    Ã?Â?ber das Fernsehen.  \n",
       "Book-Title                                                                                            \n",
       " Dark Justice                                                                 0.0                     \n",
       " Final Fantasy Anthology: Official Strategy Guide (Brady Games)               0.0                     \n",
       " Good Wives: Image and Reality in the Lives of Women in Northern New England  0.0                     \n",
       "\n",
       "[3 rows x 34466 columns]"
      ]
     },
     "execution_count": 29,
     "metadata": {},
     "output_type": "execute_result"
    }
   ],
   "source": [
    "#creating a dataframe to bring the title names back into view\n",
    "recommender_df = pd.DataFrame(recommender, columns=pivot.index, index=pivot.index)\n",
    "recommender_df.head(3)"
   ]
  },
  {
   "cell_type": "markdown",
   "metadata": {},
   "source": [
    "### Evaluation of the Recommender Engine\n",
    "\n",
    "For evaluating the engine, I ran searches on a variety of titles in different genres to see what would show up. What follows first is a search tool that can be used to find titles. You have to enter the title exactly as listed to find books that are similar to it, so the next cells are handy for that."
   ]
  },
  {
   "cell_type": "code",
   "execution_count": 30,
   "metadata": {},
   "outputs": [],
   "source": [
    "#setting the columns so we can see the full titles\n",
    "pd.set_option('display.max_colwidth', -1)"
   ]
  },
  {
   "cell_type": "markdown",
   "metadata": {},
   "source": [
    "This following is code to help find how the title is listed, adjusting the head value will give you more listed options if there are any, which there can be especially with foreign versions of titles."
   ]
  },
  {
   "cell_type": "code",
   "execution_count": 55,
   "metadata": {},
   "outputs": [
    {
     "data": {
      "text/plain": [
       "54339     Dark Justice (Ben Kincaid)\n",
       "209842    Dark Justice              \n",
       "209843    Dark Justice              \n",
       "284668     Dark Justice             \n",
       "Name: Book-Title, dtype: object"
      ]
     },
     "execution_count": 55,
     "metadata": {},
     "output_type": "execute_result"
    }
   ],
   "source": [
    "#Code to search for titles\n",
    "q = 'Dark Justice'\n",
    "explicit_ratings[explicit_ratings['Book-Title'].str.contains(q)]['Book-Title'].head()"
   ]
  },
  {
   "cell_type": "code",
   "execution_count": 31,
   "metadata": {
    "scrolled": true
   },
   "outputs": [
    {
     "data": {
      "text/plain": [
       "Book-Title\n",
       "Empire Falls                                     0.588190\n",
       "Running with Scissors: A Memoir                  0.545046\n",
       "Nights in Rodanthe                               0.533569\n",
       "Name of the Rose-Nla                             0.518736\n",
       "The Nanny Diaries: A Novel                       0.517222\n",
       "Fried Green Tomatoes at the Whistle Stop Cafe    0.507825\n",
       "No Second  Chance                                0.507359\n",
       "Club Dead (Southern Vampire Mysteries)           0.506466\n",
       "Eyes of Prey                                     0.503926\n",
       "The Liar's Club: A Memoir                        0.492674\n",
       "Name: The Lovely Bones: A Novel, dtype: float64"
      ]
     },
     "execution_count": 31,
     "metadata": {},
     "output_type": "execute_result"
    }
   ],
   "source": [
    "#Looking up recommendations for those who liked The Lovely Bones:\n",
    "recommender_df['The Lovely Bones: A Novel'].sort_values(ascending=False)[1:11]"
   ]
  },
  {
   "cell_type": "code",
   "execution_count": 32,
   "metadata": {},
   "outputs": [
    {
     "data": {
      "text/plain": [
       "Book-Title\n",
       "Animal Farm                                                             0.495847\n",
       "One Day in the Life of Ivan Denisovich (Signet Classics (Paperback))    0.484952\n",
       "Rumble Fish (Laurel-Leaf Contemporary Fiction)                          0.473494\n",
       "Looking for Rachel Wallace                                              0.471411\n",
       "Dinky Hocker Shoots                                                     0.467858\n",
       "The Widening Gyre                                                       0.451176\n",
       "The \\LATE NIGHT WITH DAVID LETTERMAN\\\" BOOK OF TOP TEN LISTS\"           0.451176\n",
       "Flowers for Algernon (Bantam Classic)                                   0.451176\n",
       "Vale of the Vole (Xanth)                                                0.451088\n",
       "The Kalahari Typing School for Men (No. 1 Ladies' Detective Agency)     0.450596\n",
       "Name: To Kill a Mockingbird, dtype: float64"
      ]
     },
     "execution_count": 32,
     "metadata": {},
     "output_type": "execute_result"
    }
   ],
   "source": [
    "#Looking up recommendations for those who liked The Secret Life of Bees:\n",
    "recommender_df['To Kill a Mockingbird'].sort_values(ascending=False)[1:11]"
   ]
  },
  {
   "cell_type": "code",
   "execution_count": 33,
   "metadata": {},
   "outputs": [
    {
     "data": {
      "text/plain": [
       "Book-Title\n",
       "And That's My Final Offer! (His A Doonesbury book)    0.997785\n",
       "A Pirate Looks at Fifty                               0.993884\n",
       "Mars Crossing                                         0.986394\n",
       "National LampoonPresents True Facts: the Book         0.980581\n",
       "Einstein's Bridge                                     0.974391\n",
       "House Atreides (Dune: House Trilogy                   0.767982\n",
       "Still Pumped From Using The Mouse                     0.727825\n",
       "It Came From The Far Side                             0.719425\n",
       "Yukon Ho!                                             0.714563\n",
       "Die letzte VerschwÃ?Â¶rung. Roman.                    0.707107\n",
       "Name: Dune, dtype: float64"
      ]
     },
     "execution_count": 33,
     "metadata": {},
     "output_type": "execute_result"
    }
   ],
   "source": [
    "#Looking up recommendations for those who liked Dune:\n",
    "recommender_df['Dune'].sort_values(ascending=False)[1:11]"
   ]
  },
  {
   "cell_type": "code",
   "execution_count": 34,
   "metadata": {},
   "outputs": [
    {
     "data": {
      "text/plain": [
       "Book-Title\n",
       "The Tale of the Body Thief (Vampire Chronicles (Paperback))    0.695873\n",
       "Seinlanguage                                                   0.631424\n",
       "Candide (Candide)                                              0.579207\n",
       "BEST AMERICAN POETRY 1993                                      0.552866\n",
       "Risen                                                          0.521179\n",
       "The Only Astrology Book You'll Ever Need                       0.520706\n",
       "The Witching Hour (Lives of the Mayfair Witches)               0.517412\n",
       "The Vampire Lestat (Vampire Chronicles                         0.516246\n",
       "Awakening                                                      0.510640\n",
       "Disney's: The Great Mouse Detective (Golden Look Look Book)    0.502266\n",
       "Name: Interview with the Vampire, dtype: float64"
      ]
     },
     "execution_count": 34,
     "metadata": {},
     "output_type": "execute_result"
    }
   ],
   "source": [
    "#Looking up recommendations for those who liked Interview with the Vampire:\n",
    "recommender_df['Interview with the Vampire'].sort_values(ascending=False)[1:11]"
   ]
  },
  {
   "cell_type": "code",
   "execution_count": 35,
   "metadata": {},
   "outputs": [
    {
     "data": {
      "text/plain": [
       "Book-Title\n",
       "Death By Spaghetti                                           1.0\n",
       "Vegetarian Cooking (Rd Home Handbooks)                       1.0\n",
       "The Vengeance of If...                                       1.0\n",
       "The Wimbledon Poisoner                                       1.0\n",
       "The Pegasus book of ponds and streams; (The Pegasus books    1.0\n",
       "Tales of Ancient Egypt (Puffin Classics)                     1.0\n",
       "The Little White Horse                                       1.0\n",
       "The Revolutionary If                                         1.0\n",
       "Lucia Triumphant                                             1.0\n",
       "Lucia in London (Isis)                                       1.0\n",
       "Name: Harry Potter and the Chamber of Secrets, dtype: float64"
      ]
     },
     "execution_count": 35,
     "metadata": {},
     "output_type": "execute_result"
    }
   ],
   "source": [
    "#Looking up recommendations for those who liked Harry Potter and the Chamber of Secrets:\n",
    "recommender_df['Harry Potter and the Chamber of Secrets'].sort_values(ascending=False)[1:11]"
   ]
  },
  {
   "cell_type": "markdown",
   "metadata": {},
   "source": [
    "Of the books I've searched for, Interview with the Vampire has given the best results in terms of what I can eyeball as being similar matches. For that one, it recommended books in the same series, which makes sense. Romance titles appeared to be recommending other romance titles. Big popular books like Harry Potter had trouble getting good recommendations though. It is likely that happened because it's a small user set (80 on the most current run of the model), so it's recommending books based on a very select audience. \n",
    "\n",
    "I tried changing my users sample from those who rated more than 100 books to 200 books and found that the higher number of books gave me better scores. I dropped down to users who rated 50 books and my scores got worse. This was was unexpected because we really do need a larger sample of users here to have more balanced recommendations. It is likely that in this pool of users, going with less of them who rate more books is giving us a more like-minded subset. \n",
    "\n",
    "Also, the database needs more cleaning for titles. There are many varieties of Harry Potter titles based on foreign language as well as extras notations in the title, such as: (paperback). If I had more time, I would look at removing non-English titles and would clean out those extra bits to consolidate varying versions of the same title."
   ]
  },
  {
   "cell_type": "markdown",
   "metadata": {},
   "source": [
    "**Please continue to [3-Content-Based-Data-Cleaning-and-EDA.ipynb](./3-Content-Based-Data-Cleaning-and-EDA.ipynb) for the next step in the project: Content-Based: Data Cleaning and EDA**"
   ]
  }
 ],
 "metadata": {
  "kernelspec": {
   "display_name": "Python 3",
   "language": "python",
   "name": "python3"
  },
  "language_info": {
   "codemirror_mode": {
    "name": "ipython",
    "version": 3
   },
   "file_extension": ".py",
   "mimetype": "text/x-python",
   "name": "python",
   "nbconvert_exporter": "python",
   "pygments_lexer": "ipython3",
   "version": "3.7.1"
  }
 },
 "nbformat": 4,
 "nbformat_minor": 2
}
