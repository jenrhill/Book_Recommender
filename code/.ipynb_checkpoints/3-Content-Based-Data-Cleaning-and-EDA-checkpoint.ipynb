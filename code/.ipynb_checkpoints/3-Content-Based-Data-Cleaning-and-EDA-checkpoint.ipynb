{
 "cells": [
  {
   "cell_type": "markdown",
   "metadata": {},
   "source": [
    "<img align=\"left\" src=\"../assets/books.png\">\n",
    "\n",
    "# Book Recommender Engines\n",
    "\n",
    "## Part 3: Content-Based: Data Cleaning and EDA<br>\n",
    "***"
   ]
  },
  {
   "cell_type": "markdown",
   "metadata": {},
   "source": [
    "#### Contents:\n",
    "- [Imports](#Imports)\n",
    "- [Reading in the Data](#Reading-in-the-Data)\n",
    "- [Preliminary Exploratory Data Analysis](#Preliminary-Exploratory-Data-Analysis)\n",
    "- [Data Cleaning](#Data-Cleaning)\n",
    "- [Exploratory Data Analysis](#Exploratory-Data-Analysis)\n",
    "- [Saving the DataFrame](#Saving-the-DataFrame)"
   ]
  },
  {
   "cell_type": "markdown",
   "metadata": {},
   "source": [
    "### Imports"
   ]
  },
  {
   "cell_type": "code",
   "execution_count": 1,
   "metadata": {},
   "outputs": [],
   "source": [
    "#importing in the packages\n",
    "import numpy as np\n",
    "import pandas as pd\n",
    "import matplotlib.pyplot as plt\n",
    "import seaborn as sns\n",
    "\n",
    "#importing warnings to turn off future warnings\n",
    "import warnings\n",
    "warnings.simplefilter(action='ignore')"
   ]
  },
  {
   "cell_type": "markdown",
   "metadata": {},
   "source": [
    "### Reading in the Data\n",
    "\n",
    "With content-based engines, recommendations are made based on the features of the product. With this in mind, I chose a data set from [Kaggle](https://www.kaggle.com/brosen255/goodreads-books) that offers about 20k titles from popular lists on Goodreads. Each title has a variety of information included about it, such as genre and average rating."
   ]
  },
  {
   "cell_type": "code",
   "execution_count": 2,
   "metadata": {},
   "outputs": [
    {
     "data": {
      "text/html": [
       "<div>\n",
       "<style scoped>\n",
       "    .dataframe tbody tr th:only-of-type {\n",
       "        vertical-align: middle;\n",
       "    }\n",
       "\n",
       "    .dataframe tbody tr th {\n",
       "        vertical-align: top;\n",
       "    }\n",
       "\n",
       "    .dataframe thead th {\n",
       "        text-align: right;\n",
       "    }\n",
       "</style>\n",
       "<table border=\"1\" class=\"dataframe\">\n",
       "  <thead>\n",
       "    <tr style=\"text-align: right;\">\n",
       "      <th></th>\n",
       "      <th>author_average_rating</th>\n",
       "      <th>author_gender</th>\n",
       "      <th>author_genres</th>\n",
       "      <th>author_id</th>\n",
       "      <th>author_name</th>\n",
       "      <th>author_page_url</th>\n",
       "      <th>author_rating_count</th>\n",
       "      <th>author_review_count</th>\n",
       "      <th>birthplace</th>\n",
       "      <th>book_average_rating</th>\n",
       "      <th>book_fullurl</th>\n",
       "      <th>book_id</th>\n",
       "      <th>book_title</th>\n",
       "      <th>genre_1</th>\n",
       "      <th>genre_2</th>\n",
       "      <th>num_ratings</th>\n",
       "      <th>num_reviews</th>\n",
       "      <th>pages</th>\n",
       "      <th>publish_date</th>\n",
       "      <th>score</th>\n",
       "    </tr>\n",
       "  </thead>\n",
       "  <tbody>\n",
       "    <tr>\n",
       "      <th>0</th>\n",
       "      <td>4.45</td>\n",
       "      <td>female</td>\n",
       "      <td>fiction,</td>\n",
       "      <td>1077326</td>\n",
       "      <td>J.K. Rowling\\n</td>\n",
       "      <td>/author/show/1077326.J_K_Rowling</td>\n",
       "      <td>21106819</td>\n",
       "      <td>516421</td>\n",
       "      <td>United Kingdom\\n</td>\n",
       "      <td>4.56</td>\n",
       "      <td>https://www.goodreads.com/book/show/1.Harry_Po...</td>\n",
       "      <td>1</td>\n",
       "      <td>\\n      Harry Potter and the Half-Blood Prince\\n</td>\n",
       "      <td>Fantasy</td>\n",
       "      <td>Young Adult</td>\n",
       "      <td>2036961</td>\n",
       "      <td>32557</td>\n",
       "      <td>652</td>\n",
       "      <td>2005</td>\n",
       "      <td>1217</td>\n",
       "    </tr>\n",
       "    <tr>\n",
       "      <th>1</th>\n",
       "      <td>4.45</td>\n",
       "      <td>female</td>\n",
       "      <td>fiction,</td>\n",
       "      <td>1077326</td>\n",
       "      <td>J.K. Rowling\\n</td>\n",
       "      <td>/author/show/1077326.J_K_Rowling</td>\n",
       "      <td>21106819</td>\n",
       "      <td>516421</td>\n",
       "      <td>United Kingdom\\n</td>\n",
       "      <td>4.48</td>\n",
       "      <td>https://www.goodreads.com/book/show/2.Harry_Po...</td>\n",
       "      <td>2</td>\n",
       "      <td>\\n      Harry Potter and the Order of the Phoe...</td>\n",
       "      <td>Fantasy</td>\n",
       "      <td>Young Adult</td>\n",
       "      <td>2087093</td>\n",
       "      <td>34321</td>\n",
       "      <td>870</td>\n",
       "      <td>2003</td>\n",
       "      <td>690</td>\n",
       "    </tr>\n",
       "    <tr>\n",
       "      <th>2</th>\n",
       "      <td>4.45</td>\n",
       "      <td>female</td>\n",
       "      <td>fiction,</td>\n",
       "      <td>1077326</td>\n",
       "      <td>J.K. Rowling\\n</td>\n",
       "      <td>/author/show/1077326.J_K_Rowling</td>\n",
       "      <td>21117318</td>\n",
       "      <td>516745</td>\n",
       "      <td>United Kingdom\\n</td>\n",
       "      <td>4.55</td>\n",
       "      <td>https://www.goodreads.com/book/show/5.Harry_Po...</td>\n",
       "      <td>5</td>\n",
       "      <td>\\n      Harry Potter and the Prisoner of Azkab...</td>\n",
       "      <td>Fantasy</td>\n",
       "      <td>Young Adult</td>\n",
       "      <td>2276977</td>\n",
       "      <td>44377</td>\n",
       "      <td>435</td>\n",
       "      <td>1999</td>\n",
       "      <td>368</td>\n",
       "    </tr>\n",
       "    <tr>\n",
       "      <th>3</th>\n",
       "      <td>4.45</td>\n",
       "      <td>female</td>\n",
       "      <td>fiction,</td>\n",
       "      <td>1077326</td>\n",
       "      <td>J.K. Rowling\\n</td>\n",
       "      <td>/author/show/1077326.J_K_Rowling</td>\n",
       "      <td>21103858</td>\n",
       "      <td>516320</td>\n",
       "      <td>United Kingdom\\n</td>\n",
       "      <td>4.55</td>\n",
       "      <td>https://www.goodreads.com/book/show/5.Harry_Po...</td>\n",
       "      <td>5</td>\n",
       "      <td>\\n      Harry Potter and the Prisoner of Azkab...</td>\n",
       "      <td>Fantasy</td>\n",
       "      <td>Young Adult</td>\n",
       "      <td>2275315</td>\n",
       "      <td>44330</td>\n",
       "      <td>435</td>\n",
       "      <td>1999</td>\n",
       "      <td>737</td>\n",
       "    </tr>\n",
       "    <tr>\n",
       "      <th>4</th>\n",
       "      <td>4.20</td>\n",
       "      <td>male</td>\n",
       "      <td>science-fiction,mystery,</td>\n",
       "      <td>4</td>\n",
       "      <td>Douglas Adams\\n</td>\n",
       "      <td>/author/show/4.Douglas_Adams</td>\n",
       "      <td>2351569</td>\n",
       "      <td>50433</td>\n",
       "      <td>United Kingdom\\n</td>\n",
       "      <td>4.38</td>\n",
       "      <td>https://www.goodreads.com/book/show/13.The_Ult...</td>\n",
       "      <td>13</td>\n",
       "      <td>\\n      The Ultimate Hitchhiker's Guide to the...</td>\n",
       "      <td>Science Fiction</td>\n",
       "      <td>Fiction</td>\n",
       "      <td>255070</td>\n",
       "      <td>4753</td>\n",
       "      <td>815</td>\n",
       "      <td>1996</td>\n",
       "      <td>2374</td>\n",
       "    </tr>\n",
       "  </tbody>\n",
       "</table>\n",
       "</div>"
      ],
      "text/plain": [
       "   author_average_rating author_gender             author_genres  author_id  \\\n",
       "0                   4.45        female                  fiction,    1077326   \n",
       "1                   4.45        female                  fiction,    1077326   \n",
       "2                   4.45        female                  fiction,    1077326   \n",
       "3                   4.45        female                  fiction,    1077326   \n",
       "4                   4.20          male  science-fiction,mystery,          4   \n",
       "\n",
       "       author_name                   author_page_url  author_rating_count  \\\n",
       "0   J.K. Rowling\\n  /author/show/1077326.J_K_Rowling             21106819   \n",
       "1   J.K. Rowling\\n  /author/show/1077326.J_K_Rowling             21106819   \n",
       "2   J.K. Rowling\\n  /author/show/1077326.J_K_Rowling             21117318   \n",
       "3   J.K. Rowling\\n  /author/show/1077326.J_K_Rowling             21103858   \n",
       "4  Douglas Adams\\n      /author/show/4.Douglas_Adams              2351569   \n",
       "\n",
       "   author_review_count             birthplace  book_average_rating  \\\n",
       "0               516421   United Kingdom\\n                     4.56   \n",
       "1               516421   United Kingdom\\n                     4.48   \n",
       "2               516745   United Kingdom\\n                     4.55   \n",
       "3               516320   United Kingdom\\n                     4.55   \n",
       "4                50433   United Kingdom\\n                     4.38   \n",
       "\n",
       "                                        book_fullurl book_id  \\\n",
       "0  https://www.goodreads.com/book/show/1.Harry_Po...       1   \n",
       "1  https://www.goodreads.com/book/show/2.Harry_Po...       2   \n",
       "2  https://www.goodreads.com/book/show/5.Harry_Po...       5   \n",
       "3  https://www.goodreads.com/book/show/5.Harry_Po...       5   \n",
       "4  https://www.goodreads.com/book/show/13.The_Ult...      13   \n",
       "\n",
       "                                          book_title          genre_1  \\\n",
       "0   \\n      Harry Potter and the Half-Blood Prince\\n          Fantasy   \n",
       "1  \\n      Harry Potter and the Order of the Phoe...          Fantasy   \n",
       "2  \\n      Harry Potter and the Prisoner of Azkab...          Fantasy   \n",
       "3  \\n      Harry Potter and the Prisoner of Azkab...          Fantasy   \n",
       "4  \\n      The Ultimate Hitchhiker's Guide to the...  Science Fiction   \n",
       "\n",
       "       genre_2  num_ratings  num_reviews  pages  publish_date  score  \n",
       "0  Young Adult      2036961        32557    652          2005   1217  \n",
       "1  Young Adult      2087093        34321    870          2003    690  \n",
       "2  Young Adult      2276977        44377    435          1999    368  \n",
       "3  Young Adult      2275315        44330    435          1999    737  \n",
       "4      Fiction       255070         4753    815          1996   2374  "
      ]
     },
     "execution_count": 2,
     "metadata": {},
     "output_type": "execute_result"
    }
   ],
   "source": [
    "#reading in the data\n",
    "goodreads = pd.read_csv('../datasets/goodreads/goodreads.csv')\n",
    "goodreads.head()"
   ]
  },
  {
   "cell_type": "markdown",
   "metadata": {},
   "source": [
    "### Preliminary Exploratory Data Analysis\n",
    "\n",
    "For preliminary EDA, I evaluated content types within each file, as well as whether or not there was missing data. At this point, I'm assessing what needs to be cleaned as well as what options I have for features to use in the recommender."
   ]
  },
  {
   "cell_type": "code",
   "execution_count": 3,
   "metadata": {},
   "outputs": [],
   "source": [
    "#Dropping the columns I know I won't be using\n",
    "goodreads.drop(['author_page_url', 'book_fullurl', 'author_gender', 'author_genres', 'author_average_rating', 'author_id', 'birthplace', 'author_rating_count', 'author_review_count', 'book_id'], 1,  inplace=True)"
   ]
  },
  {
   "cell_type": "code",
   "execution_count": 4,
   "metadata": {},
   "outputs": [
    {
     "data": {
      "text/plain": [
       "(22287, 10)"
      ]
     },
     "execution_count": 4,
     "metadata": {},
     "output_type": "execute_result"
    }
   ],
   "source": [
    "# Looking at how large the file is\n",
    "goodreads.shape"
   ]
  },
  {
   "cell_type": "code",
   "execution_count": 5,
   "metadata": {},
   "outputs": [
    {
     "data": {
      "text/plain": [
       "author_name             object\n",
       "book_average_rating    float64\n",
       "book_title              object\n",
       "genre_1                 object\n",
       "genre_2                 object\n",
       "num_ratings              int64\n",
       "num_reviews              int64\n",
       "pages                    int64\n",
       "publish_date             int64\n",
       "score                    int64\n",
       "dtype: object"
      ]
     },
     "execution_count": 5,
     "metadata": {},
     "output_type": "execute_result"
    }
   ],
   "source": [
    "#taking a look at the user file types\n",
    "goodreads.dtypes"
   ]
  },
  {
   "cell_type": "code",
   "execution_count": 6,
   "metadata": {},
   "outputs": [
    {
     "data": {
      "text/plain": [
       "author_name            0\n",
       "book_average_rating    0\n",
       "book_title             0\n",
       "genre_1                0\n",
       "genre_2                0\n",
       "num_ratings            0\n",
       "num_reviews            0\n",
       "pages                  0\n",
       "publish_date           0\n",
       "score                  0\n",
       "dtype: int64"
      ]
     },
     "execution_count": 6,
     "metadata": {},
     "output_type": "execute_result"
    }
   ],
   "source": [
    "#Looking for nulls\n",
    "goodreads.isnull().sum()"
   ]
  },
  {
   "cell_type": "code",
   "execution_count": 7,
   "metadata": {},
   "outputs": [
    {
     "data": {
      "text/html": [
       "<div>\n",
       "<style scoped>\n",
       "    .dataframe tbody tr th:only-of-type {\n",
       "        vertical-align: middle;\n",
       "    }\n",
       "\n",
       "    .dataframe tbody tr th {\n",
       "        vertical-align: top;\n",
       "    }\n",
       "\n",
       "    .dataframe thead th {\n",
       "        text-align: right;\n",
       "    }\n",
       "</style>\n",
       "<table border=\"1\" class=\"dataframe\">\n",
       "  <thead>\n",
       "    <tr style=\"text-align: right;\">\n",
       "      <th></th>\n",
       "      <th>book_average_rating</th>\n",
       "      <th>num_ratings</th>\n",
       "      <th>num_reviews</th>\n",
       "      <th>pages</th>\n",
       "      <th>publish_date</th>\n",
       "      <th>score</th>\n",
       "    </tr>\n",
       "  </thead>\n",
       "  <tbody>\n",
       "    <tr>\n",
       "      <th>count</th>\n",
       "      <td>22287.000000</td>\n",
       "      <td>2.228700e+04</td>\n",
       "      <td>22287.000000</td>\n",
       "      <td>22287.000000</td>\n",
       "      <td>22287.000000</td>\n",
       "      <td>22287.000000</td>\n",
       "    </tr>\n",
       "    <tr>\n",
       "      <th>mean</th>\n",
       "      <td>3.952686</td>\n",
       "      <td>4.738297e+04</td>\n",
       "      <td>2352.993808</td>\n",
       "      <td>332.293175</td>\n",
       "      <td>1939.307534</td>\n",
       "      <td>3840.863373</td>\n",
       "    </tr>\n",
       "    <tr>\n",
       "      <th>std</th>\n",
       "      <td>0.289797</td>\n",
       "      <td>1.814059e+05</td>\n",
       "      <td>6887.678342</td>\n",
       "      <td>211.072687</td>\n",
       "      <td>342.738780</td>\n",
       "      <td>10732.201140</td>\n",
       "    </tr>\n",
       "    <tr>\n",
       "      <th>min</th>\n",
       "      <td>0.000000</td>\n",
       "      <td>0.000000e+00</td>\n",
       "      <td>0.000000</td>\n",
       "      <td>0.000000</td>\n",
       "      <td>-720.000000</td>\n",
       "      <td>55.000000</td>\n",
       "    </tr>\n",
       "    <tr>\n",
       "      <th>25%</th>\n",
       "      <td>3.770000</td>\n",
       "      <td>8.150000e+02</td>\n",
       "      <td>106.000000</td>\n",
       "      <td>240.000000</td>\n",
       "      <td>1998.000000</td>\n",
       "      <td>831.000000</td>\n",
       "    </tr>\n",
       "    <tr>\n",
       "      <th>50%</th>\n",
       "      <td>3.960000</td>\n",
       "      <td>4.479000e+03</td>\n",
       "      <td>388.000000</td>\n",
       "      <td>316.000000</td>\n",
       "      <td>2011.000000</td>\n",
       "      <td>1719.000000</td>\n",
       "    </tr>\n",
       "    <tr>\n",
       "      <th>75%</th>\n",
       "      <td>4.140000</td>\n",
       "      <td>2.100200e+04</td>\n",
       "      <td>1529.000000</td>\n",
       "      <td>384.000000</td>\n",
       "      <td>2013.000000</td>\n",
       "      <td>3581.500000</td>\n",
       "    </tr>\n",
       "    <tr>\n",
       "      <th>max</th>\n",
       "      <td>5.000000</td>\n",
       "      <td>3.820921e+06</td>\n",
       "      <td>147696.000000</td>\n",
       "      <td>6680.000000</td>\n",
       "      <td>2019.000000</td>\n",
       "      <td>598270.000000</td>\n",
       "    </tr>\n",
       "  </tbody>\n",
       "</table>\n",
       "</div>"
      ],
      "text/plain": [
       "       book_average_rating   num_ratings    num_reviews         pages  \\\n",
       "count         22287.000000  2.228700e+04   22287.000000  22287.000000   \n",
       "mean              3.952686  4.738297e+04    2352.993808    332.293175   \n",
       "std               0.289797  1.814059e+05    6887.678342    211.072687   \n",
       "min               0.000000  0.000000e+00       0.000000      0.000000   \n",
       "25%               3.770000  8.150000e+02     106.000000    240.000000   \n",
       "50%               3.960000  4.479000e+03     388.000000    316.000000   \n",
       "75%               4.140000  2.100200e+04    1529.000000    384.000000   \n",
       "max               5.000000  3.820921e+06  147696.000000   6680.000000   \n",
       "\n",
       "       publish_date          score  \n",
       "count  22287.000000   22287.000000  \n",
       "mean    1939.307534    3840.863373  \n",
       "std      342.738780   10732.201140  \n",
       "min     -720.000000      55.000000  \n",
       "25%     1998.000000     831.000000  \n",
       "50%     2011.000000    1719.000000  \n",
       "75%     2013.000000    3581.500000  \n",
       "max     2019.000000  598270.000000  "
      ]
     },
     "execution_count": 7,
     "metadata": {},
     "output_type": "execute_result"
    }
   ],
   "source": [
    "#Checking out the summary stats\n",
    "goodreads.describe()"
   ]
  },
  {
   "cell_type": "markdown",
   "metadata": {},
   "source": [
    "Looking over the numbers, it looks like num_ratings looks like it may have some anomalies. Standard deviation looks a bit odd. Also noting that for num_reviews and score there seems to be a significant difference in the numbers. My guess is something like Harry Potter is causing some fantastical spiking in the numbers. Also noting that year doesn't show up. Must be text in that column somewhere."
   ]
  },
  {
   "cell_type": "code",
   "execution_count": 8,
   "metadata": {},
   "outputs": [
    {
     "data": {
      "text/plain": [
       "241    3820921\n",
       "243    3819552\n",
       "242    3819418\n",
       "244    3819020\n",
       "245    3818591\n",
       "Name: num_ratings, dtype: int64"
      ]
     },
     "execution_count": 8,
     "metadata": {},
     "output_type": "execute_result"
    }
   ],
   "source": [
    "#Taking a closer look at num_ratings\n",
    "goodreads['num_ratings'].sort_values(ascending=False).head()"
   ]
  },
  {
   "cell_type": "markdown",
   "metadata": {},
   "source": [
    "I see what's going on with ratings. The numbers are very big is all. And the range is pretty extreme. I expected less of an extremity there because the data was described as being pulled from top rated lists. If the lists are user-created, then that's where the anomalies will come into play. People will always add books to the lists that don't actually qualify. It's the nature of user-based lists. I'll make a note to try the recommender with and without using these columns to see how it affects the scores. "
   ]
  },
  {
   "cell_type": "markdown",
   "metadata": {},
   "source": [
    "### Data Cleaning\n",
    "\n",
    "What I noticed in preliminary EDA was that there are new row (\\n) tags in the author name and book title. Also, I was able to see that there are some duplicate titles. Plus, I wanted to figure out what was going on with the publish_date numbers more. One thing I'll add too that I didn't discover until I got errors in the model was that there are tabs after the first \\n's in the title fields. So I had to come back to data cleaning and remove them and then move forward again."
   ]
  },
  {
   "cell_type": "code",
   "execution_count": 9,
   "metadata": {},
   "outputs": [
    {
     "data": {
      "text/html": [
       "<div>\n",
       "<style scoped>\n",
       "    .dataframe tbody tr th:only-of-type {\n",
       "        vertical-align: middle;\n",
       "    }\n",
       "\n",
       "    .dataframe tbody tr th {\n",
       "        vertical-align: top;\n",
       "    }\n",
       "\n",
       "    .dataframe thead th {\n",
       "        text-align: right;\n",
       "    }\n",
       "</style>\n",
       "<table border=\"1\" class=\"dataframe\">\n",
       "  <thead>\n",
       "    <tr style=\"text-align: right;\">\n",
       "      <th></th>\n",
       "      <th>author_name</th>\n",
       "      <th>book_average_rating</th>\n",
       "      <th>book_title</th>\n",
       "      <th>genre_1</th>\n",
       "      <th>genre_2</th>\n",
       "      <th>num_ratings</th>\n",
       "      <th>num_reviews</th>\n",
       "      <th>pages</th>\n",
       "      <th>publish_date</th>\n",
       "      <th>score</th>\n",
       "    </tr>\n",
       "  </thead>\n",
       "  <tbody>\n",
       "    <tr>\n",
       "      <th>0</th>\n",
       "      <td>J.K. Rowling\\n</td>\n",
       "      <td>4.56</td>\n",
       "      <td>\\n      Harry Potter and the Half-Blood Prince\\n</td>\n",
       "      <td>Fantasy</td>\n",
       "      <td>Young Adult</td>\n",
       "      <td>2036961</td>\n",
       "      <td>32557</td>\n",
       "      <td>652</td>\n",
       "      <td>2005</td>\n",
       "      <td>1217</td>\n",
       "    </tr>\n",
       "    <tr>\n",
       "      <th>1</th>\n",
       "      <td>J.K. Rowling\\n</td>\n",
       "      <td>4.48</td>\n",
       "      <td>\\n      Harry Potter and the Order of the Phoe...</td>\n",
       "      <td>Fantasy</td>\n",
       "      <td>Young Adult</td>\n",
       "      <td>2087093</td>\n",
       "      <td>34321</td>\n",
       "      <td>870</td>\n",
       "      <td>2003</td>\n",
       "      <td>690</td>\n",
       "    </tr>\n",
       "    <tr>\n",
       "      <th>2</th>\n",
       "      <td>J.K. Rowling\\n</td>\n",
       "      <td>4.55</td>\n",
       "      <td>\\n      Harry Potter and the Prisoner of Azkab...</td>\n",
       "      <td>Fantasy</td>\n",
       "      <td>Young Adult</td>\n",
       "      <td>2276977</td>\n",
       "      <td>44377</td>\n",
       "      <td>435</td>\n",
       "      <td>1999</td>\n",
       "      <td>368</td>\n",
       "    </tr>\n",
       "    <tr>\n",
       "      <th>4</th>\n",
       "      <td>Douglas Adams\\n</td>\n",
       "      <td>4.38</td>\n",
       "      <td>\\n      The Ultimate Hitchhiker's Guide to the...</td>\n",
       "      <td>Science Fiction</td>\n",
       "      <td>Fiction</td>\n",
       "      <td>255070</td>\n",
       "      <td>4753</td>\n",
       "      <td>815</td>\n",
       "      <td>1996</td>\n",
       "      <td>2374</td>\n",
       "    </tr>\n",
       "    <tr>\n",
       "      <th>5</th>\n",
       "      <td>Bill Bryson\\n</td>\n",
       "      <td>4.20</td>\n",
       "      <td>\\n      A Short History of Nearly Everything\\n</td>\n",
       "      <td>Nonfiction</td>\n",
       "      <td>Science</td>\n",
       "      <td>240843</td>\n",
       "      <td>10362</td>\n",
       "      <td>544</td>\n",
       "      <td>2003</td>\n",
       "      <td>1079</td>\n",
       "    </tr>\n",
       "  </tbody>\n",
       "</table>\n",
       "</div>"
      ],
      "text/plain": [
       "       author_name  book_average_rating  \\\n",
       "0   J.K. Rowling\\n                 4.56   \n",
       "1   J.K. Rowling\\n                 4.48   \n",
       "2   J.K. Rowling\\n                 4.55   \n",
       "4  Douglas Adams\\n                 4.38   \n",
       "5    Bill Bryson\\n                 4.20   \n",
       "\n",
       "                                          book_title          genre_1  \\\n",
       "0   \\n      Harry Potter and the Half-Blood Prince\\n          Fantasy   \n",
       "1  \\n      Harry Potter and the Order of the Phoe...          Fantasy   \n",
       "2  \\n      Harry Potter and the Prisoner of Azkab...          Fantasy   \n",
       "4  \\n      The Ultimate Hitchhiker's Guide to the...  Science Fiction   \n",
       "5     \\n      A Short History of Nearly Everything\\n       Nonfiction   \n",
       "\n",
       "       genre_2  num_ratings  num_reviews  pages  publish_date  score  \n",
       "0  Young Adult      2036961        32557    652          2005   1217  \n",
       "1  Young Adult      2087093        34321    870          2003    690  \n",
       "2  Young Adult      2276977        44377    435          1999    368  \n",
       "4      Fiction       255070         4753    815          1996   2374  \n",
       "5      Science       240843        10362    544          2003   1079  "
      ]
     },
     "execution_count": 9,
     "metadata": {},
     "output_type": "execute_result"
    }
   ],
   "source": [
    "#Dropping duplicates\n",
    "goodreads = goodreads.drop_duplicates(subset =\"book_title\")\n",
    "goodreads.head()"
   ]
  },
  {
   "cell_type": "markdown",
   "metadata": {},
   "source": [
    "I noticed new row markers (\\n) in the book title column so I'm going to remove them, as well as extra space on the front and back of the titles. "
   ]
  },
  {
   "cell_type": "code",
   "execution_count": 10,
   "metadata": {},
   "outputs": [],
   "source": [
    "#Removing the \\n's from the title column\n",
    "goodreads['book_title'] = goodreads['book_title'].map(lambda cell: cell.replace(\"\\n\",\"\"))"
   ]
  },
  {
   "cell_type": "code",
   "execution_count": 11,
   "metadata": {},
   "outputs": [],
   "source": [
    "#Removing the \\n's from the author column\n",
    "goodreads['author_name'] = goodreads['author_name'].map(lambda cell: cell.replace(\"\\n\",\"\"))"
   ]
  },
  {
   "cell_type": "code",
   "execution_count": 12,
   "metadata": {},
   "outputs": [],
   "source": [
    "#Removing extra space from the title\n",
    "goodreads['book_title'] = goodreads['book_title'].map(lambda cell: cell.strip())"
   ]
  },
  {
   "cell_type": "code",
   "execution_count": 13,
   "metadata": {},
   "outputs": [],
   "source": [
    "#Removing extra space from the author\n",
    "goodreads['author_name'] = goodreads['author_name'].map(lambda cell: cell.strip())"
   ]
  },
  {
   "cell_type": "markdown",
   "metadata": {},
   "source": [
    "I noticed negatives in the year column so I'm going to take a closer look there."
   ]
  },
  {
   "cell_type": "code",
   "execution_count": 14,
   "metadata": {},
   "outputs": [
    {
     "data": {
      "text/plain": [
       "142    -720\n",
       "144    -720\n",
       "3974   -600\n",
       "1424   -560\n",
       "874    -500\n",
       "Name: publish_date, dtype: int64"
      ]
     },
     "execution_count": 14,
     "metadata": {},
     "output_type": "execute_result"
    }
   ],
   "source": [
    "#Checking out the year column\n",
    "goodreads['publish_date'].sort_values(ascending=True).head()"
   ]
  },
  {
   "cell_type": "markdown",
   "metadata": {},
   "source": [
    "There are a lot of incorrect year listings. I'm going to take a sample of the data set and pull everything from 1900 and upward."
   ]
  },
  {
   "cell_type": "code",
   "execution_count": 15,
   "metadata": {},
   "outputs": [],
   "source": [
    "#pulling a sample set based on the year being 1900 and above. \n",
    "goodreads_sample = goodreads[goodreads['publish_date'] >= 1900]"
   ]
  },
  {
   "cell_type": "code",
   "execution_count": 16,
   "metadata": {},
   "outputs": [
    {
     "data": {
      "text/plain": [
       "(15144, 10)"
      ]
     },
     "execution_count": 16,
     "metadata": {},
     "output_type": "execute_result"
    }
   ],
   "source": [
    "#checking the updated size \n",
    "goodreads_sample.shape"
   ]
  },
  {
   "cell_type": "markdown",
   "metadata": {},
   "source": [
    "### Further Exploratory Data Analysis\n",
    "\n",
    "After cleaning up the data, I wanted to do more analysis."
   ]
  },
  {
   "cell_type": "code",
   "execution_count": 17,
   "metadata": {},
   "outputs": [
    {
     "data": {
      "image/png": "[encoded data removed]",
      "text/plain": [
       "<Figure size 720x720 with 6 Axes>"
      ]
     },
     "metadata": {
      "needs_background": "light"
     },
     "output_type": "display_data"
    }
   ],
   "source": [
    "#checking out the numeric columns\n",
    "goodreads_sample.hist(figsize=(10,10));"
   ]
  },
  {
   "cell_type": "markdown",
   "metadata": {},
   "source": [
    "The book ratings seem to mostly range between 3-5, though there are ratings lower than that."
   ]
  },
  {
   "cell_type": "code",
   "execution_count": 18,
   "metadata": {},
   "outputs": [
    {
     "data": {
      "text/plain": [
       "19674    0.00\n",
       "8704     1.85\n",
       "7274     2.07\n",
       "11948    2.09\n",
       "19256    2.14\n",
       "Name: book_average_rating, dtype: float64"
      ]
     },
     "execution_count": 18,
     "metadata": {},
     "output_type": "execute_result"
    }
   ],
   "source": [
    "#Taking a closer look at the book ratings\n",
    "goodreads['book_average_rating'].sort_values(ascending=True).head()"
   ]
  },
  {
   "cell_type": "code",
   "execution_count": 19,
   "metadata": {},
   "outputs": [
    {
     "data": {
      "text/plain": [
       "2013    1873\n",
       "2012    1486\n",
       "2014    1417\n",
       "2011    1120\n",
       "2015     854\n",
       "Name: publish_date, dtype: int64"
      ]
     },
     "execution_count": 19,
     "metadata": {},
     "output_type": "execute_result"
    }
   ],
   "source": [
    "#Checking out the counts for the years\n",
    "goodreads['publish_date'].value_counts().head()"
   ]
  },
  {
   "cell_type": "markdown",
   "metadata": {},
   "source": [
    "The years really do seem to cluster around more current releases. Next I want to take a look at how many of each genre we have in this data set."
   ]
  },
  {
   "cell_type": "code",
   "execution_count": 20,
   "metadata": {
    "scrolled": false
   },
   "outputs": [
    {
     "data": {
      "text/plain": [
       "Romance            2462\n",
       "Fantasy            2274\n",
       "Young Adult        1499\n",
       "Fiction            1398\n",
       "Historical         1051\n",
       "Science Fiction     673\n",
       "Mystery             615\n",
       "Nonfiction          584\n",
       "Sequential Art      435\n",
       "Horror              385\n",
       "Name: genre_1, dtype: int64"
      ]
     },
     "execution_count": 20,
     "metadata": {},
     "output_type": "execute_result"
    }
   ],
   "source": [
    "#Checking out the top genres\n",
    "top_genres = goodreads_sample['genre_1'].value_counts()\n",
    "top_genres.head(10)"
   ]
  },
  {
   "cell_type": "markdown",
   "metadata": {},
   "source": [
    "It's interesting to see that there is so much more romance and fantasy than other categories. I'm going to plot this."
   ]
  },
  {
   "cell_type": "code",
   "execution_count": 21,
   "metadata": {},
   "outputs": [],
   "source": [
    "#setting a value for just the top ten genres\n",
    "top10 = top_genres.sort_values(ascending = False)[:10]"
   ]
  },
  {
   "cell_type": "code",
   "execution_count": 22,
   "metadata": {},
   "outputs": [
    {
     "data": {
      "image/png": "[encoded data removed]",
      "text/plain": [
       "<Figure size 864x864 with 1 Axes>"
      ]
     },
     "metadata": {
      "needs_background": "light"
     },
     "output_type": "display_data"
    }
   ],
   "source": [
    "#plotting the top ten genres - larger sized chart is so I can use it for the presentation\n",
    "plt.style.use('bmh')\n",
    "plt.figure(figsize = (12,12))\n",
    "top10.sort_values(ascending=True).plot(kind = \"barh\", color=\"#13addd\")\n",
    "plt.title(\"Top 10 Genres\", fontsize=28,fontweight='bold')\n",
    "plt.xlabel(\"Number of Titles in Genre\", fontsize=26,fontweight='bold')\n",
    "plt.ylabel(\"Genre\", fontsize=24,fontweight='bold')\n",
    "plt.xticks(fontsize= 22,fontweight='bold')\n",
    "plt.yticks(fontsize= 22,fontweight='bold')\n",
    "plt.show();"
   ]
  },
  {
   "cell_type": "markdown",
   "metadata": {},
   "source": [
    "### Saving the DataFrame"
   ]
  },
  {
   "cell_type": "code",
   "execution_count": 23,
   "metadata": {},
   "outputs": [],
   "source": [
    "#saving the sample dataframe to a csv\n",
    "goodreads_sample.to_csv('../datasets/goodreads/goodreads_sample.csv')"
   ]
  },
  {
   "cell_type": "markdown",
   "metadata": {},
   "source": [
    "**Please continue to [4-Content-Based-Preprocessing-and-Engine.ipynb](./4-Content-Based-Preprocessing-and-Engine.ipynb) for the next step in the project: Content-Based: Preprocessing and Engine**"
   ]
  }
 ],
 "metadata": {
  "kernelspec": {
   "display_name": "Python 3",
   "language": "python",
   "name": "python3"
  },
  "language_info": {
   "codemirror_mode": {
    "name": "ipython",
    "version": 3
   },
   "file_extension": ".py",
   "mimetype": "text/x-python",
   "name": "python",
   "nbconvert_exporter": "python",
   "pygments_lexer": "ipython3",
   "version": "3.7.1"
  }
 },
 "nbformat": 4,
 "nbformat_minor": 2
}
