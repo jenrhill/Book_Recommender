{
 "cells": [
  {
   "cell_type": "markdown",
   "metadata": {},
   "source": [
    "<img src=\"./assets/smallbookstack.jpg\" style=\"float: left; margin: 20px; height: 100px\">\n",
    "\n",
    "# Book Recommender Engines Capstone Project<br><br>Collaborator-Based: Preprocessing and Engine<br>\n",
    "***"
   ]
  },
  {
   "cell_type": "markdown",
   "metadata": {},
   "source": [
    "### Contents:\n",
    "- [Imports](#Imports)\n",
    "- [Reading in the Data](#Reading-in-the-Data)\n",
    "- [Preprocessing](#Preprocessing)\n",
    "  * [Pivot Table](#Pivot-Table)\n",
    "  * [Sparse Matrix](#Sparse-Matrix)\n",
    "- [Recommender](#Recommender)\n",
    "- [Evaluation of the Recommender Engine](#Evaluation-of-the-Recommender-Engine)"
   ]
  },
  {
   "cell_type": "markdown",
   "metadata": {},
   "source": [
    "## Imports"
   ]
  },
  {
   "cell_type": "code",
   "execution_count": 1,
   "metadata": {},
   "outputs": [],
   "source": [
    "#importing the packages\n",
    "import pandas as pd\n",
    "import sys\n",
    "from scipy import sparse \n",
    "from sklearn.metrics.pairwise import pairwise_distances\n",
    "\n",
    "%config InlineBackend.figure_format = 'retina'"
   ]
  },
  {
   "cell_type": "markdown",
   "metadata": {},
   "source": [
    "## Preprocessing"
   ]
  },
  {
   "cell_type": "code",
   "execution_count": 2,
   "metadata": {},
   "outputs": [
    {
     "data": {
      "text/html": [
       "<div>\n",
       "<style scoped>\n",
       "    .dataframe tbody tr th:only-of-type {\n",
       "        vertical-align: middle;\n",
       "    }\n",
       "\n",
       "    .dataframe tbody tr th {\n",
       "        vertical-align: top;\n",
       "    }\n",
       "\n",
       "    .dataframe thead th {\n",
       "        text-align: right;\n",
       "    }\n",
       "</style>\n",
       "<table border=\"1\" class=\"dataframe\">\n",
       "  <thead>\n",
       "    <tr style=\"text-align: right;\">\n",
       "      <th></th>\n",
       "      <th>Unnamed: 0</th>\n",
       "      <th>User-ID</th>\n",
       "      <th>ISBN</th>\n",
       "      <th>Book-Rating</th>\n",
       "      <th>Book-Title</th>\n",
       "      <th>Book-Author</th>\n",
       "      <th>Year-Of-Publication</th>\n",
       "      <th>Publisher</th>\n",
       "    </tr>\n",
       "  </thead>\n",
       "  <tbody>\n",
       "    <tr>\n",
       "      <th>0</th>\n",
       "      <td>24</td>\n",
       "      <td>88006</td>\n",
       "      <td>1551669498</td>\n",
       "      <td>1</td>\n",
       "      <td>Girls Night</td>\n",
       "      <td>Stef Ann Holm</td>\n",
       "      <td>2002</td>\n",
       "      <td>Mira</td>\n",
       "    </tr>\n",
       "    <tr>\n",
       "      <th>1</th>\n",
       "      <td>25</td>\n",
       "      <td>76151</td>\n",
       "      <td>1551669498</td>\n",
       "      <td>2</td>\n",
       "      <td>Girls Night</td>\n",
       "      <td>Stef Ann Holm</td>\n",
       "      <td>2002</td>\n",
       "      <td>Mira</td>\n",
       "    </tr>\n",
       "    <tr>\n",
       "      <th>2</th>\n",
       "      <td>26</td>\n",
       "      <td>229011</td>\n",
       "      <td>1551669498</td>\n",
       "      <td>3</td>\n",
       "      <td>Girls Night</td>\n",
       "      <td>Stef Ann Holm</td>\n",
       "      <td>2002</td>\n",
       "      <td>Mira</td>\n",
       "    </tr>\n",
       "    <tr>\n",
       "      <th>3</th>\n",
       "      <td>27</td>\n",
       "      <td>28700</td>\n",
       "      <td>1551669498</td>\n",
       "      <td>6</td>\n",
       "      <td>Girls Night</td>\n",
       "      <td>Stef Ann Holm</td>\n",
       "      <td>2002</td>\n",
       "      <td>Mira</td>\n",
       "    </tr>\n",
       "    <tr>\n",
       "      <th>4</th>\n",
       "      <td>28</td>\n",
       "      <td>47866</td>\n",
       "      <td>1551669498</td>\n",
       "      <td>7</td>\n",
       "      <td>Girls Night</td>\n",
       "      <td>Stef Ann Holm</td>\n",
       "      <td>2002</td>\n",
       "      <td>Mira</td>\n",
       "    </tr>\n",
       "  </tbody>\n",
       "</table>\n",
       "</div>"
      ],
      "text/plain": [
       "   Unnamed: 0  User-ID        ISBN  Book-Rating   Book-Title    Book-Author  \\\n",
       "0          24    88006  1551669498            1  Girls Night  Stef Ann Holm   \n",
       "1          25    76151  1551669498            2  Girls Night  Stef Ann Holm   \n",
       "2          26   229011  1551669498            3  Girls Night  Stef Ann Holm   \n",
       "3          27    28700  1551669498            6  Girls Night  Stef Ann Holm   \n",
       "4          28    47866  1551669498            7  Girls Night  Stef Ann Holm   \n",
       "\n",
       "   Year-Of-Publication Publisher  \n",
       "0                 2002      Mira  \n",
       "1                 2002      Mira  \n",
       "2                 2002      Mira  \n",
       "3                 2002      Mira  \n",
       "4                 2002      Mira  "
      ]
     },
     "execution_count": 2,
     "metadata": {},
     "output_type": "execute_result"
    }
   ],
   "source": [
    "#reading in the data\n",
    "explicit_ratings = pd.read_csv('./datasets/explicit_ratings.csv')\n",
    "explicit_ratings.head()"
   ]
  },
  {
   "cell_type": "code",
   "execution_count": 3,
   "metadata": {},
   "outputs": [],
   "source": [
    "#For a user based recommender, I only need the user, rating, and title, so I'm going to drop the others\n",
    "explicit_ratings.drop(['Unnamed: 0','ISBN', 'Book-Author', 'Year-Of-Publication', 'Publisher'], 1,  inplace=True)"
   ]
  },
  {
   "cell_type": "code",
   "execution_count": 4,
   "metadata": {},
   "outputs": [],
   "source": [
    "#this is too much data for a pivot table though, so let's pull those who have more than 100 ratings and \n",
    "#see if that's small enough a set to create a pivot table\n",
    "user_counts = explicit_ratings['User-ID'].value_counts()\n",
    "sample_ratings = explicit_ratings[explicit_ratings['User-ID'].isin(user_counts[user_counts >= 200].index)]"
   ]
  },
  {
   "cell_type": "code",
   "execution_count": 5,
   "metadata": {},
   "outputs": [
    {
     "data": {
      "text/plain": [
       "(44443, 3)"
      ]
     },
     "execution_count": 5,
     "metadata": {},
     "output_type": "execute_result"
    }
   ],
   "source": [
    "#checking out the shape of the sample size\n",
    "sample_ratings.shape"
   ]
  },
  {
   "cell_type": "markdown",
   "metadata": {},
   "source": [
    "### Pivot Table"
   ]
  },
  {
   "cell_type": "code",
   "execution_count": 6,
   "metadata": {},
   "outputs": [],
   "source": [
    "#seeing if my sample size is small enough to create a pivot table\n",
    "pivot = sample_ratings.pivot_table(index='Book-Title', columns='User-ID', values='Book-Rating')"
   ]
  },
  {
   "cell_type": "code",
   "execution_count": 7,
   "metadata": {},
   "outputs": [
    {
     "data": {
      "text/plain": [
       "(32476, 84)"
      ]
     },
     "execution_count": 7,
     "metadata": {},
     "output_type": "execute_result"
    }
   ],
   "source": [
    "#it worked, and I want to check out the updated size\n",
    "#We have 939 users rating a total of 62,813 titles\n",
    "pivot.shape"
   ]
  },
  {
   "cell_type": "markdown",
   "metadata": {},
   "source": [
    "### Sparse Matrix\n",
    "\n",
    "The file size is large and it can slow down memory with calculating distance in pairwise, so I am converting it from a pandas datafram to a sparse dataframe. "
   ]
  },
  {
   "cell_type": "code",
   "execution_count": 8,
   "metadata": {},
   "outputs": [
    {
     "data": {
      "text/plain": [
       "24754726"
      ]
     },
     "execution_count": 8,
     "metadata": {},
     "output_type": "execute_result"
    }
   ],
   "source": [
    "#getting the size of the pivot file\n",
    "sys.getsizeof(pivot)"
   ]
  },
  {
   "cell_type": "code",
   "execution_count": 9,
   "metadata": {},
   "outputs": [],
   "source": [
    "#preprocessing step of converting nans to zeros.\n",
    "pivot_sparse = sparse.csr_matrix(pivot.fillna(0))"
   ]
  },
  {
   "cell_type": "code",
   "execution_count": 10,
   "metadata": {},
   "outputs": [
    {
     "data": {
      "text/plain": [
       "56"
      ]
     },
     "execution_count": 10,
     "metadata": {},
     "output_type": "execute_result"
    }
   ],
   "source": [
    "#getting the updated file size\n",
    "sys.getsizeof(pivot_sparse)"
   ]
  },
  {
   "cell_type": "markdown",
   "metadata": {},
   "source": [
    "## Recommender\n",
    "\n",
    "Noting that I tired sklearns metrics pairwise distances and cosine similarity and got better scores with pairwise. Though, still not great. "
   ]
  },
  {
   "cell_type": "code",
   "execution_count": 11,
   "metadata": {},
   "outputs": [],
   "source": [
    "#setting up the recommender \n",
    "recommender = pairwise_distances(pivot_sparse, metric=\"cosine\")"
   ]
  },
  {
   "cell_type": "code",
   "execution_count": 12,
   "metadata": {},
   "outputs": [
    {
     "data": {
      "text/plain": [
       "(32476, 32476)"
      ]
     },
     "execution_count": 12,
     "metadata": {},
     "output_type": "execute_result"
    }
   ],
   "source": [
    "#verifying the shape of the engine to make sure the numbers are the same\n",
    "recommender.shape"
   ]
  },
  {
   "cell_type": "code",
   "execution_count": 13,
   "metadata": {},
   "outputs": [
    {
     "data": {
      "text/html": [
       "<div>\n",
       "<style scoped>\n",
       "    .dataframe tbody tr th:only-of-type {\n",
       "        vertical-align: middle;\n",
       "    }\n",
       "\n",
       "    .dataframe tbody tr th {\n",
       "        vertical-align: top;\n",
       "    }\n",
       "\n",
       "    .dataframe thead th {\n",
       "        text-align: right;\n",
       "    }\n",
       "</style>\n",
       "<table border=\"1\" class=\"dataframe\">\n",
       "  <thead>\n",
       "    <tr style=\"text-align: right;\">\n",
       "      <th>Book-Title</th>\n",
       "      <th>Dark Justice</th>\n",
       "      <th>Final Fantasy Anthology: Official Strategy Guide Brady Games</th>\n",
       "      <th>Lamb to the Slaughter and Other Stories Penguin 60s S.</th>\n",
       "      <th>Murder of a Sleeping Beauty Scumble River Mysteries Paperback</th>\n",
       "      <th>Nonbook Materials: The Organization of Integrated Collections</th>\n",
       "      <th>This Place Has No Atmosphere Laurel-Leaf Books</th>\n",
       "      <th>!%@ A Nutshell handbook</th>\n",
       "      <th>!Arriba! Comunicacion y cultura</th>\n",
       "      <th>###############################################################################################################################################################################################################################################################</th>\n",
       "      <th>$14 In The Bank Cathy Collection</th>\n",
       "      <th>...</th>\n",
       "      <th>schÃ?Â¶ner wohnen.doc. Ein WG- Roman.</th>\n",
       "      <th>sed &amp; awk 2nd Edition</th>\n",
       "      <th>stardust</th>\n",
       "      <th>termcap &amp; terminfo O'Reilly Nutshell</th>\n",
       "      <th>the Dark Light Years</th>\n",
       "      <th>them Modern Library</th>\n",
       "      <th>together by christmas</th>\n",
       "      <th>whataboutrick.com: a poetic tribute to Richard A. Ricci</th>\n",
       "      <th>Â¿Eres tu mi mamÃ¡?Are You My Mother?</th>\n",
       "      <th>Ã?Â?ber das Fernsehen.</th>\n",
       "    </tr>\n",
       "    <tr>\n",
       "      <th>Book-Title</th>\n",
       "      <th></th>\n",
       "      <th></th>\n",
       "      <th></th>\n",
       "      <th></th>\n",
       "      <th></th>\n",
       "      <th></th>\n",
       "      <th></th>\n",
       "      <th></th>\n",
       "      <th></th>\n",
       "      <th></th>\n",
       "      <th></th>\n",
       "      <th></th>\n",
       "      <th></th>\n",
       "      <th></th>\n",
       "      <th></th>\n",
       "      <th></th>\n",
       "      <th></th>\n",
       "      <th></th>\n",
       "      <th></th>\n",
       "      <th></th>\n",
       "      <th></th>\n",
       "    </tr>\n",
       "  </thead>\n",
       "  <tbody>\n",
       "    <tr>\n",
       "      <th>Dark Justice</th>\n",
       "      <td>0.0</td>\n",
       "      <td>1.0</td>\n",
       "      <td>1.0</td>\n",
       "      <td>0.252591</td>\n",
       "      <td>1.0</td>\n",
       "      <td>1.0</td>\n",
       "      <td>1.0</td>\n",
       "      <td>1.0</td>\n",
       "      <td>1.0</td>\n",
       "      <td>1.0</td>\n",
       "      <td>...</td>\n",
       "      <td>1.0</td>\n",
       "      <td>1.0</td>\n",
       "      <td>1.0</td>\n",
       "      <td>1.0</td>\n",
       "      <td>1.0</td>\n",
       "      <td>1.0</td>\n",
       "      <td>0.386428</td>\n",
       "      <td>1.0</td>\n",
       "      <td>1.0</td>\n",
       "      <td>1.0</td>\n",
       "    </tr>\n",
       "    <tr>\n",
       "      <th>Final Fantasy Anthology: Official Strategy Guide Brady Games</th>\n",
       "      <td>1.0</td>\n",
       "      <td>0.0</td>\n",
       "      <td>1.0</td>\n",
       "      <td>1.000000</td>\n",
       "      <td>1.0</td>\n",
       "      <td>1.0</td>\n",
       "      <td>1.0</td>\n",
       "      <td>1.0</td>\n",
       "      <td>1.0</td>\n",
       "      <td>1.0</td>\n",
       "      <td>...</td>\n",
       "      <td>1.0</td>\n",
       "      <td>1.0</td>\n",
       "      <td>1.0</td>\n",
       "      <td>1.0</td>\n",
       "      <td>1.0</td>\n",
       "      <td>1.0</td>\n",
       "      <td>1.000000</td>\n",
       "      <td>1.0</td>\n",
       "      <td>1.0</td>\n",
       "      <td>1.0</td>\n",
       "    </tr>\n",
       "    <tr>\n",
       "      <th>Lamb to the Slaughter and Other Stories Penguin 60s S.</th>\n",
       "      <td>1.0</td>\n",
       "      <td>1.0</td>\n",
       "      <td>0.0</td>\n",
       "      <td>1.000000</td>\n",
       "      <td>1.0</td>\n",
       "      <td>1.0</td>\n",
       "      <td>1.0</td>\n",
       "      <td>1.0</td>\n",
       "      <td>1.0</td>\n",
       "      <td>1.0</td>\n",
       "      <td>...</td>\n",
       "      <td>1.0</td>\n",
       "      <td>1.0</td>\n",
       "      <td>1.0</td>\n",
       "      <td>1.0</td>\n",
       "      <td>1.0</td>\n",
       "      <td>1.0</td>\n",
       "      <td>1.000000</td>\n",
       "      <td>1.0</td>\n",
       "      <td>1.0</td>\n",
       "      <td>1.0</td>\n",
       "    </tr>\n",
       "  </tbody>\n",
       "</table>\n",
       "<p>3 rows × 32476 columns</p>\n",
       "</div>"
      ],
      "text/plain": [
       "Book-Title                                           Dark Justice  \\\n",
       "Book-Title                                                          \n",
       " Dark Justice                                                 0.0   \n",
       " Final Fantasy Anthology: Official Strategy Gui...            1.0   \n",
       " Lamb to the Slaughter and Other Stories Pengui...            1.0   \n",
       "\n",
       "Book-Title                                           Final Fantasy Anthology: Official Strategy Guide Brady Games  \\\n",
       "Book-Title                                                                                                          \n",
       " Dark Justice                                                                                     1.0               \n",
       " Final Fantasy Anthology: Official Strategy Gui...                                                0.0               \n",
       " Lamb to the Slaughter and Other Stories Pengui...                                                1.0               \n",
       "\n",
       "Book-Title                                           Lamb to the Slaughter and Other Stories Penguin 60s S.  \\\n",
       "Book-Title                                                                                                    \n",
       " Dark Justice                                                                                     1.0         \n",
       " Final Fantasy Anthology: Official Strategy Gui...                                                1.0         \n",
       " Lamb to the Slaughter and Other Stories Pengui...                                                0.0         \n",
       "\n",
       "Book-Title                                           Murder of a Sleeping Beauty Scumble River Mysteries Paperback  \\\n",
       "Book-Title                                                                                                           \n",
       " Dark Justice                                                                                0.252591                \n",
       " Final Fantasy Anthology: Official Strategy Gui...                                           1.000000                \n",
       " Lamb to the Slaughter and Other Stories Pengui...                                           1.000000                \n",
       "\n",
       "Book-Title                                           Nonbook Materials: The Organization of Integrated Collections  \\\n",
       "Book-Title                                                                                                           \n",
       " Dark Justice                                                                                     1.0                \n",
       " Final Fantasy Anthology: Official Strategy Gui...                                                1.0                \n",
       " Lamb to the Slaughter and Other Stories Pengui...                                                1.0                \n",
       "\n",
       "Book-Title                                           This Place Has No Atmosphere Laurel-Leaf Books  \\\n",
       "Book-Title                                                                                            \n",
       " Dark Justice                                                                                   1.0   \n",
       " Final Fantasy Anthology: Official Strategy Gui...                                              1.0   \n",
       " Lamb to the Slaughter and Other Stories Pengui...                                              1.0   \n",
       "\n",
       "Book-Title                                          !%@ A Nutshell handbook  \\\n",
       "Book-Title                                                                    \n",
       " Dark Justice                                                           1.0   \n",
       " Final Fantasy Anthology: Official Strategy Gui...                      1.0   \n",
       " Lamb to the Slaughter and Other Stories Pengui...                      1.0   \n",
       "\n",
       "Book-Title                                          !Arriba! Comunicacion y cultura  \\\n",
       "Book-Title                                                                            \n",
       " Dark Justice                                                                   1.0   \n",
       " Final Fantasy Anthology: Official Strategy Gui...                              1.0   \n",
       " Lamb to the Slaughter and Other Stories Pengui...                              1.0   \n",
       "\n",
       "Book-Title                                          ###############################################################################################################################################################################################################################################################  \\\n",
       "Book-Title                                                                                                                                                                                                                                                                                                            \n",
       " Dark Justice                                                                                     1.0                                                                                                                                                                                                                 \n",
       " Final Fantasy Anthology: Official Strategy Gui...                                                1.0                                                                                                                                                                                                                 \n",
       " Lamb to the Slaughter and Other Stories Pengui...                                                1.0                                                                                                                                                                                                                 \n",
       "\n",
       "Book-Title                                          $14 In The Bank Cathy Collection  \\\n",
       "Book-Title                                                                             \n",
       " Dark Justice                                                                    1.0   \n",
       " Final Fantasy Anthology: Official Strategy Gui...                               1.0   \n",
       " Lamb to the Slaughter and Other Stories Pengui...                               1.0   \n",
       "\n",
       "Book-Title                                          ...  \\\n",
       "Book-Title                                          ...   \n",
       " Dark Justice                                       ...   \n",
       " Final Fantasy Anthology: Official Strategy Gui...  ...   \n",
       " Lamb to the Slaughter and Other Stories Pengui...  ...   \n",
       "\n",
       "Book-Title                                          schÃ?Â¶ner wohnen.doc. Ein WG- Roman.  \\\n",
       "Book-Title                                                                                  \n",
       " Dark Justice                                                                         1.0   \n",
       " Final Fantasy Anthology: Official Strategy Gui...                                    1.0   \n",
       " Lamb to the Slaughter and Other Stories Pengui...                                    1.0   \n",
       "\n",
       "Book-Title                                          sed & awk 2nd Edition  \\\n",
       "Book-Title                                                                  \n",
       " Dark Justice                                                         1.0   \n",
       " Final Fantasy Anthology: Official Strategy Gui...                    1.0   \n",
       " Lamb to the Slaughter and Other Stories Pengui...                    1.0   \n",
       "\n",
       "Book-Title                                          stardust  \\\n",
       "Book-Title                                                     \n",
       " Dark Justice                                            1.0   \n",
       " Final Fantasy Anthology: Official Strategy Gui...       1.0   \n",
       " Lamb to the Slaughter and Other Stories Pengui...       1.0   \n",
       "\n",
       "Book-Title                                          termcap & terminfo O'Reilly Nutshell  \\\n",
       "Book-Title                                                                                 \n",
       " Dark Justice                                                                        1.0   \n",
       " Final Fantasy Anthology: Official Strategy Gui...                                   1.0   \n",
       " Lamb to the Slaughter and Other Stories Pengui...                                   1.0   \n",
       "\n",
       "Book-Title                                          the Dark Light Years  \\\n",
       "Book-Title                                                                 \n",
       " Dark Justice                                                        1.0   \n",
       " Final Fantasy Anthology: Official Strategy Gui...                   1.0   \n",
       " Lamb to the Slaughter and Other Stories Pengui...                   1.0   \n",
       "\n",
       "Book-Title                                          them Modern Library  \\\n",
       "Book-Title                                                                \n",
       " Dark Justice                                                       1.0   \n",
       " Final Fantasy Anthology: Official Strategy Gui...                  1.0   \n",
       " Lamb to the Slaughter and Other Stories Pengui...                  1.0   \n",
       "\n",
       "Book-Title                                          together by christmas  \\\n",
       "Book-Title                                                                  \n",
       " Dark Justice                                                    0.386428   \n",
       " Final Fantasy Anthology: Official Strategy Gui...               1.000000   \n",
       " Lamb to the Slaughter and Other Stories Pengui...               1.000000   \n",
       "\n",
       "Book-Title                                          whataboutrick.com: a poetic tribute to Richard A. Ricci  \\\n",
       "Book-Title                                                                                                    \n",
       " Dark Justice                                                                                     1.0         \n",
       " Final Fantasy Anthology: Official Strategy Gui...                                                1.0         \n",
       " Lamb to the Slaughter and Other Stories Pengui...                                                1.0         \n",
       "\n",
       "Book-Title                                          Â¿Eres tu mi mamÃ¡?Are You My Mother?  \\\n",
       "Book-Title                                                                                  \n",
       " Dark Justice                                                                         1.0   \n",
       " Final Fantasy Anthology: Official Strategy Gui...                                    1.0   \n",
       " Lamb to the Slaughter and Other Stories Pengui...                                    1.0   \n",
       "\n",
       "Book-Title                                          Ã?Â?ber das Fernsehen.  \n",
       "Book-Title                                                                  \n",
       " Dark Justice                                                          1.0  \n",
       " Final Fantasy Anthology: Official Strategy Gui...                     1.0  \n",
       " Lamb to the Slaughter and Other Stories Pengui...                     1.0  \n",
       "\n",
       "[3 rows x 32476 columns]"
      ]
     },
     "execution_count": 13,
     "metadata": {},
     "output_type": "execute_result"
    }
   ],
   "source": [
    "#creating a dataframe to bring the title names back into view\n",
    "recommender_df = pd.DataFrame(recommender, columns=pivot.index, index=pivot.index)\n",
    "recommender_df.head(3)"
   ]
  },
  {
   "cell_type": "markdown",
   "metadata": {},
   "source": [
    "## Evaluation of the Recommender Engine"
   ]
  },
  {
   "cell_type": "code",
   "execution_count": 49,
   "metadata": {},
   "outputs": [
    {
     "data": {
      "text/plain": [
       "83    Harry Potter and the Chamber of Secrets\n",
       "Name: Book-Title, dtype: object"
      ]
     },
     "execution_count": 49,
     "metadata": {},
     "output_type": "execute_result"
    }
   ],
   "source": [
    "#this is code to help find how the title is listed, adjusting the head value will give you more listed options\n",
    "#if there are any, which there can be especially with foreign versions of titles\n",
    "q = 'Harry Potter'\n",
    "explicit_ratings[explicit_ratings['Book-Title'].str.contains(q)]['Book-Title'].head(1)"
   ]
  },
  {
   "cell_type": "code",
   "execution_count": 50,
   "metadata": {
    "scrolled": true
   },
   "outputs": [
    {
     "data": {
      "text/plain": [
       "Book-Title\n",
       "Empire Falls                            0.409501\n",
       "The Nanny Diaries: A Novel              0.430060\n",
       "Life of Pi                              0.437717\n",
       "Running with Scissors: A Memoir         0.454954\n",
       "The Liar's Club: A Memoir               0.458086\n",
       "Tell No One                             0.464186\n",
       "Flashback                               0.466779\n",
       "Name of the Rose-Nla                    0.481264\n",
       "No Second  Chance                       0.492641\n",
       "Club Dead Southern Vampire Mysteries    0.493534\n",
       "Name: The Lovely Bones: A Novel, dtype: float64"
      ]
     },
     "execution_count": 50,
     "metadata": {},
     "output_type": "execute_result"
    }
   ],
   "source": [
    "#Looking up recommendations for those who liked The Lovely Bones:\n",
    "recommender_df['The Lovely Bones: A Novel'].sort_values()[1:11]"
   ]
  },
  {
   "cell_type": "code",
   "execution_count": 51,
   "metadata": {},
   "outputs": [
    {
     "data": {
      "text/plain": [
       "Book-Title\n",
       "The Catcher in the Rye                               0.491385\n",
       "Animal Farm                                          0.518920\n",
       "Tears of the Giraffe No.1 Ladies Detective Agency    0.523610\n",
       "Break in                                             0.529655\n",
       "What's Bred in the Bone                              0.531692\n",
       "Hamlet                                               0.546357\n",
       "Black Beauty                                         0.549343\n",
       "The Bad Girl's Guide to the Party Life               0.550735\n",
       "Island of the Sequined Love Nun                      0.551166\n",
       "Still Life with Woodpecker                           0.561161\n",
       "Name: To Kill a Mockingbird, dtype: float64"
      ]
     },
     "execution_count": 51,
     "metadata": {},
     "output_type": "execute_result"
    }
   ],
   "source": [
    "#Looking up recommendations for those who liked The Secret Life of Bees:\n",
    "recommender_df['To Kill a Mockingbird'].sort_values()[1:11]"
   ]
  },
  {
   "cell_type": "code",
   "execution_count": 52,
   "metadata": {},
   "outputs": [
    {
     "data": {
      "text/plain": [
       "Book-Title\n",
       "Dear Annie: A No-nonsense Guide to Getting Dressed                   0.0\n",
       "Life Isn't All Ha Ha Hee Hee                                         0.0\n",
       "East of Ealing                                                       0.0\n",
       "Quote...unquote                                                      0.0\n",
       "Far from the Madding Crowd Penguin Classics                          0.0\n",
       "Pierre Et Gilles Postcardbooks                                       0.0\n",
       "Tom's Midnight Garden                                                0.0\n",
       "The Secret Thoughts of Cats The Secret Thoughts Of:                  0.0\n",
       "The Secret Thoughts of Dogs The Secret Thoughts Series               0.0\n",
       "The Nation's Favourite Comic Poems: A Selection of Humorous Verse    0.0\n",
       "Name: Harry Potter and the Chamber of Secrets, dtype: float64"
      ]
     },
     "execution_count": 52,
     "metadata": {},
     "output_type": "execute_result"
    }
   ],
   "source": [
    "#Looking up recommendations for those who liked Harry Potter and the Sorcerer's Stone:\n",
    "recommender_df['Harry Potter and the Chamber of Secrets'].sort_values()[1:11]"
   ]
  },
  {
   "cell_type": "code",
   "execution_count": 53,
   "metadata": {},
   "outputs": [
    {
     "data": {
      "text/plain": [
       "Book-Title\n",
       "The Tale of the Body Thief Vampire Chronicles Paperback       0.407516\n",
       "The Scarlet Letter                                            0.448679\n",
       "Selected Poems                                                0.454054\n",
       "Cry to Heaven                                                 0.454633\n",
       "Seinlanguage                                                  0.462390\n",
       "Angels in America: Millennium Approaches Angels in America    0.476248\n",
       "Black Beauty                                                  0.501449\n",
       "Poemcrazy: Freeing Your Life With Words                       0.504500\n",
       "Candide Candide                                               0.506849\n",
       "Walden and Other Writings                                     0.507646\n",
       "Name: Interview with the Vampire, dtype: float64"
      ]
     },
     "execution_count": 53,
     "metadata": {},
     "output_type": "execute_result"
    }
   ],
   "source": [
    "#Looking up recommendations for those who liked Interview with the Vampire:\n",
    "recommender_df['Interview with the Vampire'].sort_values()[1:11]"
   ]
  },
  {
   "cell_type": "markdown",
   "metadata": {},
   "source": [
    "### Item Pivot Table"
   ]
  },
  {
   "cell_type": "code",
   "execution_count": 14,
   "metadata": {},
   "outputs": [],
   "source": [
    "item_pivot = sample_ratings.pivot_table(index='User-ID', columns='Book-Title', values='Book-Rating')"
   ]
  },
  {
   "cell_type": "code",
   "execution_count": 15,
   "metadata": {},
   "outputs": [
    {
     "data": {
      "text/plain": [
       "(348, 48237)"
      ]
     },
     "execution_count": 15,
     "metadata": {},
     "output_type": "execute_result"
    }
   ],
   "source": [
    "item_pivot.shape"
   ]
  },
  {
   "cell_type": "markdown",
   "metadata": {},
   "source": [
    "### Sparse Matrix\n",
    "\n",
    "The file size is large and it can slow down memory with calculating distance in pairwise, so I am converting it from a pandas datafram to a sparse dataframe. "
   ]
  },
  {
   "cell_type": "code",
   "execution_count": 16,
   "metadata": {},
   "outputs": [
    {
     "data": {
      "text/plain": [
       "134294616"
      ]
     },
     "execution_count": 16,
     "metadata": {},
     "output_type": "execute_result"
    }
   ],
   "source": [
    "#getting the size of the pivot file\n",
    "sys.getsizeof(item_pivot)"
   ]
  },
  {
   "cell_type": "code",
   "execution_count": 17,
   "metadata": {},
   "outputs": [],
   "source": [
    "#preprocessing step of converting nans to zeros.\n",
    "sparse_pivot = sparse.csr_matrix(item_pivot.fillna(0))"
   ]
  },
  {
   "cell_type": "code",
   "execution_count": 18,
   "metadata": {},
   "outputs": [
    {
     "data": {
      "text/plain": [
       "56"
      ]
     },
     "execution_count": 18,
     "metadata": {},
     "output_type": "execute_result"
    }
   ],
   "source": [
    "#getting the updated file size\n",
    "sys.getsizeof(sparse_pivot)"
   ]
  },
  {
   "cell_type": "markdown",
   "metadata": {},
   "source": [
    "## Recommender\n",
    "\n",
    "Noting that I tired sklearns metrics pairwise distances and cosine similarity and got better scores with pairwise. Though, still not great. "
   ]
  },
  {
   "cell_type": "code",
   "execution_count": 19,
   "metadata": {},
   "outputs": [],
   "source": [
    "#setting up the recommender \n",
    "item_recommender = pairwise_distances(sparse_pivot, metric=\"cosine\")"
   ]
  },
  {
   "cell_type": "code",
   "execution_count": 20,
   "metadata": {},
   "outputs": [
    {
     "data": {
      "text/plain": [
       "(348, 348)"
      ]
     },
     "execution_count": 20,
     "metadata": {},
     "output_type": "execute_result"
    }
   ],
   "source": [
    "#verifying the shape of the engine to make sure the numbers are the same\n",
    "item_recommender.shape"
   ]
  },
  {
   "cell_type": "code",
   "execution_count": 21,
   "metadata": {},
   "outputs": [
    {
     "data": {
      "text/html": [
       "<div>\n",
       "<style scoped>\n",
       "    .dataframe tbody tr th:only-of-type {\n",
       "        vertical-align: middle;\n",
       "    }\n",
       "\n",
       "    .dataframe tbody tr th {\n",
       "        vertical-align: top;\n",
       "    }\n",
       "\n",
       "    .dataframe thead th {\n",
       "        text-align: right;\n",
       "    }\n",
       "</style>\n",
       "<table border=\"1\" class=\"dataframe\">\n",
       "  <thead>\n",
       "    <tr style=\"text-align: right;\">\n",
       "      <th>User-ID</th>\n",
       "      <th>2033</th>\n",
       "      <th>2276</th>\n",
       "      <th>4017</th>\n",
       "      <th>5582</th>\n",
       "      <th>6242</th>\n",
       "      <th>6251</th>\n",
       "      <th>6543</th>\n",
       "      <th>6575</th>\n",
       "      <th>7346</th>\n",
       "      <th>8067</th>\n",
       "      <th>...</th>\n",
       "      <th>244685</th>\n",
       "      <th>245410</th>\n",
       "      <th>245827</th>\n",
       "      <th>246311</th>\n",
       "      <th>247429</th>\n",
       "      <th>247447</th>\n",
       "      <th>248718</th>\n",
       "      <th>249894</th>\n",
       "      <th>250709</th>\n",
       "      <th>277427</th>\n",
       "    </tr>\n",
       "    <tr>\n",
       "      <th>User-ID</th>\n",
       "      <th></th>\n",
       "      <th></th>\n",
       "      <th></th>\n",
       "      <th></th>\n",
       "      <th></th>\n",
       "      <th></th>\n",
       "      <th></th>\n",
       "      <th></th>\n",
       "      <th></th>\n",
       "      <th></th>\n",
       "      <th></th>\n",
       "      <th></th>\n",
       "      <th></th>\n",
       "      <th></th>\n",
       "      <th></th>\n",
       "      <th></th>\n",
       "      <th></th>\n",
       "      <th></th>\n",
       "      <th></th>\n",
       "      <th></th>\n",
       "      <th></th>\n",
       "    </tr>\n",
       "  </thead>\n",
       "  <tbody>\n",
       "    <tr>\n",
       "      <th>2033</th>\n",
       "      <td>0.000000</td>\n",
       "      <td>0.964824</td>\n",
       "      <td>1.0</td>\n",
       "      <td>1.000000</td>\n",
       "      <td>1.000000</td>\n",
       "      <td>0.952951</td>\n",
       "      <td>1.000000</td>\n",
       "      <td>1.00000</td>\n",
       "      <td>0.987337</td>\n",
       "      <td>1.000000</td>\n",
       "      <td>...</td>\n",
       "      <td>1.000000</td>\n",
       "      <td>0.978062</td>\n",
       "      <td>0.993965</td>\n",
       "      <td>1.000000</td>\n",
       "      <td>1.0</td>\n",
       "      <td>0.990691</td>\n",
       "      <td>0.987177</td>\n",
       "      <td>0.955503</td>\n",
       "      <td>1.000000</td>\n",
       "      <td>1.000000</td>\n",
       "    </tr>\n",
       "    <tr>\n",
       "      <th>2276</th>\n",
       "      <td>0.964824</td>\n",
       "      <td>0.000000</td>\n",
       "      <td>1.0</td>\n",
       "      <td>1.000000</td>\n",
       "      <td>1.000000</td>\n",
       "      <td>0.996316</td>\n",
       "      <td>1.000000</td>\n",
       "      <td>0.99143</td>\n",
       "      <td>0.979152</td>\n",
       "      <td>1.000000</td>\n",
       "      <td>...</td>\n",
       "      <td>0.973343</td>\n",
       "      <td>0.993569</td>\n",
       "      <td>0.989884</td>\n",
       "      <td>1.000000</td>\n",
       "      <td>1.0</td>\n",
       "      <td>0.993430</td>\n",
       "      <td>0.998632</td>\n",
       "      <td>0.991481</td>\n",
       "      <td>1.000000</td>\n",
       "      <td>1.000000</td>\n",
       "    </tr>\n",
       "    <tr>\n",
       "      <th>4017</th>\n",
       "      <td>1.000000</td>\n",
       "      <td>1.000000</td>\n",
       "      <td>0.0</td>\n",
       "      <td>0.977109</td>\n",
       "      <td>0.903242</td>\n",
       "      <td>0.987751</td>\n",
       "      <td>0.976813</td>\n",
       "      <td>0.92977</td>\n",
       "      <td>0.990496</td>\n",
       "      <td>0.995667</td>\n",
       "      <td>...</td>\n",
       "      <td>1.000000</td>\n",
       "      <td>1.000000</td>\n",
       "      <td>0.991148</td>\n",
       "      <td>0.954538</td>\n",
       "      <td>1.0</td>\n",
       "      <td>0.992415</td>\n",
       "      <td>0.992658</td>\n",
       "      <td>0.994793</td>\n",
       "      <td>0.987908</td>\n",
       "      <td>0.991718</td>\n",
       "    </tr>\n",
       "  </tbody>\n",
       "</table>\n",
       "<p>3 rows × 348 columns</p>\n",
       "</div>"
      ],
      "text/plain": [
       "User-ID    2033      2276    4017      5582      6242      6251      6543    \\\n",
       "User-ID                                                                       \n",
       "2033     0.000000  0.964824     1.0  1.000000  1.000000  0.952951  1.000000   \n",
       "2276     0.964824  0.000000     1.0  1.000000  1.000000  0.996316  1.000000   \n",
       "4017     1.000000  1.000000     0.0  0.977109  0.903242  0.987751  0.976813   \n",
       "\n",
       "User-ID   6575      7346      8067    ...    244685    245410    245827  \\\n",
       "User-ID                               ...                                 \n",
       "2033     1.00000  0.987337  1.000000  ...  1.000000  0.978062  0.993965   \n",
       "2276     0.99143  0.979152  1.000000  ...  0.973343  0.993569  0.989884   \n",
       "4017     0.92977  0.990496  0.995667  ...  1.000000  1.000000  0.991148   \n",
       "\n",
       "User-ID    246311  247429    247447    248718    249894    250709    277427  \n",
       "User-ID                                                                      \n",
       "2033     1.000000     1.0  0.990691  0.987177  0.955503  1.000000  1.000000  \n",
       "2276     1.000000     1.0  0.993430  0.998632  0.991481  1.000000  1.000000  \n",
       "4017     0.954538     1.0  0.992415  0.992658  0.994793  0.987908  0.991718  \n",
       "\n",
       "[3 rows x 348 columns]"
      ]
     },
     "execution_count": 21,
     "metadata": {},
     "output_type": "execute_result"
    }
   ],
   "source": [
    "#creating a dataframe to bring the title names back into view\n",
    "item_recommender_df = pd.DataFrame(item_recommender, columns=item_pivot.index, index=item_pivot.index)\n",
    "item_recommender_df.head(3)"
   ]
  },
  {
   "cell_type": "markdown",
   "metadata": {},
   "source": [
    "## The Error"
   ]
  },
  {
   "cell_type": "markdown",
   "metadata": {},
   "source": [
    "## Evaluation of the Recommender Engine"
   ]
  },
  {
   "cell_type": "code",
   "execution_count": 25,
   "metadata": {},
   "outputs": [
    {
     "data": {
      "text/plain": [
       "Int64Index([  2033,   2276,   4017,   5582,   6242,   6251,   6543,   6575,\n",
       "              7346,   8067,\n",
       "            ...\n",
       "            244685, 245410, 245827, 246311, 247429, 247447, 248718, 249894,\n",
       "            250709, 277427],\n",
       "           dtype='int64', name='User-ID', length=348)"
      ]
     },
     "execution_count": 25,
     "metadata": {},
     "output_type": "execute_result"
    }
   ],
   "source": [
    "#\n",
    "item_recommender_df.columns"
   ]
  },
  {
   "cell_type": "code",
   "execution_count": 27,
   "metadata": {},
   "outputs": [
    {
     "ename": "KeyError",
     "evalue": "' 2033 '",
     "output_type": "error",
     "traceback": [
      "\u001b[0;31m---------------------------------------------------------------------------\u001b[0m",
      "\u001b[0;31mKeyError\u001b[0m                                  Traceback (most recent call last)",
      "\u001b[0;32m/anaconda3/lib/python3.7/site-packages/pandas/core/indexes/base.py\u001b[0m in \u001b[0;36mget_loc\u001b[0;34m(self, key, method, tolerance)\u001b[0m\n\u001b[1;32m   2655\u001b[0m             \u001b[0;32mtry\u001b[0m\u001b[0;34m:\u001b[0m\u001b[0;34m\u001b[0m\u001b[0;34m\u001b[0m\u001b[0m\n\u001b[0;32m-> 2656\u001b[0;31m                 \u001b[0;32mreturn\u001b[0m \u001b[0mself\u001b[0m\u001b[0;34m.\u001b[0m\u001b[0m_engine\u001b[0m\u001b[0;34m.\u001b[0m\u001b[0mget_loc\u001b[0m\u001b[0;34m(\u001b[0m\u001b[0mkey\u001b[0m\u001b[0;34m)\u001b[0m\u001b[0;34m\u001b[0m\u001b[0;34m\u001b[0m\u001b[0m\n\u001b[0m\u001b[1;32m   2657\u001b[0m             \u001b[0;32mexcept\u001b[0m \u001b[0mKeyError\u001b[0m\u001b[0;34m:\u001b[0m\u001b[0;34m\u001b[0m\u001b[0;34m\u001b[0m\u001b[0m\n",
      "\u001b[0;32mpandas/_libs/index.pyx\u001b[0m in \u001b[0;36mpandas._libs.index.IndexEngine.get_loc\u001b[0;34m()\u001b[0m\n",
      "\u001b[0;32mpandas/_libs/index.pyx\u001b[0m in \u001b[0;36mpandas._libs.index.IndexEngine.get_loc\u001b[0;34m()\u001b[0m\n",
      "\u001b[0;32mpandas/_libs/hashtable_class_helper.pxi\u001b[0m in \u001b[0;36mpandas._libs.hashtable.PyObjectHashTable.get_item\u001b[0;34m()\u001b[0m\n",
      "\u001b[0;32mpandas/_libs/hashtable_class_helper.pxi\u001b[0m in \u001b[0;36mpandas._libs.hashtable.PyObjectHashTable.get_item\u001b[0;34m()\u001b[0m\n",
      "\u001b[0;31mKeyError\u001b[0m: ' 2033 '",
      "\nDuring handling of the above exception, another exception occurred:\n",
      "\u001b[0;31mKeyError\u001b[0m                                  Traceback (most recent call last)",
      "\u001b[0;32m<ipython-input-27-3102039f7a81>\u001b[0m in \u001b[0;36m<module>\u001b[0;34m\u001b[0m\n\u001b[1;32m      1\u001b[0m \u001b[0;31m#Looking up recommendations for those who liked The Lovely Bones:\u001b[0m\u001b[0;34m\u001b[0m\u001b[0;34m\u001b[0m\u001b[0;34m\u001b[0m\u001b[0m\n\u001b[0;32m----> 2\u001b[0;31m \u001b[0mrecommender_df\u001b[0m\u001b[0;34m[\u001b[0m\u001b[0;34m' 2033 '\u001b[0m\u001b[0;34m]\u001b[0m\u001b[0;34m.\u001b[0m\u001b[0msort_values\u001b[0m\u001b[0;34m(\u001b[0m\u001b[0;34m)\u001b[0m\u001b[0;34m[\u001b[0m\u001b[0;36m1\u001b[0m\u001b[0;34m:\u001b[0m\u001b[0;36m11\u001b[0m\u001b[0;34m]\u001b[0m\u001b[0;34m\u001b[0m\u001b[0;34m\u001b[0m\u001b[0m\n\u001b[0m",
      "\u001b[0;32m/anaconda3/lib/python3.7/site-packages/pandas/core/frame.py\u001b[0m in \u001b[0;36m__getitem__\u001b[0;34m(self, key)\u001b[0m\n\u001b[1;32m   2925\u001b[0m             \u001b[0;32mif\u001b[0m \u001b[0mself\u001b[0m\u001b[0;34m.\u001b[0m\u001b[0mcolumns\u001b[0m\u001b[0;34m.\u001b[0m\u001b[0mnlevels\u001b[0m \u001b[0;34m>\u001b[0m \u001b[0;36m1\u001b[0m\u001b[0;34m:\u001b[0m\u001b[0;34m\u001b[0m\u001b[0;34m\u001b[0m\u001b[0m\n\u001b[1;32m   2926\u001b[0m                 \u001b[0;32mreturn\u001b[0m \u001b[0mself\u001b[0m\u001b[0;34m.\u001b[0m\u001b[0m_getitem_multilevel\u001b[0m\u001b[0;34m(\u001b[0m\u001b[0mkey\u001b[0m\u001b[0;34m)\u001b[0m\u001b[0;34m\u001b[0m\u001b[0;34m\u001b[0m\u001b[0m\n\u001b[0;32m-> 2927\u001b[0;31m             \u001b[0mindexer\u001b[0m \u001b[0;34m=\u001b[0m \u001b[0mself\u001b[0m\u001b[0;34m.\u001b[0m\u001b[0mcolumns\u001b[0m\u001b[0;34m.\u001b[0m\u001b[0mget_loc\u001b[0m\u001b[0;34m(\u001b[0m\u001b[0mkey\u001b[0m\u001b[0;34m)\u001b[0m\u001b[0;34m\u001b[0m\u001b[0;34m\u001b[0m\u001b[0m\n\u001b[0m\u001b[1;32m   2928\u001b[0m             \u001b[0;32mif\u001b[0m \u001b[0mis_integer\u001b[0m\u001b[0;34m(\u001b[0m\u001b[0mindexer\u001b[0m\u001b[0;34m)\u001b[0m\u001b[0;34m:\u001b[0m\u001b[0;34m\u001b[0m\u001b[0;34m\u001b[0m\u001b[0m\n\u001b[1;32m   2929\u001b[0m                 \u001b[0mindexer\u001b[0m \u001b[0;34m=\u001b[0m \u001b[0;34m[\u001b[0m\u001b[0mindexer\u001b[0m\u001b[0;34m]\u001b[0m\u001b[0;34m\u001b[0m\u001b[0;34m\u001b[0m\u001b[0m\n",
      "\u001b[0;32m/anaconda3/lib/python3.7/site-packages/pandas/core/indexes/base.py\u001b[0m in \u001b[0;36mget_loc\u001b[0;34m(self, key, method, tolerance)\u001b[0m\n\u001b[1;32m   2656\u001b[0m                 \u001b[0;32mreturn\u001b[0m \u001b[0mself\u001b[0m\u001b[0;34m.\u001b[0m\u001b[0m_engine\u001b[0m\u001b[0;34m.\u001b[0m\u001b[0mget_loc\u001b[0m\u001b[0;34m(\u001b[0m\u001b[0mkey\u001b[0m\u001b[0;34m)\u001b[0m\u001b[0;34m\u001b[0m\u001b[0;34m\u001b[0m\u001b[0m\n\u001b[1;32m   2657\u001b[0m             \u001b[0;32mexcept\u001b[0m \u001b[0mKeyError\u001b[0m\u001b[0;34m:\u001b[0m\u001b[0;34m\u001b[0m\u001b[0;34m\u001b[0m\u001b[0m\n\u001b[0;32m-> 2658\u001b[0;31m                 \u001b[0;32mreturn\u001b[0m \u001b[0mself\u001b[0m\u001b[0;34m.\u001b[0m\u001b[0m_engine\u001b[0m\u001b[0;34m.\u001b[0m\u001b[0mget_loc\u001b[0m\u001b[0;34m(\u001b[0m\u001b[0mself\u001b[0m\u001b[0;34m.\u001b[0m\u001b[0m_maybe_cast_indexer\u001b[0m\u001b[0;34m(\u001b[0m\u001b[0mkey\u001b[0m\u001b[0;34m)\u001b[0m\u001b[0;34m)\u001b[0m\u001b[0;34m\u001b[0m\u001b[0;34m\u001b[0m\u001b[0m\n\u001b[0m\u001b[1;32m   2659\u001b[0m         \u001b[0mindexer\u001b[0m \u001b[0;34m=\u001b[0m \u001b[0mself\u001b[0m\u001b[0;34m.\u001b[0m\u001b[0mget_indexer\u001b[0m\u001b[0;34m(\u001b[0m\u001b[0;34m[\u001b[0m\u001b[0mkey\u001b[0m\u001b[0;34m]\u001b[0m\u001b[0;34m,\u001b[0m \u001b[0mmethod\u001b[0m\u001b[0;34m=\u001b[0m\u001b[0mmethod\u001b[0m\u001b[0;34m,\u001b[0m \u001b[0mtolerance\u001b[0m\u001b[0;34m=\u001b[0m\u001b[0mtolerance\u001b[0m\u001b[0;34m)\u001b[0m\u001b[0;34m\u001b[0m\u001b[0;34m\u001b[0m\u001b[0m\n\u001b[1;32m   2660\u001b[0m         \u001b[0;32mif\u001b[0m \u001b[0mindexer\u001b[0m\u001b[0;34m.\u001b[0m\u001b[0mndim\u001b[0m \u001b[0;34m>\u001b[0m \u001b[0;36m1\u001b[0m \u001b[0;32mor\u001b[0m \u001b[0mindexer\u001b[0m\u001b[0;34m.\u001b[0m\u001b[0msize\u001b[0m \u001b[0;34m>\u001b[0m \u001b[0;36m1\u001b[0m\u001b[0;34m:\u001b[0m\u001b[0;34m\u001b[0m\u001b[0;34m\u001b[0m\u001b[0m\n",
      "\u001b[0;32mpandas/_libs/index.pyx\u001b[0m in \u001b[0;36mpandas._libs.index.IndexEngine.get_loc\u001b[0;34m()\u001b[0m\n",
      "\u001b[0;32mpandas/_libs/index.pyx\u001b[0m in \u001b[0;36mpandas._libs.index.IndexEngine.get_loc\u001b[0;34m()\u001b[0m\n",
      "\u001b[0;32mpandas/_libs/hashtable_class_helper.pxi\u001b[0m in \u001b[0;36mpandas._libs.hashtable.PyObjectHashTable.get_item\u001b[0;34m()\u001b[0m\n",
      "\u001b[0;32mpandas/_libs/hashtable_class_helper.pxi\u001b[0m in \u001b[0;36mpandas._libs.hashtable.PyObjectHashTable.get_item\u001b[0;34m()\u001b[0m\n",
      "\u001b[0;31mKeyError\u001b[0m: ' 2033 '"
     ]
    }
   ],
   "source": [
    "#Looking up recommendations for those who liked The Lovely Bones:\n",
    "recommender_df[' 2033 '].sort_values()[1:11]"
   ]
  },
  {
   "cell_type": "code",
   "execution_count": null,
   "metadata": {},
   "outputs": [],
   "source": []
  },
  {
   "cell_type": "code",
   "execution_count": null,
   "metadata": {},
   "outputs": [],
   "source": []
  },
  {
   "cell_type": "code",
   "execution_count": null,
   "metadata": {},
   "outputs": [],
   "source": []
  },
  {
   "cell_type": "markdown",
   "metadata": {},
   "source": [
    "**Please continue to [3-Content-Based-Data-Cleaning-and-EDA.ipynb](./3-Content-Based-Data-Cleaning-and-EDA.ipynb) for the next step in the project: Content-Based: Data Cleaning and EDA**"
   ]
  }
 ],
 "metadata": {
  "kernelspec": {
   "display_name": "Python 3",
   "language": "python",
   "name": "python3"
  },
  "language_info": {
   "codemirror_mode": {
    "name": "ipython",
    "version": 3
   },
   "file_extension": ".py",
   "mimetype": "text/x-python",
   "name": "python",
   "nbconvert_exporter": "python",
   "pygments_lexer": "ipython3",
   "version": "3.7.1"
  }
 },
 "nbformat": 4,
 "nbformat_minor": 2
}
