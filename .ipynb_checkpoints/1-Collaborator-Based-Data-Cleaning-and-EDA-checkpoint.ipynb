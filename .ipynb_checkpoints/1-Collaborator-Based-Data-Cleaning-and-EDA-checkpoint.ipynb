{
 "cells": [
  {
   "cell_type": "markdown",
   "metadata": {},
   "source": [
    "<img align=\"left\" src=\"./assets/smallbookstack.jpg\" margin=\"50\" height=\"100\">\n",
    "\n",
    "# Book Recommender Engines Capstone Project<br><br>Collaborator-Based: Data Cleaning and EDA<br>\n",
    "***\n",
    "## Problem Statement\n",
    "\n",
    "An independent bookstore is considering having a recommender engine added to their website. They would like a demonstration on what goes into building an engine, as well as a couple examples of the different types available. Two sample book recommender engines were built: one collaborator-based and one content-based. The metric used for evaluation was cosine similarity. "
   ]
  },
  {
   "cell_type": "markdown",
   "metadata": {},
   "source": [
    "### Contents:\n",
    "- [Imports](#Imports)\n",
    "- [Reading in the Data](#Reading-in-the-Data)\n",
    "- [Preliminary Exploratory Data Analysis](#Preliminary-Exploratory-Data-Analysis)\n",
    "- [Data Cleaning](#Data-Cleaning)\n",
    "- [Further Exploratory Data Analysis](#Further-Exploratory-Data-Analysis)\n",
    "- [Saving the DataFrame](#Saving-the-DataFrame)"
   ]
  },
  {
   "cell_type": "markdown",
   "metadata": {},
   "source": [
    "## Imports"
   ]
  },
  {
   "cell_type": "code",
   "execution_count": 22,
   "metadata": {},
   "outputs": [],
   "source": [
    "#importing the packages\n",
    "import numpy as np\n",
    "import pandas as pd\n",
    "import matplotlib.pyplot as plt\n",
    "import seaborn as sns\n",
    "\n",
    "%config InlineBackend.figure_format = 'retina'"
   ]
  },
  {
   "cell_type": "markdown",
   "metadata": {},
   "source": [
    "## Reading in the Data\n",
    "\n",
    "The dataset is from [Book Crossing](http://www2.informatik.uni-freiburg.de/~cziegler/BX/) and includes three CSV files broken down by user locations, books, and user ratings. When I first tried to read them into pandas, I got tokenizing errors. I had to open then in Excel to address the problem, which was a few overlapping rows. In the books file, I noticed a bunch of urls that I knew I wouldn't be using, so I went ahead and dropped those columns before uploading and reading in the file. "
   ]
  },
  {
   "cell_type": "code",
   "execution_count": 24,
   "metadata": {},
   "outputs": [
    {
     "data": {
      "text/html": [
       "<div>\n",
       "<style scoped>\n",
       "    .dataframe tbody tr th:only-of-type {\n",
       "        vertical-align: middle;\n",
       "    }\n",
       "\n",
       "    .dataframe tbody tr th {\n",
       "        vertical-align: top;\n",
       "    }\n",
       "\n",
       "    .dataframe thead th {\n",
       "        text-align: right;\n",
       "    }\n",
       "</style>\n",
       "<table border=\"1\" class=\"dataframe\">\n",
       "  <thead>\n",
       "    <tr style=\"text-align: right;\">\n",
       "      <th></th>\n",
       "      <th>User-ID</th>\n",
       "      <th>City</th>\n",
       "      <th>State/Providence</th>\n",
       "      <th>Country</th>\n",
       "      <th>Age</th>\n",
       "    </tr>\n",
       "  </thead>\n",
       "  <tbody>\n",
       "    <tr>\n",
       "      <th>0</th>\n",
       "      <td>1.0</td>\n",
       "      <td>nyc</td>\n",
       "      <td>new york</td>\n",
       "      <td>usa</td>\n",
       "      <td>NaN</td>\n",
       "    </tr>\n",
       "    <tr>\n",
       "      <th>1</th>\n",
       "      <td>2.0</td>\n",
       "      <td>stockton</td>\n",
       "      <td>california</td>\n",
       "      <td>usa</td>\n",
       "      <td>18</td>\n",
       "    </tr>\n",
       "    <tr>\n",
       "      <th>2</th>\n",
       "      <td>3.0</td>\n",
       "      <td>moscow</td>\n",
       "      <td>yukon territory</td>\n",
       "      <td>russia</td>\n",
       "      <td>NaN</td>\n",
       "    </tr>\n",
       "    <tr>\n",
       "      <th>3</th>\n",
       "      <td>4.0</td>\n",
       "      <td>porto</td>\n",
       "      <td>v.n.gaia</td>\n",
       "      <td>portugal</td>\n",
       "      <td>17</td>\n",
       "    </tr>\n",
       "    <tr>\n",
       "      <th>4</th>\n",
       "      <td>5.0</td>\n",
       "      <td>farnborough</td>\n",
       "      <td>hants</td>\n",
       "      <td>united kingdom</td>\n",
       "      <td>NaN</td>\n",
       "    </tr>\n",
       "  </tbody>\n",
       "</table>\n",
       "</div>"
      ],
      "text/plain": [
       "   User-ID         City State/Providence         Country  Age\n",
       "0      1.0          nyc         new york             usa  NaN\n",
       "1      2.0     stockton       california             usa   18\n",
       "2      3.0       moscow  yukon territory          russia  NaN\n",
       "3      4.0        porto         v.n.gaia        portugal   17\n",
       "4      5.0  farnborough            hants  united kingdom  NaN"
      ]
     },
     "execution_count": 24,
     "metadata": {},
     "output_type": "execute_result"
    }
   ],
   "source": [
    "#reading in the users file\n",
    "users = pd.read_csv('./datasets/users.csv', encoding=\"latin1\")\n",
    "#dropping the unnamed columns\n",
    "users.drop(columns='Unnamed: 5', inplace = True)\n",
    "#checking out what's in the file\n",
    "users.head()"
   ]
  },
  {
   "cell_type": "code",
   "execution_count": 26,
   "metadata": {},
   "outputs": [
    {
     "data": {
      "text/html": [
       "<div>\n",
       "<style scoped>\n",
       "    .dataframe tbody tr th:only-of-type {\n",
       "        vertical-align: middle;\n",
       "    }\n",
       "\n",
       "    .dataframe tbody tr th {\n",
       "        vertical-align: top;\n",
       "    }\n",
       "\n",
       "    .dataframe thead th {\n",
       "        text-align: right;\n",
       "    }\n",
       "</style>\n",
       "<table border=\"1\" class=\"dataframe\">\n",
       "  <thead>\n",
       "    <tr style=\"text-align: right;\">\n",
       "      <th></th>\n",
       "      <th>User-ID</th>\n",
       "      <th>ISBN</th>\n",
       "      <th>Book-Rating</th>\n",
       "    </tr>\n",
       "  </thead>\n",
       "  <tbody>\n",
       "    <tr>\n",
       "      <th>0</th>\n",
       "      <td>6360</td>\n",
       "      <td>0</td>\n",
       "      <td>0</td>\n",
       "    </tr>\n",
       "    <tr>\n",
       "      <th>1</th>\n",
       "      <td>8094</td>\n",
       "      <td>0</td>\n",
       "      <td>0</td>\n",
       "    </tr>\n",
       "    <tr>\n",
       "      <th>2</th>\n",
       "      <td>11795</td>\n",
       "      <td>0</td>\n",
       "      <td>0</td>\n",
       "    </tr>\n",
       "    <tr>\n",
       "      <th>3</th>\n",
       "      <td>11795</td>\n",
       "      <td>0</td>\n",
       "      <td>0</td>\n",
       "    </tr>\n",
       "    <tr>\n",
       "      <th>4</th>\n",
       "      <td>20859</td>\n",
       "      <td>0</td>\n",
       "      <td>0</td>\n",
       "    </tr>\n",
       "  </tbody>\n",
       "</table>\n",
       "</div>"
      ],
      "text/plain": [
       "   User-ID ISBN  Book-Rating\n",
       "0     6360    0            0\n",
       "1     8094    0            0\n",
       "2    11795    0            0\n",
       "3    11795    0            0\n",
       "4    20859    0            0"
      ]
     },
     "execution_count": 26,
     "metadata": {},
     "output_type": "execute_result"
    }
   ],
   "source": [
    "#reading in the ratings file\n",
    "ratings = pd.read_csv('./datasets/ratings.csv', encoding=\"latin1\")\n",
    "#checking out what's in the file\n",
    "ratings.head()"
   ]
  },
  {
   "cell_type": "code",
   "execution_count": 50,
   "metadata": {},
   "outputs": [
    {
     "data": {
      "text/html": [
       "<div>\n",
       "<style scoped>\n",
       "    .dataframe tbody tr th:only-of-type {\n",
       "        vertical-align: middle;\n",
       "    }\n",
       "\n",
       "    .dataframe tbody tr th {\n",
       "        vertical-align: top;\n",
       "    }\n",
       "\n",
       "    .dataframe thead th {\n",
       "        text-align: right;\n",
       "    }\n",
       "</style>\n",
       "<table border=\"1\" class=\"dataframe\">\n",
       "  <thead>\n",
       "    <tr style=\"text-align: right;\">\n",
       "      <th></th>\n",
       "      <th>ISBN</th>\n",
       "      <th>Book-Title</th>\n",
       "      <th>Book-Author</th>\n",
       "      <th>Year-Of-Publication</th>\n",
       "      <th>Publisher</th>\n",
       "    </tr>\n",
       "  </thead>\n",
       "  <tbody>\n",
       "    <tr>\n",
       "      <th>0</th>\n",
       "      <td>670324329</td>\n",
       "      <td>0.44</td>\n",
       "      <td>Jimmy Breslin</td>\n",
       "      <td>1978</td>\n",
       "      <td>Viking Press</td>\n",
       "    </tr>\n",
       "    <tr>\n",
       "      <th>1</th>\n",
       "      <td>515127132</td>\n",
       "      <td>8.4</td>\n",
       "      <td>Peter Hernon</td>\n",
       "      <td>1999</td>\n",
       "      <td>Jove Books</td>\n",
       "    </tr>\n",
       "    <tr>\n",
       "      <th>2</th>\n",
       "      <td>399144005</td>\n",
       "      <td>8.4</td>\n",
       "      <td>Peter Hernon</td>\n",
       "      <td>1999</td>\n",
       "      <td>Putnam Pub Group</td>\n",
       "    </tr>\n",
       "    <tr>\n",
       "      <th>3</th>\n",
       "      <td>330490079</td>\n",
       "      <td>9.99</td>\n",
       "      <td>Frederic Beigbeder</td>\n",
       "      <td>2002</td>\n",
       "      <td>Pan Macmillan</td>\n",
       "    </tr>\n",
       "    <tr>\n",
       "      <th>4</th>\n",
       "      <td>889842329</td>\n",
       "      <td>13</td>\n",
       "      <td>Mary-Lou Zeitoun</td>\n",
       "      <td>2002</td>\n",
       "      <td>Porcupine's Quill</td>\n",
       "    </tr>\n",
       "  </tbody>\n",
       "</table>\n",
       "</div>"
      ],
      "text/plain": [
       "        ISBN Book-Title         Book-Author  Year-Of-Publication  \\\n",
       "0  670324329       0.44       Jimmy Breslin                 1978   \n",
       "1  515127132        8.4        Peter Hernon                 1999   \n",
       "2  399144005        8.4        Peter Hernon                 1999   \n",
       "3  330490079       9.99  Frederic Beigbeder                 2002   \n",
       "4  889842329         13    Mary-Lou Zeitoun                 2002   \n",
       "\n",
       "           Publisher  \n",
       "0       Viking Press  \n",
       "1         Jove Books  \n",
       "2   Putnam Pub Group  \n",
       "3      Pan Macmillan  \n",
       "4  Porcupine's Quill  "
      ]
     },
     "execution_count": 50,
     "metadata": {},
     "output_type": "execute_result"
    }
   ],
   "source": [
    "#reading in the books file\n",
    "books = pd.read_csv('./datasets/books.csv', encoding=\"latin1\")\n",
    "#checking out what's in the file\n",
    "books.head()"
   ]
  },
  {
   "cell_type": "markdown",
   "metadata": {},
   "source": [
    "## Preliminary Exploratory Data Analysis\n",
    "\n",
    "For preliminary EDA, I evaluated content types within each file, as well as whether or not there was missing data. At this point, I'm making an assessment of what needs to be cleaned based on what information I want to use in the recommender.  "
   ]
  },
  {
   "cell_type": "code",
   "execution_count": 51,
   "metadata": {},
   "outputs": [
    {
     "data": {
      "text/plain": [
       "User-ID             float64\n",
       "City                 object\n",
       "State/Providence     object\n",
       "Country              object\n",
       "Age                  object\n",
       "dtype: object"
      ]
     },
     "execution_count": 51,
     "metadata": {},
     "output_type": "execute_result"
    }
   ],
   "source": [
    "#taking a look at the user file types\n",
    "users.dtypes"
   ]
  },
  {
   "cell_type": "code",
   "execution_count": 52,
   "metadata": {},
   "outputs": [
    {
     "data": {
      "text/plain": [
       "User-ID         int64\n",
       "ISBN           object\n",
       "Book-Rating     int64\n",
       "dtype: object"
      ]
     },
     "execution_count": 52,
     "metadata": {},
     "output_type": "execute_result"
    }
   ],
   "source": [
    "#taking a look at the ratings file types\n",
    "ratings.dtypes"
   ]
  },
  {
   "cell_type": "code",
   "execution_count": 53,
   "metadata": {},
   "outputs": [
    {
     "data": {
      "text/plain": [
       "ISBN                   object\n",
       "Book-Title             object\n",
       "Book-Author            object\n",
       "Year-Of-Publication     int64\n",
       "Publisher              object\n",
       "dtype: object"
      ]
     },
     "execution_count": 53,
     "metadata": {},
     "output_type": "execute_result"
    }
   ],
   "source": [
    "#taking a look at the books file types\n",
    "books.dtypes"
   ]
  },
  {
   "cell_type": "code",
   "execution_count": 54,
   "metadata": {},
   "outputs": [
    {
     "data": {
      "text/plain": [
       "User-ID                  4\n",
       "City                   556\n",
       "State/Providence     16241\n",
       "Country               4663\n",
       "Age                 110657\n",
       "dtype: int64"
      ]
     },
     "execution_count": 54,
     "metadata": {},
     "output_type": "execute_result"
    }
   ],
   "source": [
    "#any nulls in the users file?\n",
    "users.isnull().sum()"
   ]
  },
  {
   "cell_type": "code",
   "execution_count": 32,
   "metadata": {},
   "outputs": [
    {
     "data": {
      "text/plain": [
       "User-ID        0\n",
       "ISBN           0\n",
       "Book-Rating    0\n",
       "dtype: int64"
      ]
     },
     "execution_count": 32,
     "metadata": {},
     "output_type": "execute_result"
    }
   ],
   "source": [
    "#noting lots of nulls in the users file, any in the ratings file?\n",
    "ratings.isnull().sum()"
   ]
  },
  {
   "cell_type": "code",
   "execution_count": 55,
   "metadata": {
    "scrolled": true
   },
   "outputs": [
    {
     "data": {
      "text/plain": [
       "ISBN                      0\n",
       "Book-Title                0\n",
       "Book-Author               0\n",
       "Year-Of-Publication       0\n",
       "Publisher              1347\n",
       "dtype: int64"
      ]
     },
     "execution_count": 55,
     "metadata": {},
     "output_type": "execute_result"
    }
   ],
   "source": [
    "#nice on the lack of nulls in the ratings file, how about books? Missing lots of publisher data\n",
    "# I won't be using that for the recommender though so it's okay\n",
    "books.isnull().sum()"
   ]
  },
  {
   "cell_type": "code",
   "execution_count": 34,
   "metadata": {},
   "outputs": [
    {
     "data": {
      "text/plain": [
       "array(['usa', 'russia', 'portugal', 'united kingdom', 'canada', 'spain',\n",
       "       'australia', 'brazil', nan, 'germany', 'mexico', 'china', 'italy',\n",
       "       'distrito federal', 'france', 'netherlands', 'iraq', 'finland',\n",
       "       'new zealand', 'india', 'ghana', 'switzerland', 'slovenia', 'iran',\n",
       "       'peru', 'bosnia and herzegovina', 'vietnam', 'sri lanka',\n",
       "       'pakistan', 'denmark', 'belgium', 'malaysia', 'u.a.e', 'turkey',\n",
       "       'philippines', 'greece', 'colombia', 'norway', 'kuwait', 'chile',\n",
       "       'quit', 'lj', 'taiwan', 'espaÃ±a', 'sweden', 'argentina',\n",
       "       'nigeria', 'london', 'bulgaria', 'austria', 'romania', 'victoria',\n",
       "       'singapore', 'albania', 'egypt', 'tunisia', 'uzbekistan', 'qatar',\n",
       "       'syria', 'saudi arabia', 'indonesia', 'sudan', 'british columbia',\n",
       "       'missouri', 'somewherein space', 'poland', 'thailand',\n",
       "       'metropolitana', 'ireland', 'venezuela', 'paraguay', 'mozambique',\n",
       "       'morocco', 'afghanistan', 'estonia', 'clackamas', 'lesotho',\n",
       "       'mansoura', 'yugoslavia', 'dc', 'slovakia', 'costa rica',\n",
       "       'basque country', 'british virgin islands', 'ethiopia', 'croatia',\n",
       "       'israel', 'japan', 'england', 'iceland', 'connecticut', 'gambia',\n",
       "       'south africa', 'cuba', 'antigua and barbuda', 'calabria',\n",
       "       'alderney', 'puerto rico', 'hong kong', 'latvia', 'jersey',\n",
       "       'luxembourg', 'belarus', 'cape verde', 'lithuania', 'guyana',\n",
       "       'scotland', 'bayern', 'hawaii', 'jordan', 'la argentina', 'angola',\n",
       "       'algeria', 'andorra', 'kyrgyzstan', 'panama', 'csa', 'sind',\n",
       "       'ecuador', 'phils', 'heard of it? :o)', 'kazakhstan',\n",
       "       'dominican republic', 'texas', 'brunei', 'morogoro', 'bangladesh',\n",
       "       'monterrey', 'bahrain', 'united arab emirates', 'jalisco',\n",
       "       'urugua', 'uruguay', 'voivodina', 'l`italia', 'francisco morazÃ¡n',\n",
       "       'georgia', 'dominica', 'malta', 'faroe islands', 'honduras',\n",
       "       'east africa', 'sierra leone', 'guatemala', 'mali', 'washington',\n",
       "       'central otago', 'czech republic', 'space', 'south korea',\n",
       "       'rwanda', 'trinidad and tobago', 'alabama', 'west yorkshire',\n",
       "       'yemen', 'you listed stroud!)', 'cyprus', 'alsace',\n",
       "       'the philippines', 'maine', 'Ã¶Ã°Â¹Ãº', 'la france', 'eritrea',\n",
       "       'bahamas', 'cameroon', 'nicaragua', 'zambia', 'canberra',\n",
       "       'bolivia', 'granada', 'mississippi', 'maroc', 'isreal', 'belize',\n",
       "       'ontario', 'oklahoma', 'fernando de la mora', 'namibia',\n",
       "       'macedonia', 'botswana', 'queenspark', 'monaco', 'samoa',\n",
       "       'lombardia', 'brasil', '19104', 'guernsey', 'euskal herria',\n",
       "       'minnesota', 'baden-wuerttemberg', 'bermuda', 'barbados',\n",
       "       'colorado', 'new york', 'trinidad', 'armenia', 'hungary',\n",
       "       'deutschland', 'cayman islands', 'ukraine', 'republic of panama',\n",
       "       'minnehaha', 'michigan', 'piemonte', 'azerbaijan', 'galiza',\n",
       "       'catalunya', 'de', 'karnataka', 'guandong province', 'suriname',\n",
       "       'pennsylvania', 'doodedoo', 'v9v 1h4', 'jamaica', 'caribbean sea',\n",
       "       '&#32654', 'cape', 'canterbury', 'u.s. virgin islands',\n",
       "       'u.s. of a.', 'arkansas', 'afganstand holla !!', 'islas canarias',\n",
       "       'kosovo', 'serbia & montenegro', 'somalia', 'moldova', 'pakistan.',\n",
       "       '-------', 'saskatchewan', 'trinidad & tobago', 'ondo state',\n",
       "       'maryland', 'tanzania', 'iowa', 'lk ammerland', 'burma',\n",
       "       'wisconsin', 'uk', 'df', 'alberta', 'selangor d.e.', 'turkei',\n",
       "       'ksa', 'tajikistan', 'new south wales', 'manitoba', 'maharashtra',\n",
       "       'ca.', 'nepal', 'sri lanka\\\\n/a\\\\', 'valtesse', 'lebanon',\n",
       "       'cote d`ivoire', 'maldives', 'catalunya(catalonia)',\n",
       "       'mÃ£?Ã¢Â©xico', 'us virgin islands', 'nederlands', 'tdzimi',\n",
       "       'queensland', 'oman', 'saint vincent and the grenadines', 'lleida',\n",
       "       'antarctica', 'nottinghamshire', 'florida', 'utah', 'itlay',\n",
       "       'u.s.a.', 'palau', 'belgique', 'south wales.',\n",
       "       'st. vincent and the grenadines', 'hessen', 'Ã¡lava',\n",
       "       'deutsches reich', 'catalonia', 'micronesia', 'kenya', 'collin',\n",
       "       'south dakota', 'zhengjiang', 'kansas', 'california', 'maharastra',\n",
       "       'grenada', 'oregon', 'bhutan', 'baxter', 'rhode island',\n",
       "       'guinea-bissau', 'evil empire', 'wales', 'mongolia',\n",
       "       'south carolina', 'hennipen', 'north carolina', 'new mexico',\n",
       "       'equatorial geuinea', '.', 'virginia', 'italia', 'rice', 'indiana',\n",
       "       'good old usa !', 'polska', 'goteborg', 'chandigarh', 'senegal',\n",
       "       'south australia', 'bbbzzzzz', 'saint lucia', 'zimbabwe', 'cass',\n",
       "       'baltimore', 'hampden', 'cambridgeshire', 'ust', 'ama lurra',\n",
       "       'polk', 'hamilton', 'vermont', 'benguet', 'fiji', 'norfolk',\n",
       "       'bernalillo', 'effingham', 'almerÃ\\xada', 'veneto', 'lake',\n",
       "       'catalunya spain', 'na', '*', 'nova scotia', 'windham',\n",
       "       'etelÃ¤-suomi', 'pa', 'ile de france', 'new hampshire',\n",
       "       'papua new guinea', 'aragÃ³n', 'veracruz', 'laos', 'sinaloa',\n",
       "       'united stated', 'burkina faso', 'philippine', 'new jersey',\n",
       "       'auckland', '?Ãº?{', 'holland', 'c', 'gabon', 'kentucky',\n",
       "       'illinois', 'channel islands', 'cote d`or', 'pasco', 'perlis',\n",
       "       'united states of america', 'ferrara', 'morgan', 'milano',\n",
       "       'europe', 'slo', 'sichuan/china', 'beijing', 'lkjlj',\n",
       "       'north korea', 'marrion', 'gulf view',\n",
       "       'commonwealth of northern mariana islands', 'mauritius', 'benin',\n",
       "       'cnina', 'hb', 'holy see', 'sÃ£o paulo', 'noord-brabant', 'haiti',\n",
       "       'region metropolitana', 'cn', 'alava', 'oeiras', 'ohio', 'jackson',\n",
       "       'trentino alto adige', 'cherokee', 'nottingham', 'espaÃ£?Ã¢Â±a',\n",
       "       'noord holland', 'lazio', 'dekalb', 'massachusetts', 'la belgique',\n",
       "       'berlin', 'v region', 'el general carlos ibaÃ±es del campo.',\n",
       "       'chesterfield south carolina', 'maricopa', 'n/a - on the road',\n",
       "       'tamil nadu', 'paris', 'berkshire', 'ua', 'attica', 'utrecht',\n",
       "       'algÃ©rie', 'north yorkshire', 'san marino', 'nrw', 'tasmania',\n",
       "       'nyhamnslÃ¤ge', 'united states', 'national capital region', 'gh',\n",
       "       'block-o', 'aruba', 'richmond country', 'srilanka', 'camberley',\n",
       "       'el salvador', 'republic of korea', 'san luis potosÃ\\xad',\n",
       "       'cÃ´te d', 'saint loius', 'quebec', 'central java/jawa tengah',\n",
       "       'framingham', 'monroe', 'kyklades', 'hornyonic', 'ouranos', 'tx',\n",
       "       'bedfordshire', 'trapani', 'kykladon', 'san bernardino', 'montana',\n",
       "       'united kindgonm', 'bvi', 'cumbria', 'd.f.', 'ee.uu', 'maekel',\n",
       "       'here and there', 'wielkopolska', 'negeri sembilan', 'malawi',\n",
       "       'andalucÃ\\xada', 'south island', 'espaÃ£Â±a', 'solomon islands',\n",
       "       'acoruÃ±a', 'washtenaw', 'tennessee', 'cabanatuan city', 'cebu',\n",
       "       'universe', 'pais vasco', 'az', 'suisse', 'kuala lumpur', 'uganda',\n",
       "       'la chine Ã©ternelle !', 'western australia', 'macau',\n",
       "       'brunei darussalam', 'netherlands antilles', 'niger', 'cape town',\n",
       "       'barcelona', 'st. helena', 'sultanate of oman', 'hagiwara',\n",
       "       'aroostook', 'fredonia - land of the brave and free',\n",
       "       'shandong province', 'guangdong', 'pontevedra', 'chad',\n",
       "       'la chine Ã©ternelle!', 'kudarat', 'fifi', 'djibouti', 'america',\n",
       "       'prince william', 'bademn wÃ¼rtemberg', 'smaland', 'lisboa',\n",
       "       'kwara state', 'marshall islands', 'la suisse', 'arizona', 'gb',\n",
       "       'worcester', 'regiÃ£o autÃ³noma da madeira', 'wood', 'rmi',\n",
       "       'hongkong', 'provincia de arauco', 'entre rÃ\\xados', 'henderson',\n",
       "       'canarias', 'heaven', 'serbia', 'mÃ©xico', 'ex rabiee el gizie',\n",
       "       'perak', 'congo', 'osceola', 'east anglia', 'van wert', 'stadt',\n",
       "       'zapopan', '87510', 'alentejo', 'Ã¤Â¸Â\\xadÃ¥?Â½', 'lornsenland',\n",
       "       'saudia arabia', 'green brook', 'dublin', 'extremadura', 'pr',\n",
       "       'mugla', 'none', 'p.r.china', 'cagayan', 'liberia', 'molise',\n",
       "       'usa & canada', 'nordrhein-westfalen', 'carter', 'myanmar',\n",
       "       'rapides', 'american samoa', 'essex', 'sao tome and principe', '-',\n",
       "       'bagan datoh', 'hubei province', 'aaa', 'emilia romagna', 'can',\n",
       "       'los angeles', 'west virginia', 'english',\n",
       "       'singapore/united kingdom', 'kievs`ka obl', 'punjab', 'nowhere',\n",
       "       'west midlands', 'andalucia', 'antalya/olympos', 'dorchester',\n",
       "       'canary islands', 'alachua', 'china Ã¶Ã°Â¹Ãº', 'phitsanulok',\n",
       "       'cambodia', 'chiba ken', 'vanuatu', 'otago', 'turkmenistan',\n",
       "       'mÃ©rida', 'antigua & barbuda', 'hillsborough', 'my', 'bourgogne',\n",
       "       'greece (=hellas)', 'isle of man', 'san franicsco', 'u.s>',\n",
       "       'agusan del sur', 'u.s.a!', 'co. kilkenny', 'edo. de mexico',\n",
       "       '2458', '5057chadwick ct.', 'the netherlands', 'far away...', 'us',\n",
       "       'fl', 'travelling', 'metro manila', 'lower saxony', 'togo',\n",
       "       'belgi', 'pinallas', 'constantine', 'south west', 'id', 'k1c7b1',\n",
       "       'orense', 'indianapolis', 'japan military', 'seoul', 'rutherford',\n",
       "       'tn', 'louisiana', 'auckland.nz', '61 men', 'bell', 'sagadan',\n",
       "       'middlesex', 'country', 'surabaya', 'serbia and montenegro',\n",
       "       'sth island n>z>', '\\\\n/a\\\\', 'region of capital / bratislava',\n",
       "       'camden', 'dfg', 'chian', 'strongbadia', 'bfe', 'liaoning',\n",
       "       'united statea', '13 - 10Âºesq.', 'china people`s republic',\n",
       "       'italien', 'clinton', 'ventura county', 'alaska', 'berguedÃ\\xa0',\n",
       "       'hamburg', 'basilicata', 'diy', 'ysa', 'africa', 'kathmandu',\n",
       "       'ÃªÃ\\xa0Ã«Ã³Ã¦Ã±ÃªÃ\\xa0Ã¿ Ã®Ã¡Ã«', 'provincia del cachapoal',\n",
       "       'armed forces-europe', 'input error', 'bladen', 'sardegna',\n",
       "       'thailoand', 'rosario', 'usa now', 'leyte', 'perÃ£Âº', 'u.s.a>',\n",
       "       'in your heart', 'stÃ¸ednÃ\\xad cechy', 'aotearoa', 'burkinafasu',\n",
       "       'adsgfdr', 'querÃ©taro', 'henry', 'kz', 'good old u.s.a.',\n",
       "       'yukon territory', 'united stated of america', 'unit', 'w sussex',\n",
       "       'rosello', 'nebraska', 'granville', 'devon', 'asturias',\n",
       "       'v gÃ¶talands lÃ¤n', 'cebu city', 'bruselas', 'england uk',\n",
       "       'ruhrgebiet', 'county cork', 'provincia mi', 'storkÃ¸benhavn',\n",
       "       'brittany', 'petrolwar nation', 'new london', 'jharkhand',\n",
       "       'harvatija', 'new brunswick', 'region de coquimbo pais chile',\n",
       "       '23232', 'sanjose', 'copenhagen', 'canda', 'north dakota',\n",
       "       'yamunanagar', 'dhaka', 'midi-pyrÃ©nÃ©es', 'nz', 'prc',\n",
       "       'capital federal', 'mexico city', 'phippines', 'sarajevo',\n",
       "       'emilia', 'sardinia', 'u', 'mi', 'lecce', 'u k',\n",
       "       'regiÃ³n metropolitana', 'moÃ§ambique', 'ventura', 'gipuzkoa',\n",
       "       'ogunstate', 'ma 01075)', 'newzealand', 'niedersachsen', 'europa',\n",
       "       'western', 'yishun st 11', 'shelby', 'bulacan', 'p.r. china',\n",
       "       'sarawak', 'malaysian', 'n.z.', 'francisco morazan', 'fred',\n",
       "       'madrid', 'nordrhein westfalen', 'selangor',\n",
       "       'usa (currently living in england)', 'tonga', 'roma', 'mÃ¡laga',\n",
       "       'indiai', 'cook', 'prov. de bs. as.', 'mordor',\n",
       "       'district of columbia', 'l`algÃ©rie', 'buenos aires',\n",
       "       'illes balears', 'z', 'u.', 'fontana', 'makassar', 'kiribati',\n",
       "       'australii', 'libya', 'italy has no states or provinces',\n",
       "       'gyeonggido', 'ukrain', 'onondaga nation', '_ brasil', 'galicia',\n",
       "       'united kindgdom', 'hungary and usa', 'toscana', 'cananda',\n",
       "       'austbritania', 'ticino', 'obviously', 'united state', 'sindh',\n",
       "       'not applicable', 'solano', 'n.y', 'aberdeenshire', 'oyo state',\n",
       "       'pender', 'lagos state', 'la chine eternelle!', 'vicenza',\n",
       "       'address is:adem ademoski 13', 'p.r.c',\n",
       "       'madrid / ourense / marinha', 'nigeria in west  african',\n",
       "       'maracopa', 'palestine', 'deep padania', 'il canada',\n",
       "       'ikotun egbe', 'ca', 'county galway', 'phila', 'guinea', 'bc',\n",
       "       'rsa', 'yu-song', 'grand bahama', 'city', 'neverland', 'c.t.',\n",
       "       'smith', 'region centro', 'rimini', 'pueblo', 'northern ireland',\n",
       "       'pippo', 'tÃ¼rkiye', '600 083', 'normandy', 'uyo', 'brabant',\n",
       "       'sonora', 'lorraine', 'la altagracia', 'spotsylvania', 'der',\n",
       "       'swaziland', 'nuevo leÃ³n', 'livingston', 's.corea', 'h.u.g.',\n",
       "       'ussurfing', 'phillipines', 'bosnia', 'exactly where i am',\n",
       "       'cadd0', 'ant.', 'euskadi', 'canada eh', 'l', 'le canada', 'korea',\n",
       "       'nh', 'uae', 'yanhill', 'wonderful usa', 'burlington', 'uusa',\n",
       "       'illes baleares', 'madagascar', 'rep san marino', 'swazilandia',\n",
       "       'u.k.', 'johnson', 'gtr manchester', 'nanjing', 'anystate',\n",
       "       '30064', 'buncombe', 'navruz 5 proezd 4', 'bucks', 'santa barbara',\n",
       "       'hainan', 'trinidad/tobago.', 'metropolitan washington', 'houston',\n",
       "       'vestergade 8', 'nuevo leon', 'paÃ¯sos catalans', 'newfoundland',\n",
       "       'heliopolis', 'slovak republik', 'cheshire', 'fortaleza', 'in',\n",
       "       'co. carlow', 'pistlavakia', 'bavaria', 's.africa', 'west sussex',\n",
       "       'australian capital territory', 'vlaanderen',\n",
       "       'saint kitts and nevis', 'palm beach', 'philippinies', 'kedah',\n",
       "       'los estados unidos de norte america', 'russian federation',\n",
       "       'courtenay', 'north island', 'mauritania', 'nevada', 'pangasinan',\n",
       "       'lee', 'comoros', 'hidalgo', 'st.gallen', 'europe : uk', 'xinyu',\n",
       "       'kalamazoo', 'region iv', 'kent', 'new providence', 'orange co',\n",
       "       'rizal', 'baden-wÃ¼rttemberg', 'in europe', '4main', 'shanghai',\n",
       "       'quetigny', 'gujarat', 'd.c.', 'idaho', 'unknown', 'guam', 'a',\n",
       "       'jawa-tengah', 'san mateo', 'davidson', 'saint luica', 'thane',\n",
       "       '85021', 'west indies', 'malkajgiri', 'vatican city',\n",
       "       'western cape', 'montenegro', 'heilongjiang', 'west brabant',\n",
       "       'whatcom', 'nordeste', 'shizuoka pref.', 'seoul korea',\n",
       "       'st. clair', 'butler', 'allen', 'autralia', 'a new year is ahead',\n",
       "       'costa brava', 'fairyland', 'we`re global!', 'thing', 'ahrensburg',\n",
       "       'kern', 'baleares', 'rheinland-pfalz', 'cape may', 'the gambia',\n",
       "       'hunan', 'united sates', 'tyrtyrt', 'leÃ³n', 'kristianstad',\n",
       "       'liushi', 'bih', 'w. malaysia', 'st.thomasi', 'camp arif jan',\n",
       "       'alajuela', 'okinawa', 'n. ireland', 'fort bend', 'eu',\n",
       "       'trinidad and tobago west indies', 'geermany', 'pasig city.',\n",
       "       'fulton', 'malakajgiri', 'nsw', 'north sumatera', 'il',\n",
       "       'le madagascar', 'tubigon', 'yakima', 'balcistsa',\n",
       "       'pÃ¤ijÃ¤t-hÃ¤me', 'lincolnshire', 'vara?dinska ?upanija',\n",
       "       'no more', 'coimbra', 'dauphin', 'nwfp', 'behind omident petrol',\n",
       "       'everywhere and anywhere', 'p r china', 'isabela', 'yorkshire',\n",
       "       'citrus.', 'morayshire', 'manila', '1776', 'land of the free',\n",
       "       'people`s republic of china', 'lane', 'venezia giulia', 'bonn',\n",
       "       'x', 'chinaÃ¶Ã°Â¹Ãº', 'galiza neghra', 'united staes',\n",
       "       'shanxi province', 'asturies', 'nl', 'prov. di milano', '&#20013',\n",
       "       'austin', 'wa', 'germay', 'overijssel', 'kawit', 'yunling', 'va',\n",
       "       'estado de mexico', 'rep. san marino', 'laoning', 'hebei',\n",
       "       'r.o.c.', 'hubei', 'bkk', 'la svizzera', 'hernando',\n",
       "       'united kingdom.'], dtype=object)"
      ]
     },
     "execution_count": 34,
     "metadata": {},
     "output_type": "execute_result"
    }
   ],
   "source": [
    "#how many unique countries are there\n",
    "users['Country'].unique()"
   ]
  },
  {
   "cell_type": "markdown",
   "metadata": {},
   "source": [
    "Based on what the countries look like, I will not be able to use location information. They have states mixed in with countries. I can also see that users typed in this info by hand because \"heard of it? :o)\" and \"somewherein space\" are not locations, let alone countries. This data would have to be assessed line by line to see if there is any valid use for it, and do to the tight timeline contraints for this project, added to the fact that I wasn't planning to include location in the recommender engine, I'll be ignoring the user location CSV file moving forward."
   ]
  },
  {
   "cell_type": "code",
   "execution_count": 57,
   "metadata": {},
   "outputs": [
    {
     "data": {
      "text/plain": [
       "array([ 0,  1,  2,  3,  4,  5,  6,  7,  8,  9, 10])"
      ]
     },
     "execution_count": 57,
     "metadata": {},
     "output_type": "execute_result"
    }
   ],
   "source": [
    "#I want to confirm that we have ratings entered correctly. 0 means they haven't rated it. \n",
    "#Ratings are on a scale of 1-10 per data dictionary. So this looks like we have a correct range of numbers here.\n",
    "ratings['Book-Rating'].unique()"
   ]
  },
  {
   "cell_type": "code",
   "execution_count": 58,
   "metadata": {},
   "outputs": [
    {
     "data": {
      "text/plain": [
       "Pocket              3688\n",
       "Ballantine Books    3451\n",
       "Bantam Books        3262\n",
       "Simon & Schuster    2667\n",
       "Penguin Books       2610\n",
       "Name: Publisher, dtype: int64"
      ]
     },
     "execution_count": 58,
     "metadata": {},
     "output_type": "execute_result"
    }
   ],
   "source": [
    "#taking a closer look at the publishers. \n",
    "books['Publisher'].value_counts().head()"
   ]
  },
  {
   "cell_type": "markdown",
   "metadata": {},
   "source": [
    "**ADDRESS PUBLISHER ODD CHARACTERS HERE**"
   ]
  },
  {
   "cell_type": "markdown",
   "metadata": {},
   "source": [
    "## Data Cleaning\n",
    "\n"
   ]
  },
  {
   "cell_type": "code",
   "execution_count": null,
   "metadata": {},
   "outputs": [],
   "source": []
  },
  {
   "cell_type": "code",
   "execution_count": null,
   "metadata": {},
   "outputs": [],
   "source": []
  },
  {
   "cell_type": "code",
   "execution_count": null,
   "metadata": {},
   "outputs": [],
   "source": []
  },
  {
   "cell_type": "code",
   "execution_count": 59,
   "metadata": {},
   "outputs": [
    {
     "data": {
      "text/html": [
       "<div>\n",
       "<style scoped>\n",
       "    .dataframe tbody tr th:only-of-type {\n",
       "        vertical-align: middle;\n",
       "    }\n",
       "\n",
       "    .dataframe tbody tr th {\n",
       "        vertical-align: top;\n",
       "    }\n",
       "\n",
       "    .dataframe thead th {\n",
       "        text-align: right;\n",
       "    }\n",
       "</style>\n",
       "<table border=\"1\" class=\"dataframe\">\n",
       "  <thead>\n",
       "    <tr style=\"text-align: right;\">\n",
       "      <th></th>\n",
       "      <th>User-ID</th>\n",
       "      <th>ISBN</th>\n",
       "      <th>Book-Rating</th>\n",
       "      <th>Book-Title</th>\n",
       "      <th>Book-Author</th>\n",
       "      <th>Year-Of-Publication</th>\n",
       "      <th>Publisher</th>\n",
       "    </tr>\n",
       "  </thead>\n",
       "  <tbody>\n",
       "    <tr>\n",
       "      <th>0</th>\n",
       "      <td>147965</td>\n",
       "      <td>1551669498</td>\n",
       "      <td>0</td>\n",
       "      <td>Girls Night</td>\n",
       "      <td>Stef Ann Holm</td>\n",
       "      <td>2002</td>\n",
       "      <td>Mira</td>\n",
       "    </tr>\n",
       "    <tr>\n",
       "      <th>1</th>\n",
       "      <td>150968</td>\n",
       "      <td>1551669498</td>\n",
       "      <td>0</td>\n",
       "      <td>Girls Night</td>\n",
       "      <td>Stef Ann Holm</td>\n",
       "      <td>2002</td>\n",
       "      <td>Mira</td>\n",
       "    </tr>\n",
       "    <tr>\n",
       "      <th>2</th>\n",
       "      <td>153662</td>\n",
       "      <td>1551669498</td>\n",
       "      <td>0</td>\n",
       "      <td>Girls Night</td>\n",
       "      <td>Stef Ann Holm</td>\n",
       "      <td>2002</td>\n",
       "      <td>Mira</td>\n",
       "    </tr>\n",
       "    <tr>\n",
       "      <th>3</th>\n",
       "      <td>153723</td>\n",
       "      <td>1551669498</td>\n",
       "      <td>0</td>\n",
       "      <td>Girls Night</td>\n",
       "      <td>Stef Ann Holm</td>\n",
       "      <td>2002</td>\n",
       "      <td>Mira</td>\n",
       "    </tr>\n",
       "    <tr>\n",
       "      <th>4</th>\n",
       "      <td>164027</td>\n",
       "      <td>1551669498</td>\n",
       "      <td>0</td>\n",
       "      <td>Girls Night</td>\n",
       "      <td>Stef Ann Holm</td>\n",
       "      <td>2002</td>\n",
       "      <td>Mira</td>\n",
       "    </tr>\n",
       "  </tbody>\n",
       "</table>\n",
       "</div>"
      ],
      "text/plain": [
       "   User-ID        ISBN  Book-Rating   Book-Title    Book-Author  \\\n",
       "0   147965  1551669498            0  Girls Night  Stef Ann Holm   \n",
       "1   150968  1551669498            0  Girls Night  Stef Ann Holm   \n",
       "2   153662  1551669498            0  Girls Night  Stef Ann Holm   \n",
       "3   153723  1551669498            0  Girls Night  Stef Ann Holm   \n",
       "4   164027  1551669498            0  Girls Night  Stef Ann Holm   \n",
       "\n",
       "   Year-Of-Publication Publisher  \n",
       "0                 2002      Mira  \n",
       "1                 2002      Mira  \n",
       "2                 2002      Mira  \n",
       "3                 2002      Mira  \n",
       "4                 2002      Mira  "
      ]
     },
     "execution_count": 59,
     "metadata": {},
     "output_type": "execute_result"
    }
   ],
   "source": [
    "#combining the ratings and books dataframes\n",
    "book_ratings = pd.merge(ratings, books, on='ISBN')\n",
    "book_ratings.head()"
   ]
  },
  {
   "cell_type": "code",
   "execution_count": 60,
   "metadata": {},
   "outputs": [
    {
     "data": {
      "text/plain": [
       "(403129, 7)"
      ]
     },
     "execution_count": 60,
     "metadata": {},
     "output_type": "execute_result"
    }
   ],
   "source": [
    "#how big is the file\n",
    "book_ratings.shape"
   ]
  },
  {
   "cell_type": "markdown",
   "metadata": {},
   "source": [
    "## Further Exploratory Data Analysis"
   ]
  },
  {
   "cell_type": "code",
   "execution_count": 41,
   "metadata": {},
   "outputs": [
    {
     "data": {
      "image/png": "[encoded data removed]",
      "text/plain": [
       "<Figure size 720x720 with 4 Axes>"
      ]
     },
     "metadata": {
      "image/png": {
       "height": 590,
       "width": 619
      },
      "needs_background": "light"
     },
     "output_type": "display_data"
    }
   ],
   "source": [
    "#checking out the numeric columns\n",
    "book_ratings.hist(figsize=(10,10));"
   ]
  },
  {
   "cell_type": "markdown",
   "metadata": {
    "collapsed": true
   },
   "source": [
    "What we an see by this is that we have a lot of unrated books, as well as a lot of missing years."
   ]
  },
  {
   "cell_type": "code",
   "execution_count": 42,
   "metadata": {},
   "outputs": [
    {
     "data": {
      "image/png": "[encoded data removed]",
      "text/plain": [
       "<Figure size 432x288 with 1 Axes>"
      ]
     },
     "metadata": {
      "image/png": {
       "height": 281,
       "width": 407
      }
     },
     "output_type": "display_data"
    }
   ],
   "source": [
    "#plotting explicit ratings to see the counts\n",
    "#I pulled out the implicit counts since those are not votes\n",
    "explicit_ratings = book_ratings[book_ratings['Book-Rating'] != 0]\n",
    "sns.set(style=\"darkgrid\")\n",
    "ax = sns.countplot(x=\"Book-Rating\", data=explicit_ratings)\n",
    "plt.title(\"Book Rating Counts\")\n",
    "plt.ylabel(\"Counts\")\n",
    "plt.xlabel(\"Book Rating\");"
   ]
  },
  {
   "cell_type": "markdown",
   "metadata": {},
   "source": [
    "It's interesting to see the skew here. Of the titles voted on, people seemed to really favor whatever it was that they read. Next, I want to take a look at what the most popular books are for these users."
   ]
  },
  {
   "cell_type": "code",
   "execution_count": 61,
   "metadata": {},
   "outputs": [],
   "source": [
    "#geting the sums of the explicit ratings per isbn\n",
    "ratings_sums = pd.DataFrame(explicit_ratings.groupby(['ISBN'])['Book-Rating'].sum())\n",
    "#soriting so the favorites show up at the top\n",
    "favorites = ratings_sums.sort_values('Book-Rating', ascending = False)\n",
    "#merging with the books csv by isbn\n",
    "favorite_books = favorites.merge(books, left_index = True, right_on = 'ISBN')"
   ]
  },
  {
   "cell_type": "code",
   "execution_count": 62,
   "metadata": {},
   "outputs": [
    {
     "data": {
      "text/html": [
       "<div>\n",
       "<style scoped>\n",
       "    .dataframe tbody tr th:only-of-type {\n",
       "        vertical-align: middle;\n",
       "    }\n",
       "\n",
       "    .dataframe tbody tr th {\n",
       "        vertical-align: top;\n",
       "    }\n",
       "\n",
       "    .dataframe thead th {\n",
       "        text-align: right;\n",
       "    }\n",
       "</style>\n",
       "<table border=\"1\" class=\"dataframe\">\n",
       "  <thead>\n",
       "    <tr style=\"text-align: right;\">\n",
       "      <th></th>\n",
       "      <th>Book-Rating</th>\n",
       "      <th>ISBN</th>\n",
       "      <th>Book-Title</th>\n",
       "      <th>Book-Author</th>\n",
       "      <th>Year-Of-Publication</th>\n",
       "      <th>Publisher</th>\n",
       "    </tr>\n",
       "  </thead>\n",
       "  <tbody>\n",
       "    <tr>\n",
       "      <th>190815</th>\n",
       "      <td>5188</td>\n",
       "      <td>316666343</td>\n",
       "      <td>The Lovely Bones: A Novel</td>\n",
       "      <td>Alice Sebold</td>\n",
       "      <td>2002</td>\n",
       "      <td>Little</td>\n",
       "    </tr>\n",
       "    <tr>\n",
       "      <th>177208</th>\n",
       "      <td>3814</td>\n",
       "      <td>385504209</td>\n",
       "      <td>The Da Vinci Code</td>\n",
       "      <td>Dan Brown</td>\n",
       "      <td>2003</td>\n",
       "      <td>Doubleday</td>\n",
       "    </tr>\n",
       "    <tr>\n",
       "      <th>199295</th>\n",
       "      <td>2890</td>\n",
       "      <td>312195516</td>\n",
       "      <td>The Red Tent Bestselling Backlist</td>\n",
       "      <td>Anita Diamant</td>\n",
       "      <td>1998</td>\n",
       "      <td>Picador USA</td>\n",
       "    </tr>\n",
       "    <tr>\n",
       "      <th>78136</th>\n",
       "      <td>2546</td>\n",
       "      <td>059035342X</td>\n",
       "      <td>Harry Potter and the Sorcerer's Stone Harry Po...</td>\n",
       "      <td>J. K. Rowling</td>\n",
       "      <td>1999</td>\n",
       "      <td>Arthur A. Levine Books</td>\n",
       "    </tr>\n",
       "    <tr>\n",
       "      <th>201530</th>\n",
       "      <td>2404</td>\n",
       "      <td>142001740</td>\n",
       "      <td>The Secret Life of Bees</td>\n",
       "      <td>Sue Monk Kidd</td>\n",
       "      <td>2003</td>\n",
       "      <td>Penguin Books</td>\n",
       "    </tr>\n",
       "    <tr>\n",
       "      <th>228200</th>\n",
       "      <td>2337</td>\n",
       "      <td>971880107</td>\n",
       "      <td>Wild Animus</td>\n",
       "      <td>Rich Shapero</td>\n",
       "      <td>2004</td>\n",
       "      <td>Too Far</td>\n",
       "    </tr>\n",
       "    <tr>\n",
       "      <th>51654</th>\n",
       "      <td>2292</td>\n",
       "      <td>60928336</td>\n",
       "      <td>Divine Secrets of the Ya-Ya Sisterhood: A Novel</td>\n",
       "      <td>Rebecca Wells</td>\n",
       "      <td>1997</td>\n",
       "      <td>Perennial</td>\n",
       "    </tr>\n",
       "    <tr>\n",
       "      <th>226590</th>\n",
       "      <td>2145</td>\n",
       "      <td>446672211</td>\n",
       "      <td>Where the Heart Is Oprah's Book Club Paperback</td>\n",
       "      <td>Billie Letts</td>\n",
       "      <td>1998</td>\n",
       "      <td>Warner Books</td>\n",
       "    </tr>\n",
       "    <tr>\n",
       "      <th>14205</th>\n",
       "      <td>2043</td>\n",
       "      <td>671027360</td>\n",
       "      <td>Angels &amp; Demons</td>\n",
       "      <td>Dan Brown</td>\n",
       "      <td>2001</td>\n",
       "      <td>Pocket Star</td>\n",
       "    </tr>\n",
       "    <tr>\n",
       "      <th>72875</th>\n",
       "      <td>2040</td>\n",
       "      <td>452282152</td>\n",
       "      <td>Girl with a Pearl Earring</td>\n",
       "      <td>Tracy Chevalier</td>\n",
       "      <td>2001</td>\n",
       "      <td>Plume Books</td>\n",
       "    </tr>\n",
       "  </tbody>\n",
       "</table>\n",
       "</div>"
      ],
      "text/plain": [
       "        Book-Rating        ISBN  \\\n",
       "190815         5188   316666343   \n",
       "177208         3814   385504209   \n",
       "199295         2890   312195516   \n",
       "78136          2546  059035342X   \n",
       "201530         2404   142001740   \n",
       "228200         2337   971880107   \n",
       "51654          2292    60928336   \n",
       "226590         2145   446672211   \n",
       "14205          2043   671027360   \n",
       "72875          2040   452282152   \n",
       "\n",
       "                                               Book-Title      Book-Author  \\\n",
       "190815                          The Lovely Bones: A Novel     Alice Sebold   \n",
       "177208                                  The Da Vinci Code        Dan Brown   \n",
       "199295                  The Red Tent Bestselling Backlist    Anita Diamant   \n",
       "78136   Harry Potter and the Sorcerer's Stone Harry Po...    J. K. Rowling   \n",
       "201530                            The Secret Life of Bees    Sue Monk Kidd   \n",
       "228200                                        Wild Animus     Rich Shapero   \n",
       "51654     Divine Secrets of the Ya-Ya Sisterhood: A Novel    Rebecca Wells   \n",
       "226590     Where the Heart Is Oprah's Book Club Paperback     Billie Letts   \n",
       "14205                                     Angels & Demons        Dan Brown   \n",
       "72875                           Girl with a Pearl Earring  Tracy Chevalier   \n",
       "\n",
       "        Year-Of-Publication               Publisher  \n",
       "190815                 2002                  Little  \n",
       "177208                 2003               Doubleday  \n",
       "199295                 1998             Picador USA  \n",
       "78136                  1999  Arthur A. Levine Books  \n",
       "201530                 2003           Penguin Books  \n",
       "228200                 2004                 Too Far  \n",
       "51654                  1997               Perennial  \n",
       "226590                 1998            Warner Books  \n",
       "14205                  2001             Pocket Star  \n",
       "72875                  2001             Plume Books  "
      ]
     },
     "execution_count": 62,
     "metadata": {},
     "output_type": "execute_result"
    }
   ],
   "source": [
    "#let's look at the top 10 rated books\n",
    "favorite_books.head(10)"
   ]
  },
  {
   "cell_type": "code",
   "execution_count": 46,
   "metadata": {},
   "outputs": [
    {
     "data": {
      "text/plain": [
       "11676     6314\n",
       "98391     4976\n",
       "153662    1620\n",
       "189835    1547\n",
       "23902     1111\n",
       "Name: User-ID, dtype: int64"
      ]
     },
     "execution_count": 46,
     "metadata": {},
     "output_type": "execute_result"
    }
   ],
   "source": [
    "#I want to take a look at how many ratings there are per user, but only for those things they actually rated\n",
    "#so using the explicit_ratings df I created for this\n",
    "user_counts = explicit_ratings['User-ID'].value_counts()\n",
    "user_counts.head()"
   ]
  },
  {
   "cell_type": "code",
   "execution_count": null,
   "metadata": {},
   "outputs": [],
   "source": []
  },
  {
   "cell_type": "code",
   "execution_count": null,
   "metadata": {},
   "outputs": [],
   "source": []
  },
  {
   "cell_type": "markdown",
   "metadata": {},
   "source": [
    "## Saving the DataFrame"
   ]
  },
  {
   "cell_type": "code",
   "execution_count": 63,
   "metadata": {},
   "outputs": [],
   "source": [
    "#saving the explicit_ratings dataframe to a csv\n",
    "explicit_ratings.to_csv('./datasets/explicit_ratings.csv')"
   ]
  },
  {
   "cell_type": "markdown",
   "metadata": {},
   "source": [
    "**Please continue to [2-Collaborator-Based-Preprocessing-and-Engine.ipynb](./2-Collaborator-Based-Preprocessing-and-Engine.ipynb) for the next step in the project: Preprocessing and Engine**"
   ]
  }
 ],
 "metadata": {
  "kernelspec": {
   "display_name": "Python 3",
   "language": "python",
   "name": "python3"
  },
  "language_info": {
   "codemirror_mode": {
    "name": "ipython",
    "version": 3
   },
   "file_extension": ".py",
   "mimetype": "text/x-python",
   "name": "python",
   "nbconvert_exporter": "python",
   "pygments_lexer": "ipython3",
   "version": "3.7.1"
  }
 },
 "nbformat": 4,
 "nbformat_minor": 2
}
