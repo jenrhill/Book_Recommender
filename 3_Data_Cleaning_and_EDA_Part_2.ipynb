{
 "cells": [
  {
   "cell_type": "markdown",
   "metadata": {},
   "source": [
    "# Books Recommender Engine: Data Cleaning and EDA Part 2"
   ]
  },
  {
   "cell_type": "markdown",
   "metadata": {},
   "source": [
    "Reference to notebook #2. "
   ]
  },
  {
   "cell_type": "markdown",
   "metadata": {},
   "source": [
    "### Contents:\n",
    "- [Imports](#Imports)\n",
    "- [Reading in the Data](#Reading-in-the-Data)\n",
    "- [Preliminary Exploratory Data Analysis](#Preliminary-Exploratory-Data-Analysis)\n",
    "- [Data Cleaning](#Data-Cleaning)\n",
    "- [Exploratory Data Analysis](#Exploratory-Data-Analysis)\n",
    "- [Saving the DataFrame](#Saving-the-DataFrame)"
   ]
  },
  {
   "cell_type": "markdown",
   "metadata": {},
   "source": [
    "## Imports"
   ]
  },
  {
   "cell_type": "code",
   "execution_count": 156,
   "metadata": {},
   "outputs": [],
   "source": [
    "#importing in the packages\n",
    "import numpy as np\n",
    "import pandas as pd\n",
    "import matplotlib.pyplot as plt\n",
    "import seaborn as sns\n",
    "import requests\n",
    "import regex as re\n",
    "from sklearn.feature_extraction.text import CountVectorizer\n",
    "from nltk.corpus import stopwords\n",
    "\n",
    "%config InlineBackend.figure_format = 'retina'"
   ]
  },
  {
   "cell_type": "markdown",
   "metadata": {},
   "source": [
    "## Reading in the Data\n",
    "\n",
    "Info about the dataset here"
   ]
  },
  {
   "cell_type": "code",
   "execution_count": 157,
   "metadata": {},
   "outputs": [
    {
     "data": {
      "text/html": [
       "<div>\n",
       "<style scoped>\n",
       "    .dataframe tbody tr th:only-of-type {\n",
       "        vertical-align: middle;\n",
       "    }\n",
       "\n",
       "    .dataframe tbody tr th {\n",
       "        vertical-align: top;\n",
       "    }\n",
       "\n",
       "    .dataframe thead th {\n",
       "        text-align: right;\n",
       "    }\n",
       "</style>\n",
       "<table border=\"1\" class=\"dataframe\">\n",
       "  <thead>\n",
       "    <tr style=\"text-align: right;\">\n",
       "      <th></th>\n",
       "      <th>author_average_rating</th>\n",
       "      <th>author_gender</th>\n",
       "      <th>author_genres</th>\n",
       "      <th>author_id</th>\n",
       "      <th>author_name</th>\n",
       "      <th>author_page_url</th>\n",
       "      <th>author_rating_count</th>\n",
       "      <th>author_review_count</th>\n",
       "      <th>birthplace</th>\n",
       "      <th>book_average_rating</th>\n",
       "      <th>book_fullurl</th>\n",
       "      <th>book_id</th>\n",
       "      <th>book_title</th>\n",
       "      <th>genre_1</th>\n",
       "      <th>genre_2</th>\n",
       "      <th>num_ratings</th>\n",
       "      <th>num_reviews</th>\n",
       "      <th>pages</th>\n",
       "      <th>publish_date</th>\n",
       "      <th>score</th>\n",
       "    </tr>\n",
       "  </thead>\n",
       "  <tbody>\n",
       "    <tr>\n",
       "      <th>0</th>\n",
       "      <td>3.93</td>\n",
       "      <td>male</td>\n",
       "      <td>christian,philosophy,religion,</td>\n",
       "      <td>6819578</td>\n",
       "      <td>Augustine of Hippo\\n</td>\n",
       "      <td>/author/show/6819578.Augustine_of_Hippo</td>\n",
       "      <td>56672</td>\n",
       "      <td>2845</td>\n",
       "      <td>Algeria\\n</td>\n",
       "      <td>3.90</td>\n",
       "      <td>https://www.goodreads.com/book/show/27037.Conf...</td>\n",
       "      <td>27037</td>\n",
       "      <td>\\n      The Confessions of St. Augustine\\n</td>\n",
       "      <td>Philosophy</td>\n",
       "      <td>Classics</td>\n",
       "      <td>38803</td>\n",
       "      <td>1886</td>\n",
       "      <td>0</td>\n",
       "      <td>397</td>\n",
       "      <td>604</td>\n",
       "    </tr>\n",
       "    <tr>\n",
       "      <th>1</th>\n",
       "      <td>4.05</td>\n",
       "      <td>male</td>\n",
       "      <td>children-s-books,science-fiction-fantasy,relig...</td>\n",
       "      <td>2413</td>\n",
       "      <td>George MacDonald\\n</td>\n",
       "      <td>/author/show/2413.George_MacDonald</td>\n",
       "      <td>84443</td>\n",
       "      <td>5868</td>\n",
       "      <td>Scotland\\n</td>\n",
       "      <td>4.01</td>\n",
       "      <td>https://www.goodreads.com/book/show/179579.The...</td>\n",
       "      <td>179579</td>\n",
       "      <td>\\n      The Light Princess\\n</td>\n",
       "      <td>Fantasy</td>\n",
       "      <td>Classics</td>\n",
       "      <td>5950</td>\n",
       "      <td>384</td>\n",
       "      <td>0</td>\n",
       "      <td>1864</td>\n",
       "      <td>1149</td>\n",
       "    </tr>\n",
       "    <tr>\n",
       "      <th>2</th>\n",
       "      <td>4.01</td>\n",
       "      <td>male</td>\n",
       "      <td>children-s-books,travel,</td>\n",
       "      <td>45306</td>\n",
       "      <td>Karl May\\n</td>\n",
       "      <td>/author/show/45306.Karl_May</td>\n",
       "      <td>28502</td>\n",
       "      <td>614</td>\n",
       "      <td>Germany\\n</td>\n",
       "      <td>4.14</td>\n",
       "      <td>https://www.goodreads.com/book/show/1612379.Wi...</td>\n",
       "      <td>1612379</td>\n",
       "      <td>\\n      Winnetou I\\n</td>\n",
       "      <td>Fiction</td>\n",
       "      <td>Adventure</td>\n",
       "      <td>3664</td>\n",
       "      <td>154</td>\n",
       "      <td>0</td>\n",
       "      <td>1892</td>\n",
       "      <td>1366</td>\n",
       "    </tr>\n",
       "    <tr>\n",
       "      <th>3</th>\n",
       "      <td>3.91</td>\n",
       "      <td>female</td>\n",
       "      <td>children-s-books,mystery-thrillers,young-adult,</td>\n",
       "      <td>6001</td>\n",
       "      <td>Carolyn Keene\\n</td>\n",
       "      <td>/author/show/6001.Carolyn_Keene</td>\n",
       "      <td>574501</td>\n",
       "      <td>17566</td>\n",
       "      <td>\\n</td>\n",
       "      <td>4.24</td>\n",
       "      <td>https://www.goodreads.com/book/show/32974.Nanc...</td>\n",
       "      <td>32974</td>\n",
       "      <td>\\n      Nancy Drew: #1-6 [Box Set]\\n</td>\n",
       "      <td>Mystery</td>\n",
       "      <td>Young Adult</td>\n",
       "      <td>2883</td>\n",
       "      <td>108</td>\n",
       "      <td>0</td>\n",
       "      <td>1930</td>\n",
       "      <td>2937</td>\n",
       "    </tr>\n",
       "    <tr>\n",
       "      <th>4</th>\n",
       "      <td>4.14</td>\n",
       "      <td>male</td>\n",
       "      <td>christian,religion,</td>\n",
       "      <td>1069006</td>\n",
       "      <td>C.S. Lewis\\n</td>\n",
       "      <td>/author/show/1069006.C_S_Lewis</td>\n",
       "      <td>5029410</td>\n",
       "      <td>112009</td>\n",
       "      <td>Ireland\\n</td>\n",
       "      <td>4.12</td>\n",
       "      <td>https://www.goodreads.com/book/show/30628.Spac...</td>\n",
       "      <td>30628</td>\n",
       "      <td>\\n      Space Trilogy: Out of the Silent Plane...</td>\n",
       "      <td>Science Fiction</td>\n",
       "      <td>Fiction</td>\n",
       "      <td>8258</td>\n",
       "      <td>358</td>\n",
       "      <td>0</td>\n",
       "      <td>1938</td>\n",
       "      <td>1706</td>\n",
       "    </tr>\n",
       "  </tbody>\n",
       "</table>\n",
       "</div>"
      ],
      "text/plain": [
       "   author_average_rating author_gender  \\\n",
       "0                   3.93          male   \n",
       "1                   4.05          male   \n",
       "2                   4.01          male   \n",
       "3                   3.91        female   \n",
       "4                   4.14          male   \n",
       "\n",
       "                                       author_genres  author_id  \\\n",
       "0                     christian,philosophy,religion,    6819578   \n",
       "1  children-s-books,science-fiction-fantasy,relig...       2413   \n",
       "2                           children-s-books,travel,      45306   \n",
       "3    children-s-books,mystery-thrillers,young-adult,       6001   \n",
       "4                                christian,religion,    1069006   \n",
       "\n",
       "            author_name                          author_page_url  \\\n",
       "0  Augustine of Hippo\\n  /author/show/6819578.Augustine_of_Hippo   \n",
       "1    George MacDonald\\n       /author/show/2413.George_MacDonald   \n",
       "2            Karl May\\n              /author/show/45306.Karl_May   \n",
       "3       Carolyn Keene\\n          /author/show/6001.Carolyn_Keene   \n",
       "4          C.S. Lewis\\n           /author/show/1069006.C_S_Lewis   \n",
       "\n",
       "   author_rating_count  author_review_count      birthplace  \\\n",
       "0                56672                 2845   Algeria\\n       \n",
       "1                84443                 5868  Scotland\\n       \n",
       "2                28502                  614   Germany\\n       \n",
       "3               574501                17566            \\n     \n",
       "4              5029410               112009   Ireland\\n       \n",
       "\n",
       "   book_average_rating                                       book_fullurl  \\\n",
       "0                 3.90  https://www.goodreads.com/book/show/27037.Conf...   \n",
       "1                 4.01  https://www.goodreads.com/book/show/179579.The...   \n",
       "2                 4.14  https://www.goodreads.com/book/show/1612379.Wi...   \n",
       "3                 4.24  https://www.goodreads.com/book/show/32974.Nanc...   \n",
       "4                 4.12  https://www.goodreads.com/book/show/30628.Spac...   \n",
       "\n",
       "   book_id                                         book_title  \\\n",
       "0    27037         \\n      The Confessions of St. Augustine\\n   \n",
       "1   179579                       \\n      The Light Princess\\n   \n",
       "2  1612379                               \\n      Winnetou I\\n   \n",
       "3    32974               \\n      Nancy Drew: #1-6 [Box Set]\\n   \n",
       "4    30628  \\n      Space Trilogy: Out of the Silent Plane...   \n",
       "\n",
       "           genre_1      genre_2  num_ratings  num_reviews  pages  \\\n",
       "0       Philosophy     Classics        38803         1886      0   \n",
       "1          Fantasy     Classics         5950          384      0   \n",
       "2          Fiction    Adventure         3664          154      0   \n",
       "3          Mystery  Young Adult         2883          108      0   \n",
       "4  Science Fiction      Fiction         8258          358      0   \n",
       "\n",
       "   publish_date  score  \n",
       "0           397    604  \n",
       "1          1864   1149  \n",
       "2          1892   1366  \n",
       "3          1930   2937  \n",
       "4          1938   1706  "
      ]
     },
     "execution_count": 157,
     "metadata": {},
     "output_type": "execute_result"
    }
   ],
   "source": [
    "#reading in the data\n",
    "goodreads = pd.read_csv('./datasets/goodreads.csv')\n",
    "goodreads.head()"
   ]
  },
  {
   "cell_type": "markdown",
   "metadata": {},
   "source": [
    "## Preliminary Exploratory Data Analysis"
   ]
  },
  {
   "cell_type": "code",
   "execution_count": 158,
   "metadata": {},
   "outputs": [],
   "source": [
    "#I know I won't need some of these columns, so I'm going to go ahead and drop them \n",
    "goodreads.drop(['author_page_url', 'book_fullurl', 'author_gender', 'author_genres', 'author_average_rating', 'author_id', 'birthplace', 'author_rating_count', 'author_review_count', 'book_id'], 1,  inplace=True)"
   ]
  },
  {
   "cell_type": "code",
   "execution_count": 159,
   "metadata": {},
   "outputs": [
    {
     "data": {
      "text/plain": [
       "(22678, 10)"
      ]
     },
     "execution_count": 159,
     "metadata": {},
     "output_type": "execute_result"
    }
   ],
   "source": [
    "# Looking at how large the file is\n",
    "goodreads.shape"
   ]
  },
  {
   "cell_type": "code",
   "execution_count": 160,
   "metadata": {},
   "outputs": [
    {
     "data": {
      "text/plain": [
       "author_name             object\n",
       "book_average_rating    float64\n",
       "book_title              object\n",
       "genre_1                 object\n",
       "genre_2                 object\n",
       "num_ratings              int64\n",
       "num_reviews              int64\n",
       "pages                    int64\n",
       "publish_date             int64\n",
       "score                    int64\n",
       "dtype: object"
      ]
     },
     "execution_count": 160,
     "metadata": {},
     "output_type": "execute_result"
    }
   ],
   "source": [
    "#taking a look at the user file types\n",
    "goodreads.dtypes"
   ]
  },
  {
   "cell_type": "code",
   "execution_count": 161,
   "metadata": {},
   "outputs": [
    {
     "data": {
      "text/plain": [
       "author_name            0\n",
       "book_average_rating    0\n",
       "book_title             0\n",
       "genre_1                0\n",
       "genre_2                0\n",
       "num_ratings            0\n",
       "num_reviews            0\n",
       "pages                  0\n",
       "publish_date           0\n",
       "score                  0\n",
       "dtype: int64"
      ]
     },
     "execution_count": 161,
     "metadata": {},
     "output_type": "execute_result"
    }
   ],
   "source": [
    "#Looking for nulls\n",
    "goodreads.isnull().sum()"
   ]
  },
  {
   "cell_type": "code",
   "execution_count": 162,
   "metadata": {},
   "outputs": [
    {
     "data": {
      "text/html": [
       "<div>\n",
       "<style scoped>\n",
       "    .dataframe tbody tr th:only-of-type {\n",
       "        vertical-align: middle;\n",
       "    }\n",
       "\n",
       "    .dataframe tbody tr th {\n",
       "        vertical-align: top;\n",
       "    }\n",
       "\n",
       "    .dataframe thead th {\n",
       "        text-align: right;\n",
       "    }\n",
       "</style>\n",
       "<table border=\"1\" class=\"dataframe\">\n",
       "  <thead>\n",
       "    <tr style=\"text-align: right;\">\n",
       "      <th></th>\n",
       "      <th>book_average_rating</th>\n",
       "      <th>num_ratings</th>\n",
       "      <th>num_reviews</th>\n",
       "      <th>pages</th>\n",
       "      <th>publish_date</th>\n",
       "      <th>score</th>\n",
       "    </tr>\n",
       "  </thead>\n",
       "  <tbody>\n",
       "    <tr>\n",
       "      <th>count</th>\n",
       "      <td>22678.000000</td>\n",
       "      <td>2.267800e+04</td>\n",
       "      <td>22678.000000</td>\n",
       "      <td>22678.000000</td>\n",
       "      <td>22678.000000</td>\n",
       "      <td>22678.000000</td>\n",
       "    </tr>\n",
       "    <tr>\n",
       "      <th>mean</th>\n",
       "      <td>3.951732</td>\n",
       "      <td>4.676406e+04</td>\n",
       "      <td>2327.537966</td>\n",
       "      <td>332.930990</td>\n",
       "      <td>1935.191904</td>\n",
       "      <td>3872.682953</td>\n",
       "    </tr>\n",
       "    <tr>\n",
       "      <th>std</th>\n",
       "      <td>0.290897</td>\n",
       "      <td>1.800386e+05</td>\n",
       "      <td>6835.540664</td>\n",
       "      <td>218.542768</td>\n",
       "      <td>352.900758</td>\n",
       "      <td>10951.091304</td>\n",
       "    </tr>\n",
       "    <tr>\n",
       "      <th>min</th>\n",
       "      <td>0.000000</td>\n",
       "      <td>0.000000e+00</td>\n",
       "      <td>0.000000</td>\n",
       "      <td>0.000000</td>\n",
       "      <td>-720.000000</td>\n",
       "      <td>55.000000</td>\n",
       "    </tr>\n",
       "    <tr>\n",
       "      <th>25%</th>\n",
       "      <td>3.770000</td>\n",
       "      <td>8.280000e+02</td>\n",
       "      <td>106.000000</td>\n",
       "      <td>238.000000</td>\n",
       "      <td>1998.000000</td>\n",
       "      <td>832.000000</td>\n",
       "    </tr>\n",
       "    <tr>\n",
       "      <th>50%</th>\n",
       "      <td>3.960000</td>\n",
       "      <td>4.441500e+03</td>\n",
       "      <td>386.000000</td>\n",
       "      <td>315.000000</td>\n",
       "      <td>2011.000000</td>\n",
       "      <td>1724.000000</td>\n",
       "    </tr>\n",
       "    <tr>\n",
       "      <th>75%</th>\n",
       "      <td>4.140000</td>\n",
       "      <td>2.036750e+04</td>\n",
       "      <td>1508.000000</td>\n",
       "      <td>384.000000</td>\n",
       "      <td>2013.000000</td>\n",
       "      <td>3590.500000</td>\n",
       "    </tr>\n",
       "    <tr>\n",
       "      <th>max</th>\n",
       "      <td>5.000000</td>\n",
       "      <td>3.820921e+06</td>\n",
       "      <td>147696.000000</td>\n",
       "      <td>6680.000000</td>\n",
       "      <td>2019.000000</td>\n",
       "      <td>598270.000000</td>\n",
       "    </tr>\n",
       "  </tbody>\n",
       "</table>\n",
       "</div>"
      ],
      "text/plain": [
       "       book_average_rating   num_ratings    num_reviews         pages  \\\n",
       "count         22678.000000  2.267800e+04   22678.000000  22678.000000   \n",
       "mean              3.951732  4.676406e+04    2327.537966    332.930990   \n",
       "std               0.290897  1.800386e+05    6835.540664    218.542768   \n",
       "min               0.000000  0.000000e+00       0.000000      0.000000   \n",
       "25%               3.770000  8.280000e+02     106.000000    238.000000   \n",
       "50%               3.960000  4.441500e+03     386.000000    315.000000   \n",
       "75%               4.140000  2.036750e+04    1508.000000    384.000000   \n",
       "max               5.000000  3.820921e+06  147696.000000   6680.000000   \n",
       "\n",
       "       publish_date          score  \n",
       "count  22678.000000   22678.000000  \n",
       "mean    1935.191904    3872.682953  \n",
       "std      352.900758   10951.091304  \n",
       "min     -720.000000      55.000000  \n",
       "25%     1998.000000     832.000000  \n",
       "50%     2011.000000    1724.000000  \n",
       "75%     2013.000000    3590.500000  \n",
       "max     2019.000000  598270.000000  "
      ]
     },
     "execution_count": 162,
     "metadata": {},
     "output_type": "execute_result"
    }
   ],
   "source": [
    "#initial look at the numbers num_ratings looks like it may have some anomolies, stds look pretty large \n",
    "#for num_reviews and score, also noting that year doesn't show up. Must be text in that column somewhere.\n",
    "goodreads.describe()"
   ]
  },
  {
   "cell_type": "markdown",
   "metadata": {},
   "source": [
    "## Data Cleaning"
   ]
  },
  {
   "cell_type": "code",
   "execution_count": 163,
   "metadata": {},
   "outputs": [],
   "source": [
    "#dropping duplicates\n",
    "goodreads = goodreads.drop_duplicates()"
   ]
  },
  {
   "cell_type": "code",
   "execution_count": 166,
   "metadata": {},
   "outputs": [],
   "source": [
    "#I noticed new row markers (\\n) in the book title column so let's remove those\n",
    "goodreads['book_title'] = goodreads['book_title'].map(lambda cell: cell.replace(\"\\n\",\" \"))"
   ]
  },
  {
   "cell_type": "code",
   "execution_count": 167,
   "metadata": {},
   "outputs": [],
   "source": [
    "#the author column has the new row markers too so I'm removing them:\n",
    "goodreads['author_name'] = goodreads['author_name'].map(lambda cell: cell.replace(\"\\n\",\" \"))"
   ]
  },
  {
   "cell_type": "code",
   "execution_count": 168,
   "metadata": {},
   "outputs": [
    {
     "data": {
      "text/plain": [
       "21942   -720\n",
       "21092   -720\n",
       "21093   -720\n",
       "21943   -720\n",
       "17594   -600\n",
       "Name: publish_date, dtype: int64"
      ]
     },
     "execution_count": 168,
     "metadata": {},
     "output_type": "execute_result"
    }
   ],
   "source": [
    "#taking a look at the year column more closely because I saw negatives in the summary stats\n",
    "goodreads['publish_date'].sort_values(ascending=True).head()"
   ]
  },
  {
   "cell_type": "markdown",
   "metadata": {},
   "source": [
    "There are a lot of incorrect year listings. I'm going to take a sample of the dataset and pull everything from 1800 and upward, and I'm including years back that far because it looks like they are listing first year publication."
   ]
  },
  {
   "cell_type": "code",
   "execution_count": 169,
   "metadata": {},
   "outputs": [],
   "source": [
    "#pulling a sample set based on the year being 1900 and above. \n",
    "goodreads_sample = goodreads[goodreads['publish_date'] >= 1900]"
   ]
  },
  {
   "cell_type": "code",
   "execution_count": 170,
   "metadata": {},
   "outputs": [
    {
     "data": {
      "text/plain": [
       "(21487, 10)"
      ]
     },
     "execution_count": 170,
     "metadata": {},
     "output_type": "execute_result"
    }
   ],
   "source": [
    "#checking the size to see how many rows we lost and it looks like we lost just over 1k.\n",
    "goodreads_sample.shape"
   ]
  },
  {
   "cell_type": "code",
   "execution_count": 171,
   "metadata": {
    "scrolled": true
   },
   "outputs": [
    {
     "data": {
      "text/plain": [
       "Romance                    3271\n",
       "Fantasy                    3255\n",
       "Young Adult                2434\n",
       "Fiction                    2081\n",
       "Historical                 1370\n",
       "Nonfiction                  943\n",
       "Science Fiction             938\n",
       "Mystery                     799\n",
       "Sequential Art              628\n",
       "Horror                      508\n",
       "Childrens                   413\n",
       "History                     387\n",
       "Paranormal                  328\n",
       "New Adult                   324\n",
       "Classics                    317\n",
       "Poetry                      220\n",
       "Erotica                     189\n",
       "Thriller                    159\n",
       "Biography                   156\n",
       "Dark                        152\n",
       "Short Stories               151\n",
       "Christian Fiction           139\n",
       "Novels                      118\n",
       "Adult Fiction               113\n",
       "Humor                       102\n",
       "Contemporary                101\n",
       "Lgbt                         99\n",
       "Religion                     97\n",
       "Womens Fiction               93\n",
       "Autobiography                92\n",
       "                           ... \n",
       "European Literature           2\n",
       "Literary Fiction              2\n",
       "Science Fiction Fantasy       2\n",
       "Occult                        2\n",
       "Biblical Fiction              2\n",
       "Marriage                      2\n",
       "Adult                         2\n",
       "Lds                           1\n",
       "Fan Fiction                   1\n",
       "Death                         1\n",
       "Football                      1\n",
       "Epic                          1\n",
       "Relationships                 1\n",
       "Dark Fantasy                  1\n",
       "Speculative Fiction           1\n",
       "United States                 1\n",
       "Esoterica                     1\n",
       "Couture                       1\n",
       "Pulp                          1\n",
       "Social Science                1\n",
       "Dungeons and Dragons          1\n",
       "Own                           1\n",
       "Gardening                     1\n",
       "How To                        1\n",
       "Love                          1\n",
       "Medical                       1\n",
       "Design                        1\n",
       "Teaching                      1\n",
       "Did Not Finish                1\n",
       "Dc Comics                     1\n",
       "Name: genre_1, Length: 121, dtype: int64"
      ]
     },
     "execution_count": 171,
     "metadata": {},
     "output_type": "execute_result"
    }
   ],
   "source": [
    "goodreads_sample['genre_1'].value_counts()"
   ]
  },
  {
   "cell_type": "code",
   "execution_count": null,
   "metadata": {},
   "outputs": [],
   "source": []
  },
  {
   "cell_type": "code",
   "execution_count": null,
   "metadata": {},
   "outputs": [],
   "source": []
  },
  {
   "cell_type": "markdown",
   "metadata": {},
   "source": [
    "## Further Exploratory Data Analysis"
   ]
  },
  {
   "cell_type": "code",
   "execution_count": 172,
   "metadata": {},
   "outputs": [
    {
     "data": {
      "image/png": "[encoded data removed]",
      "text/plain": [
       "<Figure size 720x720 with 6 Axes>"
      ]
     },
     "metadata": {
      "image/png": {
       "height": 592,
       "width": 632
      }
     },
     "output_type": "display_data"
    }
   ],
   "source": [
    "#checking out the numeric columns\n",
    "goodreads_sample.hist(figsize=(10,10));"
   ]
  },
  {
   "cell_type": "code",
   "execution_count": null,
   "metadata": {},
   "outputs": [],
   "source": []
  },
  {
   "cell_type": "code",
   "execution_count": null,
   "metadata": {},
   "outputs": [],
   "source": []
  },
  {
   "cell_type": "markdown",
   "metadata": {},
   "source": [
    "## Saving the DataFrame"
   ]
  },
  {
   "cell_type": "code",
   "execution_count": 173,
   "metadata": {},
   "outputs": [],
   "source": [
    "#saving the sample dataframe to a csv\n",
    "goodreads_sample.to_csv('./datasets/goodreads_sample.csv')"
   ]
  },
  {
   "cell_type": "code",
   "execution_count": null,
   "metadata": {},
   "outputs": [],
   "source": []
  }
 ],
 "metadata": {
  "kernelspec": {
   "display_name": "Python 3",
   "language": "python",
   "name": "python3"
  },
  "language_info": {
   "codemirror_mode": {
    "name": "ipython",
    "version": 3
   },
   "file_extension": ".py",
   "mimetype": "text/x-python",
   "name": "python",
   "nbconvert_exporter": "python",
   "pygments_lexer": "ipython3",
   "version": "3.7.1"
  }
 },
 "nbformat": 4,
 "nbformat_minor": 2
}
